{
 "cells": [
  {
   "cell_type": "markdown",
   "metadata": {},
   "source": [
    "#### <b> Broadcasting </b></br> Lets you perform vectorized operations with different sizes, where NumPy will expand the smaller array to 'fit' the larger array <br> Arrays need to have compatible shapes (as long as there is 1 matching dimension)"
   ]
  },
  {
   "cell_type": "code",
   "execution_count": 3,
   "metadata": {},
   "outputs": [],
   "source": [
    "import numpy as np\n",
    "import pandas as pd"
   ]
  },
  {
   "cell_type": "markdown",
   "metadata": {},
   "source": [
    "##### <b> Compatible for Broadcasting </b></br> Array1 (3,3), Array2 (100,3,3) </br> Broadcasting Check: </br> Last dimension: Both arrays have size 3.  </br> Second-last dimension: Both arrays have size 3. </br> First dimension: Array1 has no dimension here, effectively 1, which can be stretched to match 100. </br> Result: Compatible, result shape (100, 3, 3)."
   ]
  },
  {
   "cell_type": "markdown",
   "metadata": {},
   "source": [
    "##### <b> Not Compatible </b></br> Array1 (4,3), Array2 (100,3,3) </br> Broadcasting Check: </br> Last dimension: Both arrays have size 3. </br> Second-last dimension: Array1 is 4, Array2 is 3. These dimensions are different and neither is 1, so they can't be stretched to match each other. </br> Result: Not compatible. </br>"
   ]
  },
  {
   "cell_type": "code",
   "execution_count": 6,
   "metadata": {},
   "outputs": [
    {
     "data": {
      "text/plain": [
       "array([[1, 2, 3],\n",
       "       [1, 2, 3],\n",
       "       [1, 2, 3]])"
      ]
     },
     "execution_count": 6,
     "metadata": {},
     "output_type": "execute_result"
    }
   ],
   "source": [
    "test_array = np.array([[1, 2, 3],[1, 2, 3],[1, 2, 3]])\n",
    "test_array"
   ]
  },
  {
   "cell_type": "code",
   "execution_count": 7,
   "metadata": {},
   "outputs": [
    {
     "data": {
      "text/plain": [
       "array([[2, 3, 4],\n",
       "       [2, 3, 4],\n",
       "       [2, 3, 4]])"
      ]
     },
     "execution_count": 7,
     "metadata": {},
     "output_type": "execute_result"
    }
   ],
   "source": [
    "# even with a scalar value (1) numpy creates a 3x3 array with 1 for each element to add to the test array\n",
    "test_array + 1"
   ]
  },
  {
   "cell_type": "code",
   "execution_count": 11,
   "metadata": {},
   "outputs": [
    {
     "data": {
      "text/plain": [
       "array([[4, 4, 4],\n",
       "       [4, 4, 4],\n",
       "       [4, 4, 4]])"
      ]
     },
     "execution_count": 11,
     "metadata": {},
     "output_type": "execute_result"
    }
   ],
   "source": [
    "# when adding a 1d array to a larger dimensional array, the 1d array is added to each row/element \n",
    "test_array + np.array([3, 2, 1])\n",
    "# this is what happens\n",
    "#[[1+3, 2+2, 3+1],\n",
    "# [1+3, 2+2, 3+1],\n",
    "# [1+3, 2+2, 3+1]]\n"
   ]
  },
  {
   "cell_type": "code",
   "execution_count": 14,
   "metadata": {},
   "outputs": [
    {
     "data": {
      "text/plain": [
       "array([[4, 5, 6],\n",
       "       [3, 4, 5],\n",
       "       [2, 3, 4]])"
      ]
     },
     "execution_count": 14,
     "metadata": {},
     "output_type": "execute_result"
    }
   ],
   "source": [
    "# when adding a 1d array to a larger dimensional array, the 1d array is added to each row/element \n",
    "test_array + np.array([3, 2, 1]).reshape(3,1)\n",
    "# this is what happens\n",
    "#[[1+3, 2+3, 3+3],\n",
    "# [1+2, 2+2, 3+2],\n",
    "# [1+1, 2+1, 3+1]]\n"
   ]
  },
  {
   "cell_type": "code",
   "execution_count": 16,
   "metadata": {},
   "outputs": [
    {
     "data": {
      "text/plain": [
       "array([[3, 4, 5],\n",
       "       [3, 4, 5],\n",
       "       [3, 4, 5]])"
      ]
     },
     "execution_count": 16,
     "metadata": {},
     "output_type": "execute_result"
    }
   ],
   "source": [
    "# can also broadcast between a row and a column dependding on shape\n",
    "test_array[0, :] + test_array[:, 1] .reshape(3,1)\n",
    "# this is what happens\n",
    "# [[1+2, 2+2, 3+2],\n",
    "#  [1+2, 2+2, 3+2],\n",
    "#  [1+2, 2+2, 3+2]]"
   ]
  },
  {
   "cell_type": "code",
   "execution_count": 17,
   "metadata": {},
   "outputs": [
    {
     "data": {
      "text/plain": [
       "array([[[2, 2, 2],\n",
       "        [2, 2, 2],\n",
       "        [2, 2, 2]],\n",
       "\n",
       "       [[2, 2, 2],\n",
       "        [2, 2, 2],\n",
       "        [2, 2, 2]]])"
      ]
     },
     "execution_count": 17,
     "metadata": {},
     "output_type": "execute_result"
    }
   ],
   "source": [
    "# adding a 3d array to a 1d array\n",
    "# 2 nested arrays each with 3 rows and 3 columns being added to 1d array\n",
    "np.ones((2, 3, 3), 'int') + np.ones((3), 'int')\n",
    "# [[[1+1, 1+1, 1+1],\n",
    "#   [1+1, 1+1, 1+1],\n",
    "#   [1+1, 1+1, 1+1]],\n",
    "\n",
    "#  [[1+1, 1+1, 1+1],\n",
    "#   [1+1, 1+1, 1+1],\n",
    "#   [1+1, 1+1, 1+1]]]"
   ]
  }
 ],
 "metadata": {
  "kernelspec": {
   "display_name": "Python 3",
   "language": "python",
   "name": "python3"
  },
  "language_info": {
   "codemirror_mode": {
    "name": "ipython",
    "version": 3
   },
   "file_extension": ".py",
   "mimetype": "text/x-python",
   "name": "python",
   "nbconvert_exporter": "python",
   "pygments_lexer": "ipython3",
   "version": "3.11.9"
  }
 },
 "nbformat": 4,
 "nbformat_minor": 2
}
