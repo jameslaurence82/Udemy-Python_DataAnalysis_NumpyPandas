{
 "cells": [
  {
   "cell_type": "markdown",
   "metadata": {},
   "source": [
    "##### <b> Apply Method </b></br> .apply() lets you apply custom fucntions to Pandas Series/Dataframes </br> - not as efficient as native functions because not vectorized"
   ]
  },
  {
   "cell_type": "code",
   "execution_count": 1,
   "metadata": {},
   "outputs": [],
   "source": [
    "import numpy as np\n",
    "import pandas as pd"
   ]
  },
  {
   "cell_type": "code",
   "execution_count": 2,
   "metadata": {},
   "outputs": [],
   "source": [
    "# by createing a function and applying it to a series, it is less efficient than pandas builtin methods\n",
    "def discount(price):\n",
    "    if price > 20:\n",
    "        return round(price * .9, 2)\n",
    "    return price"
   ]
  },
  {
   "cell_type": "code",
   "execution_count": 3,
   "metadata": {},
   "outputs": [
    {
     "data": {
      "text/plain": [
       "0     3.99\n",
       "1     5.99\n",
       "2    22.99\n",
       "3     7.99\n",
       "4    33.99\n",
       "dtype: float64"
      ]
     },
     "execution_count": 3,
     "metadata": {},
     "output_type": "execute_result"
    }
   ],
   "source": [
    "# generate price series\n",
    "clean_wholesale = pd.Series([3.99, 5.99, 22.99, 7.99, 33.99])\n",
    "clean_wholesale"
   ]
  },
  {
   "cell_type": "code",
   "execution_count": 4,
   "metadata": {},
   "outputs": [
    {
     "data": {
      "text/plain": [
       "0     3.99\n",
       "1     5.99\n",
       "2    20.69\n",
       "3     7.99\n",
       "4    30.59\n",
       "dtype: float64"
      ]
     },
     "execution_count": 4,
     "metadata": {},
     "output_type": "execute_result"
    }
   ],
   "source": [
    "# use .apply() method to apply custom function\n",
    "clean_wholesale.apply(discount)\n",
    "# discount applied to index 3 and 4"
   ]
  },
  {
   "cell_type": "code",
   "execution_count": 5,
   "metadata": {},
   "outputs": [
    {
     "data": {
      "text/plain": [
       "0     3.99\n",
       "1     5.99\n",
       "2    20.69\n",
       "3     7.99\n",
       "4    30.59\n",
       "dtype: float64"
      ]
     },
     "execution_count": 5,
     "metadata": {},
     "output_type": "execute_result"
    }
   ],
   "source": [
    "# Apply method not ideal, if need to do one off, can utilize lambda function with apply method\n",
    "clean_wholesale.apply(lambda x: round(x * .9, 2) if x > 20 else x)"
   ]
  },
  {
   "cell_type": "markdown",
   "metadata": {},
   "source": [
    "##### <b> Pandas Where Method </b></br> .where() method returns series/dataframe values based on logical condition </br> &nbsp;df.where(logical test, </br>&nbsp;&nbsp;&nbsp;&nbsp;&nbsp;&nbsp; values to return if False, </br> &nbsp;&nbsp;&nbsp;&nbsp;&nbsp;&nbsp;&nbsp;inplace=False)"
   ]
  },
  {
   "cell_type": "code",
   "execution_count": 6,
   "metadata": {},
   "outputs": [
    {
     "data": {
      "text/plain": [
       "0     3.99\n",
       "1     5.99\n",
       "2    22.99\n",
       "3     7.99\n",
       "4    33.99\n",
       "dtype: float64"
      ]
     },
     "execution_count": 6,
     "metadata": {},
     "output_type": "execute_result"
    }
   ],
   "source": [
    "clean_wholesale"
   ]
  },
  {
   "cell_type": "code",
   "execution_count": 7,
   "metadata": {},
   "outputs": [
    {
     "data": {
      "text/plain": [
       "0     3.99\n",
       "1     5.99\n",
       "2    20.69\n",
       "3     7.99\n",
       "4    30.59\n",
       "dtype: float64"
      ]
     },
     "execution_count": 7,
     "metadata": {},
     "output_type": "execute_result"
    }
   ],
   "source": [
    "# pandas .where method only returns values if the logical test is false\n",
    "clean_wholesale.where(clean_wholesale <= 20, round(clean_wholesale * .9, 2))"
   ]
  },
  {
   "cell_type": "code",
   "execution_count": 10,
   "metadata": {},
   "outputs": [
    {
     "data": {
      "text/plain": [
       "0     3.99\n",
       "1     5.99\n",
       "2    20.69\n",
       "3     7.99\n",
       "4    30.59\n",
       "dtype: float64"
      ]
     },
     "execution_count": 10,
     "metadata": {},
     "output_type": "execute_result"
    }
   ],
   "source": [
    "# can utilize the tilde to invert the boolean values and turn this into a value if true expression i.e. (~(clean_wholesale > 20)\n",
    "clean_wholesale.where(~(clean_wholesale > 20), round(clean_wholesale * .9, 2))"
   ]
  },
  {
   "cell_type": "code",
   "execution_count": 14,
   "metadata": {},
   "outputs": [
    {
     "data": {
      "text/plain": [
       "0     3.99\n",
       "1     5.99\n",
       "2    20.69\n",
       "3     7.99\n",
       "4    30.59\n",
       "dtype: float64"
      ]
     },
     "execution_count": 14,
     "metadata": {},
     "output_type": "execute_result"
    }
   ],
   "source": [
    "# NumPy's where function is often more covenient and useful than pandas method however the output will be in a numpy array so convert into series\n",
    "pd.Series(np.where(clean_wholesale <= 20, clean_wholesale, round(clean_wholesale* .9, 2)))"
   ]
  }
 ],
 "metadata": {
  "kernelspec": {
   "display_name": "base",
   "language": "python",
   "name": "python3"
  },
  "language_info": {
   "codemirror_mode": {
    "name": "ipython",
    "version": 3
   },
   "file_extension": ".py",
   "mimetype": "text/x-python",
   "name": "python",
   "nbconvert_exporter": "python",
   "pygments_lexer": "ipython3",
   "version": "3.11.9"
  }
 },
 "nbformat": 4,
 "nbformat_minor": 2
}
