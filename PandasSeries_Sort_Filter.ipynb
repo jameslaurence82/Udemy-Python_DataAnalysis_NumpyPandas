{
 "cells": [
  {
   "cell_type": "markdown",
   "metadata": {},
   "source": [
    "##### <b> Filtering Series </b></br> - Filter a series by passing a logical test in the .loc[] accessor"
   ]
  },
  {
   "cell_type": "code",
   "execution_count": 18,
   "metadata": {},
   "outputs": [],
   "source": [
    "import numpy as np\n",
    "import pandas as pd"
   ]
  },
  {
   "cell_type": "code",
   "execution_count": 19,
   "metadata": {},
   "outputs": [
    {
     "data": {
      "text/plain": [
       "coffee       0\n",
       "coffee       5\n",
       "tea        155\n",
       "coconut      0\n",
       "sugar      518\n",
       "Name: Sales, dtype: int64"
      ]
     },
     "execution_count": 19,
     "metadata": {},
     "output_type": "execute_result"
    }
   ],
   "source": [
    "# a list can be assigned to the index of a series as long as the value count matches\n",
    "# for data analysis, default integer index is best\n",
    "sales = [0, 5, 155, 0, 518]\n",
    "items = ['coffee', 'coffee', 'tea', 'coconut', 'sugar']\n",
    "# assigning items to the indexed_sales index column values\n",
    "sales_series = pd.Series(sales, index=items, name='Sales')\n",
    "sales_series"
   ]
  },
  {
   "cell_type": "code",
   "execution_count": 20,
   "metadata": {},
   "outputs": [
    {
     "data": {
      "text/plain": [
       "coffee      5\n",
       "tea       155\n",
       "sugar     518\n",
       "Name: Sales, dtype: int64"
      ]
     },
     "execution_count": 20,
     "metadata": {},
     "output_type": "execute_result"
    }
   ],
   "source": [
    "# filtering a series using .loc[] accessor\n",
    "sales_series.loc[sales_series > 0]"
   ]
  },
  {
   "cell_type": "code",
   "execution_count": 21,
   "metadata": {},
   "outputs": [
    {
     "data": {
      "text/plain": [
       "coffee    5\n",
       "Name: Sales, dtype: int64"
      ]
     },
     "execution_count": 21,
     "metadata": {},
     "output_type": "execute_result"
    }
   ],
   "source": [
    "# create a mask for multiple logical conditions\n",
    "mask = (sales_series > 0) & (sales_series.index == 'coffee') \n",
    "sales_series[mask]"
   ]
  },
  {
   "cell_type": "markdown",
   "metadata": {},
   "source": [
    "### **Operators and Methods to Create Boolean Filters for Logical Tests**\n",
    "\n",
    "| Description                 | Python Operator | Pandas Method |\n",
    "|-----------------------------|-----------------|---------------|\n",
    "| Equal                       | `==`            | `.eq()`       |\n",
    "| Not Equal                   | `!=`            | `.ne()`       |\n",
    "| Less Than or Equal          | `<=`            | `.le()`       |\n",
    "| Less Than                   | `<`             | `.lt()`       |\n",
    "| Greater Than or Equal       | `>=`            | `.ge()`       |\n",
    "| Greater Than                | `>`             | `.gt()`       |\n",
    "| Membership Test             | `in`            | `isin()`      |\n",
    "| Inverse Membership Test     | `not in`        | `~.isin()`    |\n",
    "##### .isin() method syntax: pd[`column_name_to_be_searched`].isin([`list of EXACT search strings`]) otherwise use .str.contains(`string characters`)"
   ]
  },
  {
   "cell_type": "code",
   "execution_count": 22,
   "metadata": {},
   "outputs": [
    {
     "data": {
      "text/plain": [
       "array([ True,  True,  True, False, False])"
      ]
     },
     "execution_count": 22,
     "metadata": {},
     "output_type": "execute_result"
    }
   ],
   "source": [
    "# Membership Test\n",
    "sales_series.index.isin(['coffee', 'tea'])"
   ]
  },
  {
   "cell_type": "code",
   "execution_count": 23,
   "metadata": {},
   "outputs": [
    {
     "data": {
      "text/plain": [
       "array([False, False, False,  True,  True])"
      ]
     },
     "execution_count": 23,
     "metadata": {},
     "output_type": "execute_result"
    }
   ],
   "source": [
    "# Inverse Membership Test use the tilde infront of series/dataframe\n",
    "~sales_series.index.isin(['coffee', 'tea'])"
   ]
  },
  {
   "cell_type": "code",
   "execution_count": 24,
   "metadata": {},
   "outputs": [
    {
     "data": {
      "text/plain": [
       "coffee     0\n",
       "coffee     5\n",
       "coconut    0\n",
       "Name: Sales, dtype: int64"
      ]
     },
     "execution_count": 24,
     "metadata": {},
     "output_type": "execute_result"
    }
   ],
   "source": [
    "# logical membership test using .loc accessor and boolean mask\n",
    "sales_series.loc[sales_series.isin([0,5])]"
   ]
  },
  {
   "cell_type": "code",
   "execution_count": 25,
   "metadata": {},
   "outputs": [
    {
     "data": {
      "text/plain": [
       "tea      155\n",
       "sugar    518\n",
       "Name: Sales, dtype: int64"
      ]
     },
     "execution_count": 25,
     "metadata": {},
     "output_type": "execute_result"
    }
   ],
   "source": [
    "# logical inverse membership test using .loc accessor and boolean mask\n",
    "sales_series.loc[~sales_series.isin([0,5])]"
   ]
  },
  {
   "cell_type": "code",
   "execution_count": 26,
   "metadata": {},
   "outputs": [
    {
     "data": {
      "text/plain": [
       "tea      155\n",
       "sugar    518\n",
       "Name: Sales, dtype: int64"
      ]
     },
     "execution_count": 26,
     "metadata": {},
     "output_type": "execute_result"
    }
   ],
   "source": [
    "sales_series.loc[sales_series >= 155]"
   ]
  },
  {
   "cell_type": "code",
   "execution_count": 27,
   "metadata": {},
   "outputs": [
    {
     "data": {
      "text/plain": [
       "coffee     0\n",
       "coffee     5\n",
       "coconut    0\n",
       "Name: Sales, dtype: int64"
      ]
     },
     "execution_count": 27,
     "metadata": {},
     "output_type": "execute_result"
    }
   ],
   "source": [
    "# to do inverse of sales_series.loc[sales_series >= 155] can use (less than or equal) or tilde on entire logical condition\n",
    "sales_series.loc[~(sales_series >= 155)]"
   ]
  },
  {
   "cell_type": "markdown",
   "metadata": {},
   "source": [
    "##### <b> Sorting Series </b></br> Sort can be done by values or their index in ascending order by default </br> - sort values: .sortvalues() </br> - sort index: .sort_index()"
   ]
  },
  {
   "cell_type": "code",
   "execution_count": 29,
   "metadata": {},
   "outputs": [
    {
     "data": {
      "text/plain": [
       "coffee       0\n",
       "coconut      0\n",
       "coffee       5\n",
       "tea        155\n",
       "sugar      518\n",
       "Name: Sales, dtype: int64"
      ]
     },
     "execution_count": 29,
     "metadata": {},
     "output_type": "execute_result"
    }
   ],
   "source": [
    "# default value sort (ascending)\n",
    "sales_series.sort_values()"
   ]
  },
  {
   "cell_type": "code",
   "execution_count": 30,
   "metadata": {},
   "outputs": [
    {
     "data": {
      "text/plain": [
       "sugar      518\n",
       "tea        155\n",
       "coffee       5\n",
       "coffee       0\n",
       "coconut      0\n",
       "Name: Sales, dtype: int64"
      ]
     },
     "execution_count": 30,
     "metadata": {},
     "output_type": "execute_result"
    }
   ],
   "source": [
    "# descending value sort\n",
    "sales_series.sort_values(ascending=False)"
   ]
  },
  {
   "cell_type": "code",
   "execution_count": 32,
   "metadata": {},
   "outputs": [
    {
     "data": {
      "text/plain": [
       "coconut      0\n",
       "coffee       0\n",
       "coffee       5\n",
       "sugar      518\n",
       "tea        155\n",
       "Name: Sales, dtype: int64"
      ]
     },
     "execution_count": 32,
     "metadata": {},
     "output_type": "execute_result"
    }
   ],
   "source": [
    "# default index sort (ascending)\n",
    "sales_series.sort_index()"
   ]
  },
  {
   "cell_type": "code",
   "execution_count": 33,
   "metadata": {},
   "outputs": [
    {
     "data": {
      "text/plain": [
       "tea        155\n",
       "sugar      518\n",
       "coffee       0\n",
       "coffee       5\n",
       "coconut      0\n",
       "Name: Sales, dtype: int64"
      ]
     },
     "execution_count": 33,
     "metadata": {},
     "output_type": "execute_result"
    }
   ],
   "source": [
    "# descending index sort\n",
    "sales_series.sort_index(ascending=False)"
   ]
  }
 ],
 "metadata": {
  "kernelspec": {
   "display_name": "base",
   "language": "python",
   "name": "python3"
  },
  "language_info": {
   "codemirror_mode": {
    "name": "ipython",
    "version": 3
   },
   "file_extension": ".py",
   "mimetype": "text/x-python",
   "name": "python",
   "nbconvert_exporter": "python",
   "pygments_lexer": "ipython3",
   "version": "3.11.9"
  }
 },
 "nbformat": 4,
 "nbformat_minor": 2
}
