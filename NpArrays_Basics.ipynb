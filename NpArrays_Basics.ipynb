{
 "cells": [
  {
   "cell_type": "markdown",
   "metadata": {},
   "source": [
    "#### **NumPy Array Basics**"
   ]
  },
  {
   "cell_type": "code",
   "execution_count": 2,
   "metadata": {},
   "outputs": [],
   "source": [
    "import numpy as np\n",
    "import pandas as pd"
   ]
  },
  {
   "cell_type": "markdown",
   "metadata": {},
   "source": [
    "##### Numpy Arrays are fixed-sized containers </br> - Store only 1 datatype, (mixed are object -string) </br> - 1 dimensional or multidimensional </br> - Array elements can be modified, but array size cannot change"
   ]
  },
  {
   "cell_type": "code",
   "execution_count": 3,
   "metadata": {},
   "outputs": [
    {
     "data": {
      "text/plain": [
       "array([   0,    5,  155,    0,  518,    0, 1827,  616,  317,  325],\n",
       "      dtype=int64)"
      ]
     },
     "execution_count": 3,
     "metadata": {},
     "output_type": "execute_result"
    }
   ],
   "source": [
    "## List to numpy array example\n",
    "# List\n",
    "sales = [0, 5, 155, 0, 518, 0, 1827, 616, 317, 325]\n",
    "# np function will convert list as numpy array\n",
    "sales_array = np.array(sales, dtype = np.int64)\n",
    "sales_array"
   ]
  },
  {
   "cell_type": "markdown",
   "metadata": {},
   "source": [
    "##### Numpy Arrays Key Properties </br> - ndim: Number of dimensions (axes) in array </br> - shape: size of array for each dimension </br> - size: total number of elements in array </br> - dtype: data type of elements in array"
   ]
  },
  {
   "cell_type": "code",
   "execution_count": 4,
   "metadata": {},
   "outputs": [
    {
     "data": {
      "text/plain": [
       "numpy.ndarray"
      ]
     },
     "execution_count": 4,
     "metadata": {},
     "output_type": "execute_result"
    }
   ],
   "source": [
    "# display type of array\n",
    "type(sales_array)\n",
    "# numpy arrays are ndarray Python Data type: stands for n-dimensional array"
   ]
  },
  {
   "cell_type": "code",
   "execution_count": 5,
   "metadata": {},
   "outputs": [
    {
     "name": "stdout",
     "output_type": "stream",
     "text": [
      "ndim: 1\n",
      "shape: (10,)\n",
      "size: 10\n",
      "dtype: int64\n"
     ]
    }
   ],
   "source": [
    "# display different aspects of numpy sales_array\n",
    "print(f\"ndim: {sales_array.ndim}\")\n",
    "print(f\"shape: {sales_array.shape}\")\n",
    "print(f\"size: {sales_array.size}\")\n",
    "print(f\"dtype: {sales_array.dtype}\")"
   ]
  },
  {
   "cell_type": "code",
   "execution_count": 6,
   "metadata": {},
   "outputs": [],
   "source": [
    "# ndim: 1      -> Array has 1 dimension\n",
    "# shape: (10,) -> Dimension has a size of 10\n",
    "# size: 10     -> Array has 10 elements in total\n",
    "# dtype: int64 -> Elements stored as 64-bit Integers"
   ]
  },
  {
   "cell_type": "code",
   "execution_count": 7,
   "metadata": {},
   "outputs": [
    {
     "data": {
      "text/plain": [
       "array([[   0,    5,  155,    0,  518],\n",
       "       [   0, 1827,  616,  317,  325]], dtype=int64)"
      ]
     },
     "execution_count": 7,
     "metadata": {},
     "output_type": "execute_result"
    }
   ],
   "source": [
    "# Original lists has nested elements which means [[],[]] is the format\n",
    "# nested lists must be of equal length\n",
    "sales2d = [[0, 5, 155, 0, 518], [0, 1827, 616, 317, 325]]\n",
    "# np function will convert nested list as numpy array as dtype4 int64\n",
    "sales2d_array = np.array(sales2d, dtype = np.int64)\n",
    "sales2d_array"
   ]
  },
  {
   "cell_type": "code",
   "execution_count": 8,
   "metadata": {},
   "outputs": [
    {
     "name": "stdout",
     "output_type": "stream",
     "text": [
      "ndim: 2\n",
      "shape: (2, 5)\n",
      "size: 10\n",
      "dtype: int64\n"
     ]
    }
   ],
   "source": [
    "# display different aspects of numpy sales2d_arrays \n",
    "print(f\"ndim: {sales2d_array.ndim}\")\n",
    "print(f\"shape: {sales2d_array.shape}\")\n",
    "print(f\"size: {sales2d_array.size}\")\n",
    "print(f\"dtype: {sales2d_array.dtype}\")"
   ]
  },
  {
   "cell_type": "code",
   "execution_count": 9,
   "metadata": {},
   "outputs": [],
   "source": [
    "# ndim: 2      -> Array has 2 dimension\n",
    "# shape: (2, 5)-> First Dimension has size 2 (rows), Second Dimension has Size of 5 (columns)\n",
    "# size: 10     -> Array has 10 elements in total\n",
    "# dtype: int64 -> Elements stored as 64-bit Integers"
   ]
  },
  {
   "cell_type": "code",
   "execution_count": 10,
   "metadata": {},
   "outputs": [
    {
     "data": {
      "text/plain": [
       "array([0, 1, 2, 3, 4])"
      ]
     },
     "execution_count": 10,
     "metadata": {},
     "output_type": "execute_result"
    }
   ],
   "source": [
    "# Create 1d numpy array using range function\n",
    "array = np.array(range(5))\n",
    "array"
   ]
  },
  {
   "cell_type": "code",
   "execution_count": 11,
   "metadata": {},
   "outputs": [
    {
     "data": {
      "text/plain": [
       "array([[0, 1, 2, 3, 4],\n",
       "       [0, 1, 2, 3, 4]])"
      ]
     },
     "execution_count": 11,
     "metadata": {},
     "output_type": "execute_result"
    }
   ],
   "source": [
    "# Create 1d numpy array using range function\n",
    "array2d = np.array([range(5), range(5)])\n",
    "array2d"
   ]
  },
  {
   "cell_type": "code",
   "execution_count": 12,
   "metadata": {},
   "outputs": [
    {
     "data": {
      "text/plain": [
       "array(['I', 'Love', 'Python'], dtype='<U6')"
      ]
     },
     "execution_count": 12,
     "metadata": {},
     "output_type": "execute_result"
    }
   ],
   "source": [
    "np.array(['I', 'Love', 'Python'])\n",
    "# displays dtype as '<U6' because strings are max of 6 characters"
   ]
  },
  {
   "cell_type": "markdown",
   "metadata": {},
   "source": [
    "### **NumPy Array Creation**"
   ]
  },
  {
   "cell_type": "markdown",
   "metadata": {},
   "source": [
    "##### <b> Alternative to Converting lists is to create arrays using functions</b></br> - ones: Creates an array of ones of a given size, as float by default </br> &nbsp;&nbsp; np.ones((rows,cols),dtype) </br> - zeros: Creates an array of zeros of a given size, as float by default </br> &nbsp;&nbsp; np.zeros((rows,cols),dtype) </br> - arange: creates an array of integers with a start, stop, step size (only stop is required, and not included) </br> &nbsp;&nbsp; np.arange(start, stop, step) </br> - linspace: creates an array of floats with a start, stop value where the step will be decided by the quantity of n elements (stop value is included) </br> &nbsp;&nbsp; np.linspace(start, stop, n) </br> - reshape: changes an array into the specified dimension (if compatible) </br> &nbsp;&nbsp; np.array.reshape(rows,cols)"
   ]
  },
  {
   "cell_type": "code",
   "execution_count": null,
   "metadata": {},
   "outputs": [
    {
     "data": {
      "text/plain": [
       "array([1., 1., 1., 1.])"
      ]
     },
     "metadata": {},
     "output_type": "display_data"
    }
   ],
   "source": [
    "# np.ones((rows,cols),dtype)\n",
    "np.ones(4,)"
   ]
  },
  {
   "cell_type": "code",
   "execution_count": null,
   "metadata": {},
   "outputs": [
    {
     "data": {
      "text/plain": [
       "array([[0, 0, 0, 0, 0],\n",
       "       [0, 0, 0, 0, 0]])"
      ]
     },
     "metadata": {},
     "output_type": "display_data"
    }
   ],
   "source": [
    "# np.zeros((rows,cols),dtype)\n",
    "np.zeros((2, 5), dtype = int)"
   ]
  },
  {
   "cell_type": "code",
   "execution_count": null,
   "metadata": {},
   "outputs": [
    {
     "data": {
      "text/plain": [
       "array([0, 1, 2, 3, 4, 5, 6, 7, 8, 9])"
      ]
     },
     "metadata": {},
     "output_type": "display_data"
    }
   ],
   "source": [
    "# np.arange(start,stop,step)\n",
    "# default start = 1, default step = 1\n",
    "np.arange(10)"
   ]
  },
  {
   "cell_type": "code",
   "execution_count": null,
   "metadata": {},
   "outputs": [
    {
     "data": {
      "text/plain": [
       "array([ 2,  4,  6,  8, 10])"
      ]
     },
     "metadata": {},
     "output_type": "display_data"
    }
   ],
   "source": [
    "# np.arange(start,stop,step)\n",
    "# set start, set step\n",
    "np.arange(2, 11, 2)"
   ]
  },
  {
   "cell_type": "code",
   "execution_count": null,
   "metadata": {},
   "outputs": [
    {
     "data": {
      "text/plain": [
       "array([  0.,  25.,  50.,  75., 100.])"
      ]
     },
     "metadata": {},
     "output_type": "display_data"
    }
   ],
   "source": [
    "# np.linspace(start,stop,n)\n",
    "np.linspace(0, 100, 5)"
   ]
  },
  {
   "cell_type": "code",
   "execution_count": null,
   "metadata": {},
   "outputs": [
    {
     "data": {
      "text/plain": [
       "array([[1, 3],\n",
       "       [5, 7]])"
      ]
     },
     "metadata": {},
     "output_type": "display_data"
    }
   ],
   "source": [
    "# np.array.reshape(rows,cols)\n",
    "np.arange(1, 9, 2).reshape(2, 2)"
   ]
  },
  {
   "cell_type": "code",
   "execution_count": null,
   "metadata": {},
   "outputs": [
    {
     "data": {
      "text/plain": [
       "array([1, 1, 1, 1])"
      ]
     },
     "metadata": {},
     "output_type": "display_data"
    }
   ],
   "source": [
    "# np.ones((rows,cols),dtype) can have dtype explicitly set instead of default float\n",
    "np.ones(4,'int') # or use np.ones(4, dtype='int')"
   ]
  },
  {
   "cell_type": "code",
   "execution_count": null,
   "metadata": {},
   "outputs": [
    {
     "data": {
      "text/plain": [
       "array([0, 0, 0, 0, 0, 0, 0, 0, 0, 0, 0, 0, 0, 0, 0, 0, 0, 0, 0, 0, 0, 0,\n",
       "       0, 0, 0, 0, 0, 0, 0, 0, 0, 0, 0, 0, 0, 0, 0, 0, 0, 0, 0, 0, 0, 0,\n",
       "       0, 0, 0, 0, 0, 0, 0, 0, 0, 0, 0, 0, 0, 0, 0, 0, 0, 0, 0, 0, 0, 0,\n",
       "       0, 0, 0, 0, 0, 0, 0, 0, 0, 0, 0, 0, 0, 0, 0, 0, 0, 0, 0, 0, 0, 0,\n",
       "       0, 0, 0, 0, 0, 0, 0, 0, 0, 0, 0, 0])"
      ]
     },
     "metadata": {},
     "output_type": "display_data"
    }
   ],
   "source": [
    "# np.zeros((rows,cols),dtype)\n",
    "np.zeros(100, 'int')"
   ]
  },
  {
   "cell_type": "code",
   "execution_count": null,
   "metadata": {},
   "outputs": [
    {
     "data": {
      "text/plain": [
       "array([[0, 0, 0, 0, 0, 0, 0, 0, 0, 0, 0, 0, 0, 0, 0, 0, 0, 0, 0, 0],\n",
       "       [0, 0, 0, 0, 0, 0, 0, 0, 0, 0, 0, 0, 0, 0, 0, 0, 0, 0, 0, 0],\n",
       "       [0, 0, 0, 0, 0, 0, 0, 0, 0, 0, 0, 0, 0, 0, 0, 0, 0, 0, 0, 0],\n",
       "       [0, 0, 0, 0, 0, 0, 0, 0, 0, 0, 0, 0, 0, 0, 0, 0, 0, 0, 0, 0],\n",
       "       [0, 0, 0, 0, 0, 0, 0, 0, 0, 0, 0, 0, 0, 0, 0, 0, 0, 0, 0, 0]])"
      ]
     },
     "metadata": {},
     "output_type": "display_data"
    }
   ],
   "source": [
    "# with reshape for np.zeros(100) the reshape values must be multiply by each other to equal 100 to be compatible\n",
    "reshapedemo = np.zeros(100, 'int')\n",
    "reshapedemo.reshape(5,20)"
   ]
  },
  {
   "cell_type": "code",
   "execution_count": null,
   "metadata": {},
   "outputs": [
    {
     "data": {
      "text/plain": [
       "array([[0, 0, 0, 0, 0, 0, 0, 0, 0, 0, 0, 0, 0, 0, 0, 0, 0, 0, 0, 0, 0, 0,\n",
       "        0, 0, 0, 0, 0, 0, 0, 0, 0, 0, 0, 0, 0, 0, 0, 0, 0, 0, 0, 0, 0, 0,\n",
       "        0, 0, 0, 0, 0, 0],\n",
       "       [0, 0, 0, 0, 0, 0, 0, 0, 0, 0, 0, 0, 0, 0, 0, 0, 0, 0, 0, 0, 0, 0,\n",
       "        0, 0, 0, 0, 0, 0, 0, 0, 0, 0, 0, 0, 0, 0, 0, 0, 0, 0, 0, 0, 0, 0,\n",
       "        0, 0, 0, 0, 0, 0]])"
      ]
     },
     "metadata": {},
     "output_type": "display_data"
    }
   ],
   "source": [
    "# with reshape for np.zeros(100) the reshape values must be multiply by each other to equal 100 to be compatible\n",
    "reshapedemo.reshape(2, 50)"
   ]
  },
  {
   "cell_type": "code",
   "execution_count": null,
   "metadata": {},
   "outputs": [
    {
     "data": {
      "text/plain": [
       "array([  0.,  10.,  20.,  30.,  40.,  50.,  60.,  70.,  80.,  90., 100.])"
      ]
     },
     "metadata": {},
     "output_type": "display_data"
    }
   ],
   "source": [
    "# np.linspace(start,stop,n) for evenly spaced intervals\n",
    "np.linspace(0, 100, 11)"
   ]
  },
  {
   "cell_type": "markdown",
   "metadata": {},
   "source": [
    "##### <b> Random Number Generation</b></br> Can create random number arrays from variety of distributions using numpy functions and methods </br> - default_rng: Creates a random number generator and seed is used for reproducibility </br> &nbsp;&nbsp; np.default_rng(seed) </br> - random: returns n random numbers from a uniform distributions between 0 and 1 </br> &nbsp;&nbsp; rng.random(n) </br> - normal: returns n random numbers from a normal distribution with a given mean and standard deviation </br> &nbsp;&nbsp; rng.normal(mean,stdev,n)"
   ]
  },
  {
   "cell_type": "code",
   "execution_count": null,
   "metadata": {},
   "outputs": [
    {
     "data": {
      "text/plain": [
       "array([0.22733602, 0.31675834, 0.79736546, 0.67625467, 0.39110955,\n",
       "       0.33281393, 0.59830875, 0.18673419, 0.67275604, 0.94180287])"
      ]
     },
     "metadata": {},
     "output_type": "display_data"
    }
   ],
   "source": [
    "# Import the default random number generator from NumPy.\n",
    "from numpy.random import default_rng\n",
    "\n",
    "# Initialize the random number generator with a specific seed for reproducibility.\n",
    "rng = default_rng(12345)\n",
    "\n",
    "# Generate an array of 10 random numbers between 0 and 1.\n",
    "random_array = rng.random(10)\n",
    "random_array"
   ]
  },
  {
   "cell_type": "code",
   "execution_count": null,
   "metadata": {},
   "outputs": [
    {
     "data": {
      "text/plain": [
       "array([7, 2, 9, 9, 7, 6, 1, 0, 2, 4, 0, 8, 4, 6, 2, 3, 1, 7, 7, 2, 7, 0,\n",
       "       3, 1, 7, 3, 4, 4, 4, 2, 5, 8, 4, 1, 0, 1, 0, 0, 1, 5, 8, 8, 6, 6,\n",
       "       3, 9, 6, 7, 7, 8, 7, 9, 5, 5, 2, 9, 5, 4, 3, 2, 6, 4, 5, 6, 8, 3,\n",
       "       6, 9, 4, 2, 2, 3, 6, 2, 8, 3, 0, 0, 0, 6, 3, 2, 6, 0, 5, 6, 0, 1,\n",
       "       3, 3, 9, 4, 6, 1, 8, 2, 7, 4, 4, 4], dtype=int64)"
      ]
     },
     "metadata": {},
     "output_type": "display_data"
    }
   ],
   "source": [
    "rng.integers(0, 10, 100)"
   ]
  },
  {
   "cell_type": "code",
   "execution_count": null,
   "metadata": {},
   "outputs": [
    {
     "data": {
      "text/plain": [
       "array([3.57617496, 6.26372846, 4.12933826, 4.74082677, 4.92465669,\n",
       "       4.25911535, 3.6322073 , 5.6488928 , 5.36105811, 3.04713694])"
      ]
     },
     "metadata": {},
     "output_type": "display_data"
    }
   ],
   "source": [
    "# Create a random number generator seeded with 12345 for consistent results.\n",
    "rng = default_rng(12345)\n",
    "\n",
    "# Set the mean and standard deviation for the normal distribution.\n",
    "mean, stddev = 5, 1\n",
    "\n",
    "# Generate an array of 10 random numbers from a normal distribution with specified mean and stddev.\n",
    "random_normal = rng.normal(mean, stddev, size=10)\n",
    "random_normal\n"
   ]
  },
  {
   "cell_type": "code",
   "execution_count": null,
   "metadata": {},
   "outputs": [
    {
     "data": {
      "text/plain": [
       "array([49.64364597, 52.37024865, 47.92573119, 50.4885825 , 41.79791082,\n",
       "       45.71370588, 53.44140894, 44.22735208, 53.25226195, 43.05820024])"
      ]
     },
     "metadata": {},
     "output_type": "display_data"
    }
   ],
   "source": [
    "rng.normal(50, 5, 10)"
   ]
  },
  {
   "cell_type": "markdown",
   "metadata": {},
   "source": [
    "##### <b> Indexing and Slicing Arrays One dimensional arrays </b></br> - array[index]: indexing to access a single element (0-indexed)</br> - array[start:stop:step size]: slicing to access a series of elements (stop is not included)"
   ]
  },
  {
   "cell_type": "code",
   "execution_count": null,
   "metadata": {},
   "outputs": [
    {
     "data": {
      "text/plain": [
       "array(['fruits', 'vegetables', 'cereal', 'dairy', 'eggs', 'snacks',\n",
       "       'beverages', 'coffee', 'tea', 'spices'], dtype='<U10')"
      ]
     },
     "metadata": {},
     "output_type": "display_data"
    }
   ],
   "source": [
    "# generate 1 dimensional array\n",
    "product_array = np.array(['fruits', 'vegetables', 'cereal', 'dairy', 'eggs', 'snacks', 'beverages', 'coffee', 'tea', 'spices'])\n",
    "\n",
    "product_array"
   ]
  },
  {
   "cell_type": "code",
   "execution_count": null,
   "metadata": {},
   "outputs": [
    {
     "name": "stdout",
     "output_type": "stream",
     "text": [
      "vegetables\n",
      "spices\n"
     ]
    }
   ],
   "source": [
    "# display index 1 (element 2)\n",
    "print(product_array[1])\n",
    "# display last index (last Element)\n",
    "print(product_array[-1])"
   ]
  },
  {
   "cell_type": "code",
   "execution_count": null,
   "metadata": {},
   "outputs": [
    {
     "data": {
      "text/plain": [
       "array(['fruits', 'vegetables', 'cereal', 'dairy', 'eggs'], dtype='<U10')"
      ]
     },
     "metadata": {},
     "output_type": "display_data"
    }
   ],
   "source": [
    "# display first 5 elements of array\n",
    "product_array[:5]"
   ]
  },
  {
   "cell_type": "code",
   "execution_count": null,
   "metadata": {},
   "outputs": [
    {
     "data": {
      "text/plain": [
       "array(['snacks', 'coffee', 'spices'], dtype='<U10')"
      ]
     },
     "metadata": {},
     "output_type": "display_data"
    }
   ],
   "source": [
    "# displays element 6 as start, with no stop,  using 2 steps (grabs every other element, until end of array)\n",
    "product_array[5::2]"
   ]
  },
  {
   "cell_type": "markdown",
   "metadata": {},
   "source": [
    "##### <b> Indexing and Slicing Arrays Two dimensional arrays </b></br> - array[row index, column index]: indexing to access a single element (0-indexed)</br> - array[start:stop:step size, start:stop:step size]: slicing to access a series of elements (stop is not included)"
   ]
  },
  {
   "cell_type": "code",
   "execution_count": null,
   "metadata": {},
   "outputs": [
    {
     "data": {
      "text/plain": [
       "array([['fruits', 'vegetables', 'cereal', 'dairy', 'eggs'],\n",
       "       ['snacks', 'beverages', 'coffee', 'tea', 'spices']], dtype='<U10')"
      ]
     },
     "metadata": {},
     "output_type": "display_data"
    }
   ],
   "source": [
    "# reshape 1 dimensional array to become 2 dimensional array\n",
    "product_array2d = product_array.reshape(2, 5)\n",
    "\n",
    "product_array2d"
   ]
  },
  {
   "cell_type": "code",
   "execution_count": null,
   "metadata": {},
   "outputs": [
    {
     "data": {
      "text/plain": [
       "'coffee'"
      ]
     },
     "metadata": {},
     "output_type": "display_data"
    }
   ],
   "source": [
    "# single element indexing for 'coffee' at row index 1 and column index 2 of the 2D array\n",
    "product_array2d[1,2]"
   ]
  },
  {
   "cell_type": "code",
   "execution_count": null,
   "metadata": {},
   "outputs": [
    {
     "data": {
      "text/plain": [
       "array([['cereal', 'dairy', 'eggs'],\n",
       "       ['coffee', 'tea', 'spices']], dtype='<U10')"
      ]
     },
     "metadata": {},
     "output_type": "display_data"
    }
   ],
   "source": [
    "# display all rows, but only a slice of the columns at the third element\n",
    "product_array2d[:, 2:]"
   ]
  },
  {
   "cell_type": "code",
   "execution_count": null,
   "metadata": {},
   "outputs": [
    {
     "data": {
      "text/plain": [
       "array([['snacks', 'beverages', 'coffee', 'tea', 'spices']], dtype='<U10')"
      ]
     },
     "metadata": {},
     "output_type": "display_data"
    }
   ],
   "source": [
    "# display second row, and all columns (indicated by the comma)\n",
    "product_array2d[1:, :]"
   ]
  },
  {
   "cell_type": "code",
   "execution_count": null,
   "metadata": {},
   "outputs": [
    {
     "data": {
      "text/plain": [
       "array([['fruits', 'vegetables', 'cereal', 'dairy', 'eggs'],\n",
       "       ['snacks', 'beverages', 'coffee', 'tea', 'spices']], dtype='<U10')"
      ]
     },
     "metadata": {},
     "output_type": "display_data"
    }
   ],
   "source": [
    "# grab first 2 rows of array -> start at first row and stop at Second row without step\n",
    "product_array2d[:2, :]"
   ]
  },
  {
   "cell_type": "code",
   "execution_count": null,
   "metadata": {},
   "outputs": [
    {
     "data": {
      "text/plain": [
       "array(['fruits', 'snacks'], dtype='<U10')"
      ]
     },
     "metadata": {},
     "output_type": "display_data"
    }
   ],
   "source": [
    "# grab the entire first column. [all rows:, first column for each row] \n",
    "product_array2d[0:, 0]"
   ]
  },
  {
   "cell_type": "code",
   "execution_count": null,
   "metadata": {},
   "outputs": [
    {
     "data": {
      "text/plain": [
       "'beverages'"
      ]
     },
     "metadata": {},
     "output_type": "display_data"
    }
   ],
   "source": [
    "# grab second element of second row\n",
    "product_array2d[1,1]"
   ]
  },
  {
   "cell_type": "markdown",
   "metadata": {},
   "source": [
    "### <b> Array Operations </b></br>"
   ]
  },
  {
   "cell_type": "markdown",
   "metadata": {},
   "source": [
    "##### <b> Arithmetic operators can be used to perform array operations </b></br> - Array operations are applied via vectorization and broadcasting which eliminates need to loop through arrays elements"
   ]
  },
  {
   "cell_type": "code",
   "execution_count": null,
   "metadata": {},
   "outputs": [
    {
     "data": {
      "text/plain": [
       "array([[   0,    5,  155,    0,  518],\n",
       "       [   0, 1827,  616,  317,  325]])"
      ]
     },
     "metadata": {},
     "output_type": "display_data"
    }
   ],
   "source": [
    "# generate nested list\n",
    "sales = [[0, 5, 155, 0, 518], [0, 1827, 616, 317, 325]]\n",
    "\n",
    "# convert in np array\n",
    "sales_array = np.array(sales)\n",
    "sales_array"
   ]
  },
  {
   "cell_type": "code",
   "execution_count": null,
   "metadata": {},
   "outputs": [
    {
     "data": {
      "text/plain": [
       "array([[   2,    7,  157,    2,  520],\n",
       "       [   2, 1829,  618,  319,  327]])"
      ]
     },
     "metadata": {},
     "output_type": "display_data"
    }
   ],
   "source": [
    "# with + 2 -> 2 is added to each element of the np array\n",
    "sales_array + 2"
   ]
  },
  {
   "cell_type": "code",
   "execution_count": null,
   "metadata": {},
   "outputs": [
    {
     "data": {
      "text/plain": [
       "array([     0,   9135,  95480,      0, 168350])"
      ]
     },
     "metadata": {},
     "output_type": "display_data"
    }
   ],
   "source": [
    "# Assign all elements of first row to quantity\n",
    "quantity = sales_array[0, :]\n",
    "# Assign all elements of second row to price\n",
    "price = sales_array[1, :]\n",
    "\n",
    "# corresponding elements are multiplied together\n",
    "quantity * price"
   ]
  },
  {
   "cell_type": "code",
   "execution_count": null,
   "metadata": {},
   "outputs": [
    {
     "data": {
      "text/plain": [
       "array([39, 39, 93, 86, 48, 46, 48, 30, 11, 57], dtype=int64)"
      ]
     },
     "metadata": {},
     "output_type": "display_data"
    }
   ],
   "source": [
    "# generate random number generator with 616 seed\n",
    "rng = np.random.default_rng(616)\n",
    "\n",
    "# assign random integers to inventory variable start 0, end 100, 10 random grabbed\n",
    "inventory = rng.integers(0, 100, 10)\n",
    "inventory"
   ]
  },
  {
   "cell_type": "code",
   "execution_count": null,
   "metadata": {},
   "outputs": [
    {
     "data": {
      "text/plain": [
       "array([ 15,  15,  69,  62,  24,  22,  24,   6, -13,  33], dtype=int64)"
      ]
     },
     "metadata": {},
     "output_type": "display_data"
    }
   ],
   "source": [
    "# minus 24 from each array element\n",
    "inventory - 24"
   ]
  },
  {
   "cell_type": "code",
   "execution_count": null,
   "metadata": {},
   "outputs": [
    {
     "data": {
      "text/plain": [
       "array([19.5, 19.5, 46.5, 43. , 24. , 23. , 24. , 15. ,  5.5, 28.5])"
      ]
     },
     "metadata": {},
     "output_type": "display_data"
    }
   ],
   "source": [
    "# view half the inventory amounts -> divide 2 from each array element\n",
    "inventory / 2"
   ]
  },
  {
   "cell_type": "code",
   "execution_count": null,
   "metadata": {},
   "outputs": [],
   "source": [
    "# create 11 random price values (which will be between 0 and 1) so multiple by 10 and then round to 2 decimal places\n",
    "# price = (rng.random(11)*10).round(2)\n",
    "# this operation will have error because array shapes do not match 10 vs 11\n",
    "# price * inventory"
   ]
  },
  {
   "cell_type": "code",
   "execution_count": null,
   "metadata": {},
   "outputs": [
    {
     "data": {
      "text/plain": [
       "array([0.89, 8.82, 7.32, 7.32, 5.62, 3.4 , 0.63, 3.57, 2.03, 4.31])"
      ]
     },
     "metadata": {},
     "output_type": "display_data"
    }
   ],
   "source": [
    "# create 10 random price values (which will be between 0 and 1) so multiple by 10 and then round to 2 decimal places\n",
    "price = (rng.random(10)*10).round(2)\n",
    "\n",
    "price"
   ]
  },
  {
   "cell_type": "code",
   "execution_count": null,
   "metadata": {},
   "outputs": [
    {
     "data": {
      "text/plain": [
       "2520.47"
      ]
     },
     "metadata": {},
     "output_type": "display_data"
    }
   ],
   "source": [
    "# operations can occurs between arrays as long as they are the same shape\n",
    "# price * inventory\n",
    "\n",
    "# the is a sum method to easily add all element values\n",
    "(price * inventory).sum().round(2)"
   ]
  },
  {
   "cell_type": "code",
   "execution_count": null,
   "metadata": {},
   "outputs": [
    {
     "data": {
      "text/plain": [
       "[39, 39, 93, 86, 48, 46, 48, 30, 11, 57]"
      ]
     },
     "metadata": {},
     "output_type": "display_data"
    }
   ],
   "source": [
    "# np arrays can be cast to a list\n",
    "inventory_list = list(inventory)\n",
    "inventory_list"
   ]
  },
  {
   "cell_type": "markdown",
   "metadata": {},
   "source": [
    "##### <b> Filtering Arrays </b></br> You can filter arrays by indexing them with a logical test </br> - Only the array elements in positions where the logical test returns True are returned"
   ]
  },
  {
   "cell_type": "code",
   "execution_count": null,
   "metadata": {},
   "outputs": [
    {
     "data": {
      "text/plain": [
       "array([[   0,    5,  155,    0,  518],\n",
       "       [   0, 1827,  616,  317,  325]])"
      ]
     },
     "metadata": {},
     "output_type": "display_data"
    }
   ],
   "source": [
    "sales_array"
   ]
  },
  {
   "cell_type": "code",
   "execution_count": null,
   "metadata": {},
   "outputs": [
    {
     "data": {
      "text/plain": [
       "array([[False,  True,  True, False,  True],\n",
       "       [False,  True,  True,  True,  True]])"
      ]
     },
     "metadata": {},
     "output_type": "display_data"
    }
   ],
   "source": [
    "# perform logical test in NumPy array will return a Boolean array with the results of logical test on each array element\n",
    "\n",
    "# logical test to see which array elements do not equal zero\n",
    "sales_array != 0"
   ]
  },
  {
   "cell_type": "code",
   "execution_count": null,
   "metadata": {},
   "outputs": [
    {
     "data": {
      "text/plain": [
       "array([   5,  155,  518, 1827,  616,  317,  325])"
      ]
     },
     "metadata": {},
     "output_type": "display_data"
    }
   ],
   "source": [
    "# assign the True values to new array (using boolean filter on array to pull True values depending on logical condition) assigns elements that have a value that isn't zero\n",
    "actual_sales_array = sales_array[sales_array != 0]\n",
    "actual_sales_array"
   ]
  },
  {
   "cell_type": "markdown",
   "metadata": {},
   "source": [
    "##### Can be filtered with multiple logical tests using & (and) | (or)"
   ]
  },
  {
   "cell_type": "code",
   "execution_count": null,
   "metadata": {},
   "outputs": [
    {
     "data": {
      "text/plain": [
       "array([  0,   5,   0,   0, 616])"
      ]
     },
     "metadata": {},
     "output_type": "display_data"
    }
   ],
   "source": [
    "multiple_logic1 = sales_array[(sales_array == 616) | (sales_array < 100)]\n",
    "multiple_logic1"
   ]
  },
  {
   "cell_type": "code",
   "execution_count": null,
   "metadata": {},
   "outputs": [
    {
     "data": {
      "text/plain": [
       "array([155, 317, 325])"
      ]
     },
     "metadata": {},
     "output_type": "display_data"
    }
   ],
   "source": [
    "multiple_logic2 = sales_array[(sales_array > 100) & (sales_array < 500)]\n",
    "multiple_logic2"
   ]
  },
  {
   "cell_type": "markdown",
   "metadata": {},
   "source": [
    "##### Multiple logical tests can be added to variable and used as Boolean mask"
   ]
  },
  {
   "cell_type": "code",
   "execution_count": null,
   "metadata": {},
   "outputs": [
    {
     "data": {
      "text/plain": [
       "array([  0,   0, 518,   0, 616])"
      ]
     },
     "metadata": {},
     "output_type": "display_data"
    }
   ],
   "source": [
    "# can create variable that will handle the boolean mask for filtering multiple logic conditions\n",
    "mask1 = ((sales_array < 1500) & (sales_array > 500)) | (sales_array == 0)\n",
    "\n",
    "# apply boolean mask variable to array\n",
    "multiple_logic_mask = sales_array[mask1]\n",
    "multiple_logic_mask"
   ]
  },
  {
   "cell_type": "markdown",
   "metadata": {},
   "source": [
    "##### Values from One array can be used to filter another array (if arrays are same shape)"
   ]
  },
  {
   "cell_type": "code",
   "execution_count": null,
   "metadata": {},
   "outputs": [
    {
     "data": {
      "text/plain": [
       "array([  0,   0, 518,   0, 616])"
      ]
     },
     "metadata": {},
     "output_type": "display_data"
    }
   ],
   "source": [
    "# call multiple_logic_mask\n",
    "multiple_logic_mask"
   ]
  },
  {
   "cell_type": "code",
   "execution_count": null,
   "metadata": {},
   "outputs": [
    {
     "data": {
      "text/plain": [
       "array(['fruits', 'vegetables', 'cereal', 'dairy', 'eggs'], dtype='<U10')"
      ]
     },
     "metadata": {},
     "output_type": "display_data"
    }
   ],
   "source": [
    "# creation of product array\n",
    "product_array = np.array(['fruits', 'vegetables', 'cereal', 'dairy', 'eggs'])\n",
    "product_array"
   ]
  },
  {
   "cell_type": "code",
   "execution_count": null,
   "metadata": {},
   "outputs": [
    {
     "data": {
      "text/plain": [
       "array(['cereal', 'eggs'], dtype='<U10')"
      ]
     },
     "metadata": {},
     "output_type": "display_data"
    }
   ],
   "source": [
    "# array to be filtered[array used as filter with logic]\n",
    "# this will filter out values that are zero from the array\n",
    "filtered_product = product_array[multiple_logic_mask > 0]\n",
    "filtered_product"
   ]
  },
  {
   "cell_type": "code",
   "execution_count": null,
   "metadata": {},
   "outputs": [
    {
     "data": {
      "text/plain": [
       "array([ 0,  1,  2,  3,  4,  5,  6,  7,  8,  9, 10, 11, 12, 13, 14, 15, 16,\n",
       "       17, 18, 19])"
      ]
     },
     "metadata": {},
     "output_type": "display_data"
    }
   ],
   "source": [
    "# another boolean mask example\n",
    "demo_array = np.arange(0,20)\n",
    "demo_array"
   ]
  },
  {
   "cell_type": "code",
   "execution_count": null,
   "metadata": {},
   "outputs": [
    {
     "data": {
      "text/plain": [
       "array(['even', 'odd', 'even', 'odd', 'even', 'odd', 'even', 'odd', 'even',\n",
       "       'odd', 'even', 'odd', 'even', 'odd', 'even', 'odd', 'even', 'odd',\n",
       "       'even', 'odd'], dtype='<U4')"
      ]
     },
     "metadata": {},
     "output_type": "display_data"
    }
   ],
   "source": [
    "# string array 'even', 'odd' 10 ten times to match demo_array shape\n",
    "even_odd = np.array(['even', 'odd']*10)\n",
    "even_odd"
   ]
  },
  {
   "cell_type": "code",
   "execution_count": null,
   "metadata": {},
   "outputs": [
    {
     "data": {
      "text/plain": [
       "array(['even', 'even', 'even', 'even', 'even', 'even', 'even', 'even',\n",
       "       'even', 'even'], dtype='<U4')"
      ]
     },
     "metadata": {},
     "output_type": "display_data"
    }
   ],
   "source": [
    "even_odd[even_odd != 'odd']"
   ]
  },
  {
   "cell_type": "code",
   "execution_count": null,
   "metadata": {},
   "outputs": [
    {
     "data": {
      "text/plain": [
       "array([ 0,  1,  0,  3,  0,  5,  0,  7,  0,  9,  0, 11,  0, 13,  0, 15,  0,\n",
       "       17,  0, 19])"
      ]
     },
     "metadata": {},
     "output_type": "display_data"
    }
   ],
   "source": [
    "# sets elements in demo_array to 0 where the condition even_odd != 'odd' evaluates to true.\n",
    "demo_array[even_odd != 'odd'] = 0\n",
    "demo_array"
   ]
  },
  {
   "cell_type": "markdown",
   "metadata": {},
   "source": [
    "##### <b> Where Function </b></br> - where() NumPy function performs logical test and returns a given value if test is True and returns a value if test is False </br> &nbsp;&nbsp; np.where(logical test, Value if True, Value if False)"
   ]
  },
  {
   "cell_type": "code",
   "execution_count": null,
   "metadata": {},
   "outputs": [
    {
     "data": {
      "text/plain": [
       "array([ 12, 102,  18,   0,   0])"
      ]
     },
     "metadata": {},
     "output_type": "display_data"
    }
   ],
   "source": [
    "# creation of inventory array\n",
    "inventory_array = np.array([12, 102, 18, 0, 0])\n",
    "inventory_array"
   ]
  },
  {
   "cell_type": "code",
   "execution_count": null,
   "metadata": {},
   "outputs": [
    {
     "data": {
      "text/plain": [
       "array(['fruits', 'vegetables', 'cereal', 'dairy', 'eggs'], dtype='<U10')"
      ]
     },
     "metadata": {},
     "output_type": "display_data"
    }
   ],
   "source": [
    "# calling product array\n",
    "product_array"
   ]
  },
  {
   "cell_type": "code",
   "execution_count": null,
   "metadata": {},
   "outputs": [
    {
     "data": {
      "text/plain": [
       "array(['In Stock', 'In Stock', 'In Stock', 'Out of Stock', 'Out of Stock'],\n",
       "      dtype='<U12')"
      ]
     },
     "metadata": {},
     "output_type": "display_data"
    }
   ],
   "source": [
    "# using NumPy where() function to filter array\n",
    "# np.where(logical test, Value if True, Value if False)\n",
    "\n",
    "np.where(inventory_array > 0, 'In Stock', 'Out of Stock')"
   ]
  },
  {
   "cell_type": "code",
   "execution_count": null,
   "metadata": {},
   "outputs": [
    {
     "data": {
      "text/plain": [
       "array(['In Stock', 'In Stock', 'In Stock', 'dairy', 'eggs'], dtype='<U10')"
      ]
     },
     "metadata": {},
     "output_type": "display_data"
    }
   ],
   "source": [
    "# using NumPy where() function to filter array to return value and value from filtered Array\n",
    "# np.where(logical test, Value if True, Value if False)\n",
    "\n",
    "np.where(inventory_array > 0, 'In Stock', product_array)"
   ]
  },
  {
   "cell_type": "code",
   "execution_count": null,
   "metadata": {},
   "outputs": [
    {
     "data": {
      "text/plain": [
       "array([ 0,  1,  2,  3,  4,  5,  6,  7,  8,  9, 10, 11, 12, 13, 14, 15, 16,\n",
       "       17, 18, 19])"
      ]
     },
     "metadata": {},
     "output_type": "display_data"
    }
   ],
   "source": [
    "# chaining .np.where() conditions\n",
    "demo_array1 = np.arange(0,20)\n",
    "demo_array1"
   ]
  },
  {
   "cell_type": "code",
   "execution_count": null,
   "metadata": {},
   "outputs": [
    {
     "data": {
      "text/plain": [
       "array(['even', 'odd', 'even', 'odd', 'even', 'odd', 'even', 'odd', 'even',\n",
       "       '9', 'even', 'odd', 'even', 'odd', 'even', 'odd', 'even', 'odd',\n",
       "       'even', 'odd'], dtype='<U11')"
      ]
     },
     "metadata": {},
     "output_type": "display_data"
    }
   ],
   "source": [
    "# chaining .np.where() conditions\n",
    "# label elements in demo_array as 'even' if divisible by 2, 'odd' otherwise, and replaces elements with the value 9 if they're equal to 9\n",
    "np.where(demo_array % 2 == 0, 'even', np.where(demo_array == 9, 9, 'odd'))"
   ]
  },
  {
   "cell_type": "markdown",
   "metadata": {},
   "source": [
    "##### Modify Array values - not used often as data analyst"
   ]
  },
  {
   "cell_type": "code",
   "execution_count": null,
   "metadata": {},
   "outputs": [
    {
     "data": {
      "text/plain": [
       "array([  0,   0, 518,   3, 616])"
      ]
     },
     "metadata": {},
     "output_type": "display_data"
    }
   ],
   "source": [
    "# copy array values to new array\n",
    "modify_array = multiple_logic_mask.copy()\n",
    "# array([  0,   0, 518,   0, 616])\n",
    "\n",
    "# modify values is done by calling the index and assigning value\n",
    "modify_array[3] = 3\n",
    "modify_array\n",
    "# third index is changed to 3\n",
    "#array([  0,   0, 518,   3, 616])\n"
   ]
  },
  {
   "cell_type": "markdown",
   "metadata": {},
   "source": [
    "##### <b>Array Aggregation Methods </b></br> Let you Calculate Metrics </br> &nbsp;&nbsp; sum, mean, max, min, stddev"
   ]
  },
  {
   "cell_type": "code",
   "execution_count": null,
   "metadata": {},
   "outputs": [
    {
     "data": {
      "text/plain": [
       "array([[   0,    5,  155,    0,  518],\n",
       "       [   0, 1827,  616,  317,  325]])"
      ]
     },
     "metadata": {},
     "output_type": "display_data"
    }
   ],
   "source": [
    "# call sales_array\n",
    "sales_array"
   ]
  },
  {
   "cell_type": "markdown",
   "metadata": {},
   "source": [
    "#### NumPy Aggregation Functions\n",
    "\n",
    "| Method                       | Description                                    |\n",
    "|------------------------------|------------------------------------------------|\n",
    "| `sum()`                      | Sum of all the elements in the array.          |\n",
    "| `prod()`                     | Product of all the elements in the array.      |\n",
    "| `min()`                      | Minimum value among the elements in the array. |\n",
    "| `max()`                      | Maximum value among the elements in the array. |\n",
    "| `mean()`                     | Mean of the array elements.                    |\n",
    "| `median()`                   | Median of the array elements.                  |\n",
    "| `std()`                      | Standard deviation of the array elements.     |\n",
    "| `var()`                      | Variance of the array elements.                |\n",
    "| `percentile()`               | Specific percentile of the array elements. Use arguments like 25 for the 25th percentile, etc. |\n",
    "| `sqrt()`                     | Square root of each element in the array.      |\n",
    "\n",
    "**Note**: To apply `median()`, `percentile()`, and `sqrt()`, use NumPy directly e.g., `np.median(sales_array)`, `np.percentile(sales_array, 25)`, and `np.sqrt(sales_array)`.\n"
   ]
  },
  {
   "cell_type": "code",
   "execution_count": null,
   "metadata": {},
   "outputs": [
    {
     "name": "stdout",
     "output_type": "stream",
     "text": [
      "Array Elements Sum: 3763\n",
      "Array Elements Product: 0\n",
      "Array Elements Minimum: 0\n",
      "Array Elements Maximum: 1827\n",
      "Array Elements Mean: 376.3\n",
      "Array Elements Median: 236.0\n",
      "Array Elements Standard Deviation: 529.1366647662965\n",
      "Array Elements Variance: 279985.61\n",
      "Array Elements 25th Percentile: 1.25\n",
      "Array Elements 75th Percentile: 469.75\n",
      "Array Elements Square Root:\n"
     ]
    },
    {
     "data": {
      "text/plain": [
       "array([[ 0.        ,  2.23606798, 12.4498996 ,  0.        , 22.75961335],\n",
       "       [ 0.        , 42.74342055, 24.81934729, 17.80449381, 18.02775638]])"
      ]
     },
     "metadata": {},
     "output_type": "display_data"
    }
   ],
   "source": [
    "# these return the aggregated values from all values in the array\n",
    "print(f'Array Elements Sum: {sales_array.sum()}')\n",
    "print(f'Array Elements Product: {sales_array.prod()}')\n",
    "print(f'Array Elements Minimum: {sales_array.min()}')\n",
    "print(f'Array Elements Maximum: {sales_array.max()}')\n",
    "print(f'Array Elements Mean: {sales_array.mean()}')\n",
    "print(f'Array Elements Median: {np.median(sales_array)}')\n",
    "print(f'Array Elements Standard Deviation: {sales_array.std()}')\n",
    "print(f'Array Elements Variance: {sales_array.var()}')\n",
    "# Percentile function requires the Percentile amount 25th, 75th percentile as argument\n",
    "print(f'Array Elements 25th Percentile: {np.percentile(sales_array, 25)}')\n",
    "print(f'Array Elements 75th Percentile: {np.percentile(sales_array, 75)}')\n",
    "# square root function does each element of array\n",
    "print('Array Elements Square Root:') \n",
    "np.sqrt(sales_array)"
   ]
  },
  {
   "cell_type": "markdown",
   "metadata": {},
   "source": [
    "##### <b> Array Aggregation Methods across Rows or Columns </b></br>&nbsp;&nbsp;axis=0: Aggregate across rows .sum(axis=0) </br> &nbsp;&nbsp;axis=1: Aggregate across columns .sum(axis=1)"
   ]
  },
  {
   "cell_type": "code",
   "execution_count": null,
   "metadata": {},
   "outputs": [
    {
     "name": "stdout",
     "output_type": "stream",
     "text": [
      "Array Row Elements Sum:\n"
     ]
    },
    {
     "data": {
      "text/plain": [
       "array([ 678, 3085])"
      ]
     },
     "metadata": {},
     "output_type": "display_data"
    }
   ],
   "source": [
    "# display sum for rows axis=1\n",
    "print('Array Row Elements Sum:')\n",
    "sales_array.sum(axis=1)"
   ]
  },
  {
   "cell_type": "code",
   "execution_count": null,
   "metadata": {},
   "outputs": [
    {
     "name": "stdout",
     "output_type": "stream",
     "text": [
      "Array Column Elements Sum:\n"
     ]
    },
    {
     "data": {
      "text/plain": [
       "array([   0,  317,  330,  771, 2345])"
      ]
     },
     "metadata": {},
     "output_type": "display_data"
    }
   ],
   "source": [
    "# display sum for columns axis=0\n",
    "print('Array Column Elements Sum:')\n",
    "sales_array.sum(axis=0)"
   ]
  },
  {
   "cell_type": "markdown",
   "metadata": {},
   "source": [
    "##### <b> Sorting Array </b></br> - sort() will sort arrays in place </br> &nbsp;&nbsp; use the axis argument to specify the dimension to sort by"
   ]
  },
  {
   "cell_type": "code",
   "execution_count": null,
   "metadata": {},
   "outputs": [],
   "source": [
    "# copy original sales_array for row and column sorting\n",
    "sales_array1 = sales_array.copy()\n",
    "sales_array2 = sales_array.copy()"
   ]
  },
  {
   "cell_type": "code",
   "execution_count": null,
   "metadata": {},
   "outputs": [
    {
     "data": {
      "text/plain": [
       "array([[   0,    0,    5,  155,  518],\n",
       "       [   0,  317,  325,  616, 1827]])"
      ]
     },
     "metadata": {},
     "output_type": "display_data"
    }
   ],
   "source": [
    "# calling sort method will sort multidimensional array row by row as default which is axis=1\n",
    "sales_array1.sort()\n",
    "sales_array1"
   ]
  },
  {
   "cell_type": "code",
   "execution_count": null,
   "metadata": {},
   "outputs": [
    {
     "data": {
      "text/plain": [
       "array([[   0,    5,  155,    0,  325],\n",
       "       [   0, 1827,  616,  317,  518]])"
      ]
     },
     "metadata": {},
     "output_type": "display_data"
    }
   ],
   "source": [
    "# to sort by columns use axis=0\n",
    "sales_array2.sort(axis=0)\n",
    "sales_array2"
   ]
  },
  {
   "cell_type": "code",
   "execution_count": null,
   "metadata": {},
   "outputs": [
    {
     "data": {
      "text/plain": [
       "array([[   0,    0,    5,  155,  518],\n",
       "       [   0,  317,  325,  616, 1827]])"
      ]
     },
     "metadata": {},
     "output_type": "display_data"
    }
   ],
   "source": [
    "# using np.sort(array_name) will sort but not change order of original array unlike .sort() method\n",
    "np.sort(sales_array)"
   ]
  },
  {
   "cell_type": "code",
   "execution_count": null,
   "metadata": {},
   "outputs": [
    {
     "data": {
      "text/plain": [
       "array([[   0,    5,  155,    0,  518],\n",
       "       [   0, 1827,  616,  317,  325]])"
      ]
     },
     "metadata": {},
     "output_type": "display_data"
    }
   ],
   "source": [
    "#original sort order of sales_array is maintained\n",
    "sales_array"
   ]
  },
  {
   "cell_type": "markdown",
   "metadata": {},
   "source": [
    "#### <b> Broadcasting </b></br> Lets you perform vectorized operations with different sizes, where NumPy will expand the smaller array to 'fit' the larger array <br> Arrays need to have compatible shapes (as long as there is 1 matching dimension)"
   ]
  },
  {
   "cell_type": "markdown",
   "metadata": {},
   "source": [
    "##### <b> Compatible for Broadcasting </b></br> Array1 (3,3), Array2 (100,3,3) </br> Broadcasting Check: </br> Last dimension: Both arrays have size 3.  </br> Second-last dimension: Both arrays have size 3. </br> First dimension: Array1 has no dimension here, effectively 1, which can be stretched to match 100. </br> Result: Compatible, result shape (100, 3, 3)."
   ]
  },
  {
   "cell_type": "markdown",
   "metadata": {},
   "source": [
    "##### <b> Not Compatible </b></br> Array1 (4,3), Array2 (100,3,3) </br> Broadcasting Check: </br> Last dimension: Both arrays have size 3. </br> Second-last dimension: Array1 is 4, Array2 is 3. These dimensions are different and neither is 1, so they can't be stretched to match each other. </br> Result: Not compatible. </br>"
   ]
  },
  {
   "cell_type": "code",
   "execution_count": null,
   "metadata": {},
   "outputs": [
    {
     "data": {
      "text/plain": [
       "array([[1, 2, 3],\n",
       "       [1, 2, 3],\n",
       "       [1, 2, 3]])"
      ]
     },
     "metadata": {},
     "output_type": "display_data"
    }
   ],
   "source": [
    "test_array = np.array([[1, 2, 3],[1, 2, 3],[1, 2, 3]])\n",
    "test_array"
   ]
  },
  {
   "cell_type": "code",
   "execution_count": null,
   "metadata": {},
   "outputs": [
    {
     "data": {
      "text/plain": [
       "array([[2, 3, 4],\n",
       "       [2, 3, 4],\n",
       "       [2, 3, 4]])"
      ]
     },
     "metadata": {},
     "output_type": "display_data"
    }
   ],
   "source": [
    "# even with a scalar value (1) numpy creates a 3x3 array with 1 for each element to add to the test array\n",
    "test_array + 1"
   ]
  },
  {
   "cell_type": "code",
   "execution_count": null,
   "metadata": {},
   "outputs": [
    {
     "data": {
      "text/plain": [
       "array([[4, 4, 4],\n",
       "       [4, 4, 4],\n",
       "       [4, 4, 4]])"
      ]
     },
     "metadata": {},
     "output_type": "display_data"
    }
   ],
   "source": [
    "# when adding a 1d array to a larger dimensional array, the 1d array is added to each row/element \n",
    "test_array + np.array([3, 2, 1])\n",
    "# this is what happens\n",
    "#[[1+3, 2+2, 3+1],\n",
    "# [1+3, 2+2, 3+1],\n",
    "# [1+3, 2+2, 3+1]]\n"
   ]
  },
  {
   "cell_type": "code",
   "execution_count": null,
   "metadata": {},
   "outputs": [
    {
     "data": {
      "text/plain": [
       "array([[4, 5, 6],\n",
       "       [3, 4, 5],\n",
       "       [2, 3, 4]])"
      ]
     },
     "metadata": {},
     "output_type": "display_data"
    }
   ],
   "source": [
    "# when adding a 1d array to a larger dimensional array, the 1d array is added to each row/element \n",
    "test_array + np.array([3, 2, 1]).reshape(3,1)\n",
    "# this is what happens\n",
    "#[[1+3, 2+3, 3+3],\n",
    "# [1+2, 2+2, 3+2],\n",
    "# [1+1, 2+1, 3+1]]\n"
   ]
  },
  {
   "cell_type": "code",
   "execution_count": null,
   "metadata": {},
   "outputs": [
    {
     "data": {
      "text/plain": [
       "array([[3, 4, 5],\n",
       "       [3, 4, 5],\n",
       "       [3, 4, 5]])"
      ]
     },
     "metadata": {},
     "output_type": "display_data"
    }
   ],
   "source": [
    "# can also broadcast between a row and a column dependding on shape\n",
    "test_array[0, :] + test_array[:, 1] .reshape(3,1)\n",
    "# this is what happens\n",
    "# [[1+2, 2+2, 3+2],\n",
    "#  [1+2, 2+2, 3+2],\n",
    "#  [1+2, 2+2, 3+2]]"
   ]
  },
  {
   "cell_type": "code",
   "execution_count": null,
   "metadata": {},
   "outputs": [
    {
     "data": {
      "text/plain": [
       "array([[[2, 2, 2],\n",
       "        [2, 2, 2],\n",
       "        [2, 2, 2]],\n",
       "\n",
       "       [[2, 2, 2],\n",
       "        [2, 2, 2],\n",
       "        [2, 2, 2]]])"
      ]
     },
     "metadata": {},
     "output_type": "display_data"
    }
   ],
   "source": [
    "# adding a 3d array to a 1d array\n",
    "# 2 nested arrays each with 3 rows and 3 columns being added to 1d array\n",
    "np.ones((2, 3, 3), 'int') + np.ones((3), 'int')\n",
    "# [[[1+1, 1+1, 1+1],\n",
    "#   [1+1, 1+1, 1+1],\n",
    "#   [1+1, 1+1, 1+1]],\n",
    "\n",
    "#  [[1+1, 1+1, 1+1],\n",
    "#   [1+1, 1+1, 1+1],\n",
    "#   [1+1, 1+1, 1+1]]]"
   ]
  }
 ],
 "metadata": {
  "kernelspec": {
   "display_name": "Python 3",
   "language": "python",
   "name": "python3"
  },
  "language_info": {
   "codemirror_mode": {
    "name": "ipython",
    "version": 3
   },
   "file_extension": ".py",
   "mimetype": "text/x-python",
   "name": "python",
   "nbconvert_exporter": "python",
   "pygments_lexer": "ipython3",
   "version": "3.11.9"
  }
 },
 "nbformat": 4,
 "nbformat_minor": 2
}
