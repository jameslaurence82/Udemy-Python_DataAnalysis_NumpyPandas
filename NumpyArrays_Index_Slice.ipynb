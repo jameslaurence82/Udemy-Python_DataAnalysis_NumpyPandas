{
 "cells": [
  {
   "cell_type": "markdown",
   "metadata": {},
   "source": [
    "##### <b> Indexing and Slicing Arrays One dimensional arrays </b></br> - array[index]: indexing to access a single element (0-indexed)</br> - array[start:stop:step size]: slicing to access a series of elements (stop is not included)"
   ]
  },
  {
   "cell_type": "code",
   "execution_count": 2,
   "metadata": {},
   "outputs": [],
   "source": [
    "import numpy as np\n",
    "import pandas as pd"
   ]
  },
  {
   "cell_type": "code",
   "execution_count": 44,
   "metadata": {},
   "outputs": [
    {
     "data": {
      "text/plain": [
       "array(['fruits', 'vegetables', 'cereal', 'dairy', 'eggs', 'snacks',\n",
       "       'beverages', 'coffee', 'tea', 'spices'], dtype='<U10')"
      ]
     },
     "execution_count": 44,
     "metadata": {},
     "output_type": "execute_result"
    }
   ],
   "source": [
    "# generate 1 dimensional array\n",
    "product_array = np.array(['fruits', 'vegetables', 'cereal', 'dairy', 'eggs', 'snacks', 'beverages', 'coffee', 'tea', 'spices'])\n",
    "\n",
    "product_array"
   ]
  },
  {
   "cell_type": "code",
   "execution_count": 48,
   "metadata": {},
   "outputs": [
    {
     "name": "stdout",
     "output_type": "stream",
     "text": [
      "vegetables\n",
      "spices\n"
     ]
    }
   ],
   "source": [
    "# display index 1 (element 2)\n",
    "print(product_array[1])\n",
    "# display last index (last Element)\n",
    "print(product_array[-1])"
   ]
  },
  {
   "cell_type": "code",
   "execution_count": 49,
   "metadata": {},
   "outputs": [
    {
     "data": {
      "text/plain": [
       "array(['fruits', 'vegetables', 'cereal', 'dairy', 'eggs'], dtype='<U10')"
      ]
     },
     "execution_count": 49,
     "metadata": {},
     "output_type": "execute_result"
    }
   ],
   "source": [
    "# display first 5 elements of array\n",
    "product_array[:5]"
   ]
  },
  {
   "cell_type": "code",
   "execution_count": 51,
   "metadata": {},
   "outputs": [
    {
     "data": {
      "text/plain": [
       "array(['snacks', 'coffee', 'spices'], dtype='<U10')"
      ]
     },
     "execution_count": 51,
     "metadata": {},
     "output_type": "execute_result"
    }
   ],
   "source": [
    "# displays element 6 as start, with no stop,  using 2 steps (grabs every other element, until end of array)\n",
    "product_array[5::2]"
   ]
  },
  {
   "cell_type": "markdown",
   "metadata": {},
   "source": [
    "##### <b> Indexing and Slicing Arrays Two dimensional arrays </b></br> - array[row index, column index]: indexing to access a single element (0-indexed)</br> - array[start:stop:step size, start:stop:step size]: slicing to access a series of elements (stop is not included)"
   ]
  },
  {
   "cell_type": "code",
   "execution_count": 54,
   "metadata": {},
   "outputs": [
    {
     "data": {
      "text/plain": [
       "array([['fruits', 'vegetables', 'cereal', 'dairy', 'eggs'],\n",
       "       ['snacks', 'beverages', 'coffee', 'tea', 'spices']], dtype='<U10')"
      ]
     },
     "execution_count": 54,
     "metadata": {},
     "output_type": "execute_result"
    }
   ],
   "source": [
    "# reshape 1 dimensional array to become 2 dimensional array\n",
    "product_array2d = product_array.reshape(2, 5)\n",
    "\n",
    "product_array2d"
   ]
  },
  {
   "cell_type": "code",
   "execution_count": 56,
   "metadata": {},
   "outputs": [
    {
     "data": {
      "text/plain": [
       "'coffee'"
      ]
     },
     "execution_count": 56,
     "metadata": {},
     "output_type": "execute_result"
    }
   ],
   "source": [
    "# single element indexing for 'coffee' at row index 1 and column index 2 of the 2D array\n",
    "product_array2d[1,2]"
   ]
  },
  {
   "cell_type": "code",
   "execution_count": 58,
   "metadata": {},
   "outputs": [
    {
     "data": {
      "text/plain": [
       "array([['cereal', 'dairy', 'eggs'],\n",
       "       ['coffee', 'tea', 'spices']], dtype='<U10')"
      ]
     },
     "execution_count": 58,
     "metadata": {},
     "output_type": "execute_result"
    }
   ],
   "source": [
    "# display all rows, but only a slice of the columns at the third element\n",
    "product_array2d[:, 2:]"
   ]
  },
  {
   "cell_type": "code",
   "execution_count": 61,
   "metadata": {},
   "outputs": [
    {
     "data": {
      "text/plain": [
       "array([['snacks', 'beverages', 'coffee', 'tea', 'spices']], dtype='<U10')"
      ]
     },
     "execution_count": 61,
     "metadata": {},
     "output_type": "execute_result"
    }
   ],
   "source": [
    "# display second row, and all columns (indicated by the comma)\n",
    "product_array2d[1:, :]"
   ]
  },
  {
   "cell_type": "code",
   "execution_count": 67,
   "metadata": {},
   "outputs": [
    {
     "data": {
      "text/plain": [
       "array([['fruits', 'vegetables', 'cereal', 'dairy', 'eggs'],\n",
       "       ['snacks', 'beverages', 'coffee', 'tea', 'spices']], dtype='<U10')"
      ]
     },
     "execution_count": 67,
     "metadata": {},
     "output_type": "execute_result"
    }
   ],
   "source": [
    "# grab first 2 rows of array -> start at first row and stop at Second row without step\n",
    "product_array2d[:2, :]"
   ]
  },
  {
   "cell_type": "code",
   "execution_count": 68,
   "metadata": {},
   "outputs": [
    {
     "data": {
      "text/plain": [
       "array(['fruits', 'snacks'], dtype='<U10')"
      ]
     },
     "execution_count": 68,
     "metadata": {},
     "output_type": "execute_result"
    }
   ],
   "source": [
    "# grab the entire first column. [all rows:, first column for each row] \n",
    "product_array2d[0:, 0]"
   ]
  },
  {
   "cell_type": "code",
   "execution_count": 65,
   "metadata": {},
   "outputs": [
    {
     "data": {
      "text/plain": [
       "'beverages'"
      ]
     },
     "execution_count": 65,
     "metadata": {},
     "output_type": "execute_result"
    }
   ],
   "source": [
    "# grab second element of second row\n",
    "product_array2d[1,1]"
   ]
  }
 ],
 "metadata": {
  "kernelspec": {
   "display_name": "Python 3",
   "language": "python",
   "name": "python3"
  },
  "language_info": {
   "codemirror_mode": {
    "name": "ipython",
    "version": 3
   },
   "file_extension": ".py",
   "mimetype": "text/x-python",
   "name": "python",
   "nbconvert_exporter": "python",
   "pygments_lexer": "ipython3",
   "version": "3.11.9"
  }
 },
 "nbformat": 4,
 "nbformat_minor": 2
}
