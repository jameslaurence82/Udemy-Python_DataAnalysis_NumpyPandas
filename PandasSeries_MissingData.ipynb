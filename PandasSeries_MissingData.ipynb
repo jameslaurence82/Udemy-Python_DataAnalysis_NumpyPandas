{
 "cells": [
  {
   "cell_type": "markdown",
   "metadata": {},
   "source": [
    "##### <b> Missing Data </b></br> - Represented as NaN and treated as float so it can be used in vectorized operations"
   ]
  },
  {
   "cell_type": "code",
   "execution_count": 1,
   "metadata": {},
   "outputs": [],
   "source": [
    "import numpy as np\n",
    "import pandas as pd"
   ]
  },
  {
   "cell_type": "code",
   "execution_count": null,
   "metadata": {},
   "outputs": [],
   "source": [
    "# depending on the analysis being perform you may want the NaN value to be filled so operations can be performed that produce a result other than NaN"
   ]
  },
  {
   "cell_type": "code",
   "execution_count": 2,
   "metadata": {},
   "outputs": [
    {
     "data": {
      "text/plain": [
       "0      0.0\n",
       "1      5.0\n",
       "2    155.0\n",
       "3      NaN\n",
       "4    518.0\n",
       "dtype: float64"
      ]
     },
     "execution_count": 2,
     "metadata": {},
     "output_type": "execute_result"
    }
   ],
   "source": [
    "# Creation of a series that has a NaN value\n",
    "# if the series is numerical, introducing a NaN will make the datatype float.\n",
    "sales = pd.Series([0, 5, 155, np.nan, 518])\n",
    "sales"
   ]
  },
  {
   "cell_type": "code",
   "execution_count": 3,
   "metadata": {},
   "outputs": [
    {
     "data": {
      "text/plain": [
       "0      2.0\n",
       "1      7.0\n",
       "2    157.0\n",
       "3      NaN\n",
       "4    520.0\n",
       "dtype: float64"
      ]
     },
     "execution_count": 3,
     "metadata": {},
     "output_type": "execute_result"
    }
   ],
   "source": [
    "# performing operations on a series with a NaN does not affect the NaN. It will stay as NaN\n",
    "sales + 2"
   ]
  },
  {
   "cell_type": "code",
   "execution_count": 6,
   "metadata": {},
   "outputs": [
    {
     "data": {
      "text/plain": [
       "0      2.0\n",
       "1      7.0\n",
       "2    157.0\n",
       "3      2.0\n",
       "4    520.0\n",
       "dtype: float64"
      ]
     },
     "execution_count": 6,
     "metadata": {},
     "output_type": "execute_result"
    }
   ],
   "source": [
    "# if we don't want NaN then we can use the ( ,fill_value=) with the pandas method to add a value to NaNs\n",
    "sales_nonull = sales.add(2, fill_value=0)\n",
    "# this changes NaN to 0 and allows 2 to be added to it and can be assigned to a new series\n",
    "sales_nonull"
   ]
  },
  {
   "cell_type": "markdown",
   "metadata": {},
   "source": [
    "##### <b> Identify Missing Data </b></br> The .isna() and .value_counts() method can identfiy missing data </br> - value_counts by default does not include na/NaN (use dropna=False) to include them"
   ]
  },
  {
   "cell_type": "code",
   "execution_count": 7,
   "metadata": {},
   "outputs": [
    {
     "data": {
      "text/plain": [
       "0    COMPLETE\n",
       "1         NaN\n",
       "2         NaN\n",
       "3         NaN\n",
       "4    COMPLETE\n",
       "dtype: object"
      ]
     },
     "execution_count": 7,
     "metadata": {},
     "output_type": "execute_result"
    }
   ],
   "source": [
    "# creation of Series with 3 NaNs\n",
    "checklist = pd.Series(['COMPLETE', np.nan, np.nan, np.nan, 'COMPLETE'])\n",
    "checklist"
   ]
  },
  {
   "cell_type": "code",
   "execution_count": 10,
   "metadata": {},
   "outputs": [
    {
     "data": {
      "text/plain": [
       "3"
      ]
     },
     "execution_count": 10,
     "metadata": {},
     "output_type": "execute_result"
    }
   ],
   "source": [
    "# .isna() will return True (Value 1) if na/NaN. \n",
    "checklist.isna()\n",
    "\n",
    "# This allows .sum() or .mean() operations to be done on the na/NaN values \n",
    "checklist.isna().sum()"
   ]
  },
  {
   "cell_type": "code",
   "execution_count": 12,
   "metadata": {},
   "outputs": [
    {
     "data": {
      "text/plain": [
       "1    NaN\n",
       "2    NaN\n",
       "3    NaN\n",
       "dtype: object"
      ]
     },
     "execution_count": 12,
     "metadata": {},
     "output_type": "execute_result"
    }
   ],
   "source": [
    "# this can also be used as a boolean mask\n",
    "mask = checklist.isna()\n",
    "bool_checklist = checklist[mask]\n",
    "bool_checklist"
   ]
  },
  {
   "cell_type": "code",
   "execution_count": 14,
   "metadata": {},
   "outputs": [
    {
     "data": {
      "text/plain": [
       "COMPLETE    2\n",
       "Name: count, dtype: int64"
      ]
     },
     "execution_count": 14,
     "metadata": {},
     "output_type": "execute_result"
    }
   ],
   "source": [
    "# .value_counts() method by default does not include na/NaN\n",
    "checklist.value_counts()"
   ]
  },
  {
   "cell_type": "code",
   "execution_count": 15,
   "metadata": {},
   "outputs": [
    {
     "data": {
      "text/plain": [
       "NaN         3\n",
       "COMPLETE    2\n",
       "Name: count, dtype: int64"
      ]
     },
     "execution_count": 15,
     "metadata": {},
     "output_type": "execute_result"
    }
   ],
   "source": [
    "# to include na/NaN use dropna=False\n",
    "checklist.value_counts(dropna=False)"
   ]
  }
 ],
 "metadata": {
  "kernelspec": {
   "display_name": "base",
   "language": "python",
   "name": "python3"
  },
  "language_info": {
   "codemirror_mode": {
    "name": "ipython",
    "version": 3
   },
   "file_extension": ".py",
   "mimetype": "text/x-python",
   "name": "python",
   "nbconvert_exporter": "python",
   "pygments_lexer": "ipython3",
   "version": "3.11.9"
  }
 },
 "nbformat": 4,
 "nbformat_minor": 2
}
