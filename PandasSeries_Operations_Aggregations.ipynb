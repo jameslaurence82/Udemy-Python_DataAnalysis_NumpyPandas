{
 "cells": [
  {
   "cell_type": "markdown",
   "metadata": {},
   "source": [
    "##### <b> Operations and Aggregations </b></br> - Series is equivalent to a column of data"
   ]
  },
  {
   "cell_type": "code",
   "execution_count": 1,
   "metadata": {},
   "outputs": [],
   "source": [
    "import numpy as np\n",
    "import pandas as pd"
   ]
  },
  {
   "cell_type": "markdown",
   "metadata": {},
   "source": [
    "##### Basic Python Operations and Pandas Methods\n",
    "| Description            | Python Operator | Pandas Method |\n",
    "|------------------------|-----------------|---------------|\n",
    "| Addition               | `+`             | `.add()`      |\n",
    "| Subtraction            | `-`             | `.sub()`      |\n",
    "| Multiplication         | `*`             | `.mul()`      |\n",
    "| Division               | `/`             | `.div()`      |\n",
    "| Floor Division         | `//`            | `.floordiv()` |\n",
    "| Modulo                 | `%`             | `.mod()`      |\n",
    "| Exponentiation         | `**`            | `.pow()`      |\n",
    "\n"
   ]
  },
  {
   "cell_type": "code",
   "execution_count": 2,
   "metadata": {},
   "outputs": [
    {
     "data": {
      "text/plain": [
       "0      0\n",
       "1      5\n",
       "2    155\n",
       "3      0\n",
       "4    518\n",
       "dtype: int64"
      ]
     },
     "execution_count": 2,
     "metadata": {},
     "output_type": "execute_result"
    }
   ],
   "source": [
    "# creation of Series\n",
    "sales = [0, 5, 155, 0, 518]\n",
    "sales_series = pd.Series(sales)\n",
    "sales_series"
   ]
  },
  {
   "cell_type": "code",
   "execution_count": 3,
   "metadata": {},
   "outputs": [
    {
     "name": "stdout",
     "output_type": "stream",
     "text": [
      "+ 2\n",
      "0      2\n",
      "1      7\n",
      "2    157\n",
      "3      2\n",
      "4    520\n",
      "dtype: int64\n",
      ".add(2)\n",
      "0      2\n",
      "1      7\n",
      "2    157\n",
      "3      2\n",
      "4    520\n",
      "dtype: int64\n"
     ]
    }
   ],
   "source": [
    "# these are the same\n",
    "print(\"+ 2\")\n",
    "print(sales_series +2)\n",
    "print(\".add(2)\")\n",
    "print(sales_series.add(2))"
   ]
  },
  {
   "cell_type": "code",
   "execution_count": 4,
   "metadata": {},
   "outputs": [
    {
     "data": {
      "text/plain": [
       "0      $0.0\n",
       "1      $5.0\n",
       "2    $155.0\n",
       "3      $0.0\n",
       "4    $518.0\n",
       "dtype: string"
      ]
     },
     "execution_count": 4,
     "metadata": {},
     "output_type": "execute_result"
    }
   ],
   "source": [
    "# to concatenate series by including $\n",
    "# change to float for decimal and then to string to be able to concatenate with $\n",
    "'$' + sales_series.astype('float').astype('string')"
   ]
  },
  {
   "cell_type": "code",
   "execution_count": 5,
   "metadata": {},
   "outputs": [
    {
     "data": {
      "text/plain": [
       "day 0    1.0\n",
       "day 1    NaN\n",
       "day 2    2.0\n",
       "day 3    3.0\n",
       "day 4    4.0\n",
       "dtype: float64"
      ]
     },
     "execution_count": 5,
     "metadata": {},
     "output_type": "execute_result"
    }
   ],
   "source": [
    "# creating series with null\n",
    "my_series = pd.Series([1, np.NAN, 2, 3, 4], index = ['day 0', 'day 1','day 2','day 3','day 4'])\n",
    "my_series"
   ]
  },
  {
   "cell_type": "code",
   "execution_count": 6,
   "metadata": {},
   "outputs": [
    {
     "data": {
      "text/plain": [
       "day 0    3.0\n",
       "day 1    NaN\n",
       "day 2    4.0\n",
       "day 3    5.0\n",
       "day 4    6.0\n",
       "dtype: float64"
      ]
     },
     "execution_count": 6,
     "metadata": {},
     "output_type": "execute_result"
    }
   ],
   "source": [
    "# using python operations with Null does not change value of null\n",
    "my_series + 2"
   ]
  },
  {
   "cell_type": "code",
   "execution_count": 7,
   "metadata": {},
   "outputs": [
    {
     "name": "stdout",
     "output_type": "stream",
     "text": [
      "using .fill_value(<value> will impute value to be affected by operation)\n"
     ]
    },
    {
     "data": {
      "text/plain": [
       "day 0    3.0\n",
       "day 1    2.0\n",
       "day 2    4.0\n",
       "day 3    5.0\n",
       "day 4    6.0\n",
       "dtype: float64"
      ]
     },
     "execution_count": 7,
     "metadata": {},
     "output_type": "execute_result"
    }
   ],
   "source": [
    "# using pandas operations with Null can indicate a fill value for nulls\n",
    "print('using .fill_value(<value> will impute value to be affected by operation)')\n",
    "my_series.add(2, fill_value=0)"
   ]
  },
  {
   "cell_type": "code",
   "execution_count": 8,
   "metadata": {},
   "outputs": [
    {
     "data": {
      "text/plain": [
       "day 0     4.0\n",
       "day 1     NaN\n",
       "day 2     6.0\n",
       "day 3     8.0\n",
       "day 4    10.0\n",
       "dtype: float64"
      ]
     },
     "execution_count": 8,
     "metadata": {},
     "output_type": "execute_result"
    }
   ],
   "source": [
    "# creating copy of my_series with no nulls\n",
    "my_series2 = my_series.add(2, fill_value=0).copy()\n",
    "# adding 2 series together and null values stay as null\n",
    "my_series + my_series2"
   ]
  },
  {
   "cell_type": "code",
   "execution_count": 9,
   "metadata": {},
   "outputs": [
    {
     "data": {
      "text/plain": [
       "day 0     4.0\n",
       "day 1     2.0\n",
       "day 2     6.0\n",
       "day 3     8.0\n",
       "day 4    10.0\n",
       "dtype: float64"
      ]
     },
     "execution_count": 9,
     "metadata": {},
     "output_type": "execute_result"
    }
   ],
   "source": [
    "# adding 2 series together with fill_value() will address nulls\n",
    "my_series2.add(my_series, fill_value=0)"
   ]
  },
  {
   "cell_type": "markdown",
   "metadata": {},
   "source": [
    "##### <b>String Methods</b> </br> Pandas .str accessor lets you access many string methods and these methods all return a series </br> split returns multiple series\n",
    "| String Method               | Description                        |\n",
    "|-----------------------------|------------------------------------|\n",
    "| .strip(), lstrip(), rstrip()| Removes leading and/or whitespace  |\n",
    "| .upper(), .lower()          | Converts text to upper/lower case  |\n",
    "| .slice(start,stop,step)     | Applies slice to strings in series |\n",
    "| .count('string')            | Count all instances of given string|\n",
    "| .contains('string')         | Return true if string is found, false if not |\n",
    "| .replace('a','b')           | Replace instances of string a with string b      |\n",
    "| .split('delimiter', expand=True) | Splits strings on given delimiter string, returns dataframe with series for each split |\n",
    "| .len()                      | Return length of each string in a series |\n",
    "| .startswith('string')       | Return true if found, false if not |\n",
    "| .endswith('string')         | Return true if found, false if not |"
   ]
  },
  {
   "cell_type": "code",
   "execution_count": 10,
   "metadata": {},
   "outputs": [
    {
     "data": {
      "text/plain": [
       "0    day 0\n",
       "1    day 1\n",
       "2    day 2\n",
       "3    day 3\n",
       "4    day 4\n",
       "dtype: object"
      ]
     },
     "execution_count": 10,
     "metadata": {},
     "output_type": "execute_result"
    }
   ],
   "source": [
    "# creation of string series\n",
    "string_series = pd.Series(['day 0','day 1','day 2','day 3','day 4'])\n",
    "string_series"
   ]
  },
  {
   "cell_type": "code",
   "execution_count": 11,
   "metadata": {},
   "outputs": [
    {
     "data": {
      "text/plain": [
       "0    DAY 0\n",
       "1    DAY 1\n",
       "2    DAY 2\n",
       "3    DAY 3\n",
       "4    DAY 4\n",
       "dtype: object"
      ]
     },
     "execution_count": 11,
     "metadata": {},
     "output_type": "execute_result"
    }
   ],
   "source": [
    "# when searching a specific string, it's better to change all strings to str.lower() or str.upper() so it is easier to identify\n",
    "\n",
    "# assigning uppercase series to new series\n",
    "upper_series = string_series.str.upper()\n",
    "upper_series"
   ]
  },
  {
   "cell_type": "code",
   "execution_count": 12,
   "metadata": {},
   "outputs": [
    {
     "data": {
      "text/plain": [
       "0    False\n",
       "1     True\n",
       "2    False\n",
       "3    False\n",
       "4    False\n",
       "dtype: bool"
      ]
     },
     "execution_count": 12,
     "metadata": {},
     "output_type": "execute_result"
    }
   ],
   "source": [
    "# search within series for 'DAY 1'\n",
    "upper_series.str.contains('DAY 1')"
   ]
  },
  {
   "cell_type": "code",
   "execution_count": 13,
   "metadata": {},
   "outputs": [
    {
     "data": {
      "text/plain": [
       "1    DAY 1\n",
       "dtype: object"
      ]
     },
     "execution_count": 13,
     "metadata": {},
     "output_type": "execute_result"
    }
   ],
   "source": [
    "# can be done as a mask\n",
    "mask = upper_series.str.contains('DAY 1')\n",
    "# displays series row that has values DAY 1\n",
    "upper_series[mask]"
   ]
  },
  {
   "cell_type": "code",
   "execution_count": 14,
   "metadata": {},
   "outputs": [
    {
     "data": {
      "text/plain": [
       "0    DAY 0\n",
       "1    DAY 1\n",
       "2    DAY 2\n",
       "3    DAY 3\n",
       "4    DAY 4\n",
       "dtype: object"
      ]
     },
     "execution_count": 14,
     "metadata": {},
     "output_type": "execute_result"
    }
   ],
   "source": [
    "# can be done as a mask1\n",
    "mask1 = upper_series.str.contains('DAY')\n",
    "# displays all series because 'DAY' is in each series value\n",
    "upper_series[mask1]"
   ]
  },
  {
   "cell_type": "code",
   "execution_count": 15,
   "metadata": {},
   "outputs": [
    {
     "data": {
      "text/plain": [
       "0     0\n",
       "1     1\n",
       "2     2\n",
       "3     3\n",
       "4     4\n",
       "dtype: object"
      ]
     },
     "execution_count": 15,
     "metadata": {},
     "output_type": "execute_result"
    }
   ],
   "source": [
    "# stripping string away from original string_series to new series\n",
    "stripped = string_series.str.strip('day')\n",
    "stripped.str.contains(' ')\n",
    "stripped = stripped.str.strip('')\n",
    "stripped"
   ]
  },
  {
   "cell_type": "code",
   "execution_count": 16,
   "metadata": {},
   "outputs": [
    {
     "data": {
      "text/html": [
       "<div>\n",
       "<style scoped>\n",
       "    .dataframe tbody tr th:only-of-type {\n",
       "        vertical-align: middle;\n",
       "    }\n",
       "\n",
       "    .dataframe tbody tr th {\n",
       "        vertical-align: top;\n",
       "    }\n",
       "\n",
       "    .dataframe thead th {\n",
       "        text-align: right;\n",
       "    }\n",
       "</style>\n",
       "<table border=\"1\" class=\"dataframe\">\n",
       "  <thead>\n",
       "    <tr style=\"text-align: right;\">\n",
       "      <th></th>\n",
       "      <th>0</th>\n",
       "      <th>1</th>\n",
       "    </tr>\n",
       "  </thead>\n",
       "  <tbody>\n",
       "    <tr>\n",
       "      <th>0</th>\n",
       "      <td>day</td>\n",
       "      <td>0</td>\n",
       "    </tr>\n",
       "    <tr>\n",
       "      <th>1</th>\n",
       "      <td>day</td>\n",
       "      <td>1</td>\n",
       "    </tr>\n",
       "    <tr>\n",
       "      <th>2</th>\n",
       "      <td>day</td>\n",
       "      <td>2</td>\n",
       "    </tr>\n",
       "    <tr>\n",
       "      <th>3</th>\n",
       "      <td>day</td>\n",
       "      <td>3</td>\n",
       "    </tr>\n",
       "    <tr>\n",
       "      <th>4</th>\n",
       "      <td>day</td>\n",
       "      <td>4</td>\n",
       "    </tr>\n",
       "  </tbody>\n",
       "</table>\n",
       "</div>"
      ],
      "text/plain": [
       "     0  1\n",
       "0  day  0\n",
       "1  day  1\n",
       "2  day  2\n",
       "3  day  3\n",
       "4  day  4"
      ]
     },
     "execution_count": 16,
     "metadata": {},
     "output_type": "execute_result"
    }
   ],
   "source": [
    "# using .str.split() to split based on specific characters or spaces for further analysis if (<delimiter>),expand=True) it will be split to a new column as a dataframe\n",
    "string_dfsplit = string_series.str.split(' ', expand=True)\n",
    "string_dfsplit"
   ]
  },
  {
   "cell_type": "code",
   "execution_count": 17,
   "metadata": {},
   "outputs": [
    {
     "data": {
      "text/plain": [
       "0    [day, 0]\n",
       "1    [day, 1]\n",
       "2    [day, 2]\n",
       "3    [day, 3]\n",
       "4    [day, 4]\n",
       "dtype: object"
      ]
     },
     "execution_count": 17,
     "metadata": {},
     "output_type": "execute_result"
    }
   ],
   "source": [
    "# when using default, then splits into a list split by delimiter\n",
    "string_listsplit = string_series.str.split(' ')\n",
    "string_listsplit"
   ]
  },
  {
   "cell_type": "markdown",
   "metadata": {},
   "source": [
    "##### Pandas Numerical Aggregation Functions\n",
    "\n",
    "| Method                            | Description                                             |\n",
    "|-----------------------------------|---------------------------------------------------------|\n",
    "| `.count()`                        | Returns the number of items in the series or data frame column(s). |\n",
    "| `.sum()`                          | Computes the sum of the series or data frame column(s). |\n",
    "| `.prod()`                         | Computes the product of the series or data frame column(s). |\n",
    "| `.first()`,`.last()`              | Returns the first or last value in the series or data frame column(s). |\n",
    "| `.min()`,`.max()`                 | Returns the minimum or maximum value in the series or data frame column(s). |\n",
    "| `.argmin()`,`.argmax()`           | Returns the index for the smallest or largest valuesof the series or data frame column(s). |\n",
    "| `.mean()`,`.median()`             | Calculates the mean or median of the series or data frame column(s). |\n",
    "| `.mad()`                          | Computes the mean absolute deviation of the series or data frame column(s). |\n",
    "| `.std()`,`.var()`                 | Calculates the standard deviation or variance of the series or data frame column(s). |\n",
    "| `.quantile(q)`                    | Returns the quantile of the series or data frame column(s); `q` should be between 0 and 1. |\n",
    "| `.describe()`                     | Generates descriptive statistics that summarize the central tendency, dispersion, and shape of the dataset’s distribution. |\n",
    "\n",
    "\n",
    "**Note**: These functions can be applied to a Pandas Series or DataFrame. For DataFrames, these functions by default operate on each column, returning a Series of aggregated values.\n"
   ]
  },
  {
   "cell_type": "code",
   "execution_count": 26,
   "metadata": {},
   "outputs": [
    {
     "data": {
      "text/html": [
       "<div>\n",
       "<style scoped>\n",
       "    .dataframe tbody tr th:only-of-type {\n",
       "        vertical-align: middle;\n",
       "    }\n",
       "\n",
       "    .dataframe tbody tr th {\n",
       "        vertical-align: top;\n",
       "    }\n",
       "\n",
       "    .dataframe thead th {\n",
       "        text-align: right;\n",
       "    }\n",
       "</style>\n",
       "<table border=\"1\" class=\"dataframe\">\n",
       "  <thead>\n",
       "    <tr style=\"text-align: right;\">\n",
       "      <th></th>\n",
       "      <th>date</th>\n",
       "      <th>store_nbr</th>\n",
       "      <th>transactions</th>\n",
       "    </tr>\n",
       "  </thead>\n",
       "  <tbody>\n",
       "    <tr>\n",
       "      <th>0</th>\n",
       "      <td>2013-01-01</td>\n",
       "      <td>25</td>\n",
       "      <td>770</td>\n",
       "    </tr>\n",
       "    <tr>\n",
       "      <th>1</th>\n",
       "      <td>2013-01-02</td>\n",
       "      <td>1</td>\n",
       "      <td>2111</td>\n",
       "    </tr>\n",
       "    <tr>\n",
       "      <th>2</th>\n",
       "      <td>2013-01-02</td>\n",
       "      <td>2</td>\n",
       "      <td>2358</td>\n",
       "    </tr>\n",
       "    <tr>\n",
       "      <th>3</th>\n",
       "      <td>2013-01-02</td>\n",
       "      <td>3</td>\n",
       "      <td>3487</td>\n",
       "    </tr>\n",
       "    <tr>\n",
       "      <th>4</th>\n",
       "      <td>2013-01-02</td>\n",
       "      <td>4</td>\n",
       "      <td>1922</td>\n",
       "    </tr>\n",
       "    <tr>\n",
       "      <th>...</th>\n",
       "      <td>...</td>\n",
       "      <td>...</td>\n",
       "      <td>...</td>\n",
       "    </tr>\n",
       "    <tr>\n",
       "      <th>83483</th>\n",
       "      <td>2017-08-15</td>\n",
       "      <td>50</td>\n",
       "      <td>2804</td>\n",
       "    </tr>\n",
       "    <tr>\n",
       "      <th>83484</th>\n",
       "      <td>2017-08-15</td>\n",
       "      <td>51</td>\n",
       "      <td>1573</td>\n",
       "    </tr>\n",
       "    <tr>\n",
       "      <th>83485</th>\n",
       "      <td>2017-08-15</td>\n",
       "      <td>52</td>\n",
       "      <td>2255</td>\n",
       "    </tr>\n",
       "    <tr>\n",
       "      <th>83486</th>\n",
       "      <td>2017-08-15</td>\n",
       "      <td>53</td>\n",
       "      <td>932</td>\n",
       "    </tr>\n",
       "    <tr>\n",
       "      <th>83487</th>\n",
       "      <td>2017-08-15</td>\n",
       "      <td>54</td>\n",
       "      <td>802</td>\n",
       "    </tr>\n",
       "  </tbody>\n",
       "</table>\n",
       "<p>83488 rows × 3 columns</p>\n",
       "</div>"
      ],
      "text/plain": [
       "             date  store_nbr  transactions\n",
       "0      2013-01-01         25           770\n",
       "1      2013-01-02          1          2111\n",
       "2      2013-01-02          2          2358\n",
       "3      2013-01-02          3          3487\n",
       "4      2013-01-02          4          1922\n",
       "...           ...        ...           ...\n",
       "83483  2017-08-15         50          2804\n",
       "83484  2017-08-15         51          1573\n",
       "83485  2017-08-15         52          2255\n",
       "83486  2017-08-15         53           932\n",
       "83487  2017-08-15         54           802\n",
       "\n",
       "[83488 rows x 3 columns]"
      ]
     },
     "execution_count": 26,
     "metadata": {},
     "output_type": "execute_result"
    }
   ],
   "source": [
    "# import data from transactions csv\n",
    "transactions = pd.read_csv('Pandas Course Resources/retail/transactions.csv')\n",
    "transactions"
   ]
  },
  {
   "cell_type": "code",
   "execution_count": 28,
   "metadata": {},
   "outputs": [
    {
     "data": {
      "text/plain": [
       "0         770\n",
       "1        2111\n",
       "2        2358\n",
       "3        3487\n",
       "4        1922\n",
       "         ... \n",
       "83483    2804\n",
       "83484    1573\n",
       "83485    2255\n",
       "83486     932\n",
       "83487     802\n",
       "Name: Transactions, Length: 83488, dtype: int64"
      ]
     },
     "execution_count": 28,
     "metadata": {},
     "output_type": "execute_result"
    }
   ],
   "source": [
    "# create series from transactions column with name\n",
    "transaction_series = pd.Series(transactions['transactions'], name='Transactions')\n",
    "transaction_series"
   ]
  },
  {
   "cell_type": "code",
   "execution_count": 29,
   "metadata": {},
   "outputs": [
    {
     "data": {
      "text/plain": [
       "83488"
      ]
     },
     "execution_count": 29,
     "metadata": {},
     "output_type": "execute_result"
    }
   ],
   "source": [
    "# .count() method\n",
    "transaction_series.count()"
   ]
  },
  {
   "cell_type": "code",
   "execution_count": 30,
   "metadata": {},
   "outputs": [
    {
     "data": {
      "text/plain": [
       "141478945"
      ]
     },
     "execution_count": 30,
     "metadata": {},
     "output_type": "execute_result"
    }
   ],
   "source": [
    "# .sum() method\n",
    "transaction_series.sum()"
   ]
  },
  {
   "cell_type": "code",
   "execution_count": 33,
   "metadata": {},
   "outputs": [
    {
     "data": {
      "text/plain": [
       "0.25    1046.0\n",
       "0.75    2079.0\n",
       "0.90    3071.0\n",
       "Name: Transactions, dtype: float64"
      ]
     },
     "execution_count": 33,
     "metadata": {},
     "output_type": "execute_result"
    }
   ],
   "source": [
    "# .quantile(q) method which can take a list of quantile percent values\n",
    "transaction_series.quantile([.25, .75, .90])"
   ]
  },
  {
   "cell_type": "code",
   "execution_count": 36,
   "metadata": {},
   "outputs": [
    {
     "data": {
      "text/plain": [
       "0.25    1046\n",
       "0.75    2079\n",
       "0.90    3071\n",
       "Name: Transactions, dtype: int64"
      ]
     },
     "execution_count": 36,
     "metadata": {},
     "output_type": "execute_result"
    }
   ],
   "source": [
    "# with small datasets .quantile(q) method may require (q, interpolation='nearest') which mean it will extract the dataponst that is nearest the quantile percent\n",
    "transaction_series.quantile([.25, .75, .90], interpolation='nearest') # doesn't make a difference now cause it's a big dataset"
   ]
  },
  {
   "cell_type": "markdown",
   "metadata": {},
   "source": [
    "##### Pandas Categorical Aggregation Functions\n",
    "\n",
    "| Method                            | Description                                             |\n",
    "|-----------------------------------|---------------------------------------------------------|\n",
    "| `.unique()`                       | Returns an array of unique items in the series or data frame column(s). |\n",
    "| `.nunique()`                      | Returns the number of unique items in the series or data frame column(s). |\n",
    "| `.value_counts()`                 | Returns a Series of Unique items and their frequency of a series or data frame column(s). |"
   ]
  },
  {
   "cell_type": "code",
   "execution_count": 37,
   "metadata": {},
   "outputs": [
    {
     "data": {
      "text/plain": [
       "0     coffee\n",
       "1     coffee\n",
       "2        tea\n",
       "3    coconut\n",
       "4      sugar\n",
       "dtype: object"
      ]
     },
     "execution_count": 37,
     "metadata": {},
     "output_type": "execute_result"
    }
   ],
   "source": [
    "# Create series of categorical data\n",
    "items = pd.Series(['coffee', 'coffee', 'tea', 'coconut', 'sugar'])\n",
    "items"
   ]
  },
  {
   "cell_type": "code",
   "execution_count": 38,
   "metadata": {},
   "outputs": [
    {
     "data": {
      "text/plain": [
       "coffee     2\n",
       "tea        1\n",
       "coconut    1\n",
       "sugar      1\n",
       "Name: count, dtype: int64"
      ]
     },
     "execution_count": 38,
     "metadata": {},
     "output_type": "execute_result"
    }
   ],
   "source": [
    "# count the frequency of the categories\n",
    "items.value_counts() "
   ]
  },
  {
   "cell_type": "code",
   "execution_count": 39,
   "metadata": {},
   "outputs": [
    {
     "data": {
      "text/plain": [
       "coffee     0.4\n",
       "tea        0.2\n",
       "coconut    0.2\n",
       "sugar      0.2\n",
       "Name: proportion, dtype: float64"
      ]
     },
     "execution_count": 39,
     "metadata": {},
     "output_type": "execute_result"
    }
   ],
   "source": [
    "# count the frequency of the categories and normalize=True will display the percentage total for each category\n",
    "items.value_counts(normalize=True)"
   ]
  },
  {
   "cell_type": "code",
   "execution_count": 40,
   "metadata": {},
   "outputs": [
    {
     "data": {
      "text/plain": [
       "array(['coffee', 'tea', 'coconut', 'sugar'], dtype=object)"
      ]
     },
     "execution_count": 40,
     "metadata": {},
     "output_type": "execute_result"
    }
   ],
   "source": [
    "# .unique() method will display each unique value as array\n",
    "items.unique()"
   ]
  },
  {
   "cell_type": "code",
   "execution_count": 41,
   "metadata": {},
   "outputs": [
    {
     "data": {
      "text/plain": [
       "4"
      ]
     },
     "execution_count": 41,
     "metadata": {},
     "output_type": "execute_result"
    }
   ],
   "source": [
    "# .nunique() method will display the count of unique categories\n",
    "items.nunique()"
   ]
  }
 ],
 "metadata": {
  "kernelspec": {
   "display_name": "base",
   "language": "python",
   "name": "python3"
  },
  "language_info": {
   "codemirror_mode": {
    "name": "ipython",
    "version": 3
   },
   "file_extension": ".py",
   "mimetype": "text/x-python",
   "name": "python",
   "nbconvert_exporter": "python",
   "pygments_lexer": "ipython3",
   "version": "3.11.9"
  }
 },
 "nbformat": 4,
 "nbformat_minor": 2
}
