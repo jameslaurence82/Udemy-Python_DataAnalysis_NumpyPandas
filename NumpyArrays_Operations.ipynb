{
 "cells": [
  {
   "cell_type": "markdown",
   "metadata": {},
   "source": [
    "##### <b> Array Operations </b></br>"
   ]
  },
  {
   "cell_type": "markdown",
   "metadata": {},
   "source": [
    "##### <b> Arithmetic operators can be used to perform array operations </b></br> - Array operations are applied via vectorization and broadcasting which eliminates need to loop through arrays elements"
   ]
  },
  {
   "cell_type": "code",
   "execution_count": 2,
   "metadata": {},
   "outputs": [],
   "source": [
    "import numpy as np\n",
    "import pandas as pd"
   ]
  },
  {
   "cell_type": "code",
   "execution_count": 100,
   "metadata": {},
   "outputs": [
    {
     "data": {
      "text/plain": [
       "array([[   0,    5,  155,    0,  518],\n",
       "       [   0, 1827,  616,  317,  325]])"
      ]
     },
     "execution_count": 100,
     "metadata": {},
     "output_type": "execute_result"
    }
   ],
   "source": [
    "# generate nested list\n",
    "sales = [[0, 5, 155, 0, 518], [0, 1827, 616, 317, 325]]\n",
    "\n",
    "# convert in np array\n",
    "sales_array = np.array(sales)\n",
    "sales_array"
   ]
  },
  {
   "cell_type": "code",
   "execution_count": 4,
   "metadata": {},
   "outputs": [
    {
     "data": {
      "text/plain": [
       "array([[   2,    7,  157,    2,  520],\n",
       "       [   2, 1829,  618,  319,  327]])"
      ]
     },
     "execution_count": 4,
     "metadata": {},
     "output_type": "execute_result"
    }
   ],
   "source": [
    "# with + 2 -> 2 is added to each element of the np array\n",
    "sales_array + 2"
   ]
  },
  {
   "cell_type": "code",
   "execution_count": 5,
   "metadata": {},
   "outputs": [
    {
     "data": {
      "text/plain": [
       "array([     0,   9135,  95480,      0, 168350])"
      ]
     },
     "execution_count": 5,
     "metadata": {},
     "output_type": "execute_result"
    }
   ],
   "source": [
    "# Assign all elements of first row to quantity\n",
    "quantity = sales_array[0, :]\n",
    "# Assign all elements of second row to price\n",
    "price = sales_array[1, :]\n",
    "\n",
    "# corresponding elements are multiplied together\n",
    "quantity * price"
   ]
  },
  {
   "cell_type": "code",
   "execution_count": 6,
   "metadata": {},
   "outputs": [
    {
     "data": {
      "text/plain": [
       "array([39, 39, 93, 86, 48, 46, 48, 30, 11, 57], dtype=int64)"
      ]
     },
     "execution_count": 6,
     "metadata": {},
     "output_type": "execute_result"
    }
   ],
   "source": [
    "# generate random number generator with 616 seed\n",
    "rng = np.random.default_rng(616)\n",
    "\n",
    "# assign random integers to inventory variable start 0, end 100, 10 random grabbed\n",
    "inventory = rng.integers(0, 100, 10)\n",
    "inventory"
   ]
  },
  {
   "cell_type": "code",
   "execution_count": 7,
   "metadata": {},
   "outputs": [
    {
     "data": {
      "text/plain": [
       "array([ 15,  15,  69,  62,  24,  22,  24,   6, -13,  33], dtype=int64)"
      ]
     },
     "execution_count": 7,
     "metadata": {},
     "output_type": "execute_result"
    }
   ],
   "source": [
    "# minus 24 from each array element\n",
    "inventory - 24"
   ]
  },
  {
   "cell_type": "code",
   "execution_count": 8,
   "metadata": {},
   "outputs": [
    {
     "data": {
      "text/plain": [
       "array([19.5, 19.5, 46.5, 43. , 24. , 23. , 24. , 15. ,  5.5, 28.5])"
      ]
     },
     "execution_count": 8,
     "metadata": {},
     "output_type": "execute_result"
    }
   ],
   "source": [
    "# view half the inventory amounts -> divide 2 from each array element\n",
    "inventory / 2"
   ]
  },
  {
   "cell_type": "code",
   "execution_count": 9,
   "metadata": {},
   "outputs": [],
   "source": [
    "# create 11 random price values (which will be between 0 and 1) so multiple by 10 and then round to 2 decimal places\n",
    "# price = (rng.random(11)*10).round(2)\n",
    "# this operation will have error because array shapes do not match 10 vs 11\n",
    "# price * inventory"
   ]
  },
  {
   "cell_type": "code",
   "execution_count": 10,
   "metadata": {},
   "outputs": [
    {
     "data": {
      "text/plain": [
       "array([0.89, 8.82, 7.32, 7.32, 5.62, 3.4 , 0.63, 3.57, 2.03, 4.31])"
      ]
     },
     "execution_count": 10,
     "metadata": {},
     "output_type": "execute_result"
    }
   ],
   "source": [
    "# create 10 random price values (which will be between 0 and 1) so multiple by 10 and then round to 2 decimal places\n",
    "price = (rng.random(10)*10).round(2)\n",
    "\n",
    "price"
   ]
  },
  {
   "cell_type": "code",
   "execution_count": 11,
   "metadata": {},
   "outputs": [
    {
     "data": {
      "text/plain": [
       "2520.47"
      ]
     },
     "execution_count": 11,
     "metadata": {},
     "output_type": "execute_result"
    }
   ],
   "source": [
    "# operations can occurs between arrays as long as they are the same shape\n",
    "# price * inventory\n",
    "\n",
    "# the is a sum method to easily add all element values\n",
    "(price * inventory).sum().round(2)"
   ]
  },
  {
   "cell_type": "code",
   "execution_count": 12,
   "metadata": {},
   "outputs": [
    {
     "data": {
      "text/plain": [
       "[39, 39, 93, 86, 48, 46, 48, 30, 11, 57]"
      ]
     },
     "execution_count": 12,
     "metadata": {},
     "output_type": "execute_result"
    }
   ],
   "source": [
    "# np arrays can be cast to a list\n",
    "inventory_list = list(inventory)\n",
    "inventory_list"
   ]
  },
  {
   "cell_type": "markdown",
   "metadata": {},
   "source": [
    "##### <b> Filtering Arrays </b></br> You can filter arrays by indexing them with a logical test </br> - Only the array elements in positions where the logical test returns True are returned"
   ]
  },
  {
   "cell_type": "code",
   "execution_count": 13,
   "metadata": {},
   "outputs": [
    {
     "data": {
      "text/plain": [
       "array([[   0,    5,  155,    0,  518],\n",
       "       [   0, 1827,  616,  317,  325]])"
      ]
     },
     "execution_count": 13,
     "metadata": {},
     "output_type": "execute_result"
    }
   ],
   "source": [
    "sales_array"
   ]
  },
  {
   "cell_type": "code",
   "execution_count": 14,
   "metadata": {},
   "outputs": [
    {
     "data": {
      "text/plain": [
       "array([[False,  True,  True, False,  True],\n",
       "       [False,  True,  True,  True,  True]])"
      ]
     },
     "execution_count": 14,
     "metadata": {},
     "output_type": "execute_result"
    }
   ],
   "source": [
    "# perform logical test in NumPy array will return a Boolean array with the results of logical test on each array element\n",
    "\n",
    "# logical test to see which array elements do not equal zero\n",
    "sales_array != 0"
   ]
  },
  {
   "cell_type": "code",
   "execution_count": 19,
   "metadata": {},
   "outputs": [
    {
     "data": {
      "text/plain": [
       "array([   5,  155,  518, 1827,  616,  317,  325])"
      ]
     },
     "execution_count": 19,
     "metadata": {},
     "output_type": "execute_result"
    }
   ],
   "source": [
    "# assign the True values to new array (using boolean filter on array to pull True values depending on logical condition) assigns elements that have a value that isn't zero\n",
    "actual_sales_array = sales_array[sales_array != 0]\n",
    "actual_sales_array"
   ]
  },
  {
   "cell_type": "markdown",
   "metadata": {},
   "source": [
    "##### Can be filtered with multiple logical tests using & (and) | (or)"
   ]
  },
  {
   "cell_type": "code",
   "execution_count": 21,
   "metadata": {},
   "outputs": [
    {
     "data": {
      "text/plain": [
       "array([  0,   5,   0,   0, 616])"
      ]
     },
     "execution_count": 21,
     "metadata": {},
     "output_type": "execute_result"
    }
   ],
   "source": [
    "multiple_logic1 = sales_array[(sales_array == 616) | (sales_array < 100)]\n",
    "multiple_logic1"
   ]
  },
  {
   "cell_type": "code",
   "execution_count": 22,
   "metadata": {},
   "outputs": [
    {
     "data": {
      "text/plain": [
       "array([155, 317, 325])"
      ]
     },
     "execution_count": 22,
     "metadata": {},
     "output_type": "execute_result"
    }
   ],
   "source": [
    "multiple_logic2 = sales_array[(sales_array > 100) & (sales_array < 500)]\n",
    "multiple_logic2"
   ]
  },
  {
   "cell_type": "markdown",
   "metadata": {},
   "source": [
    "##### Multiple logical tests can be added to variable and used as Boolean mask"
   ]
  },
  {
   "cell_type": "code",
   "execution_count": 25,
   "metadata": {},
   "outputs": [
    {
     "data": {
      "text/plain": [
       "array([  0,   0, 518,   0, 616])"
      ]
     },
     "execution_count": 25,
     "metadata": {},
     "output_type": "execute_result"
    }
   ],
   "source": [
    "# can create variable that will handle the boolean mask for filtering multiple logic conditions\n",
    "mask1 = ((sales_array < 1500) & (sales_array > 500)) | (sales_array == 0)\n",
    "\n",
    "# apply boolean mask variable to array\n",
    "multiple_logic_mask = sales_array[mask1]\n",
    "multiple_logic_mask"
   ]
  },
  {
   "cell_type": "markdown",
   "metadata": {},
   "source": [
    "##### Values from One array can be used to filter another array (if arrays are same shape)"
   ]
  },
  {
   "cell_type": "code",
   "execution_count": 33,
   "metadata": {},
   "outputs": [
    {
     "data": {
      "text/plain": [
       "array([  0,   0, 518,   0, 616])"
      ]
     },
     "execution_count": 33,
     "metadata": {},
     "output_type": "execute_result"
    }
   ],
   "source": [
    "# call multiple_logic_mask\n",
    "multiple_logic_mask"
   ]
  },
  {
   "cell_type": "code",
   "execution_count": 34,
   "metadata": {},
   "outputs": [
    {
     "data": {
      "text/plain": [
       "array(['fruits', 'vegetables', 'cereal', 'dairy', 'eggs'], dtype='<U10')"
      ]
     },
     "execution_count": 34,
     "metadata": {},
     "output_type": "execute_result"
    }
   ],
   "source": [
    "# creation of product array\n",
    "product_array = np.array(['fruits', 'vegetables', 'cereal', 'dairy', 'eggs'])\n",
    "product_array"
   ]
  },
  {
   "cell_type": "code",
   "execution_count": 35,
   "metadata": {},
   "outputs": [
    {
     "data": {
      "text/plain": [
       "array(['cereal', 'eggs'], dtype='<U10')"
      ]
     },
     "execution_count": 35,
     "metadata": {},
     "output_type": "execute_result"
    }
   ],
   "source": [
    "# array to be filtered[array used as filter with logic]\n",
    "# this will filter out values that are zero from the array\n",
    "filtered_product = product_array[multiple_logic_mask > 0]\n",
    "filtered_product"
   ]
  },
  {
   "cell_type": "code",
   "execution_count": 39,
   "metadata": {},
   "outputs": [
    {
     "data": {
      "text/plain": [
       "array([ 0,  1,  2,  3,  4,  5,  6,  7,  8,  9, 10, 11, 12, 13, 14, 15, 16,\n",
       "       17, 18, 19])"
      ]
     },
     "execution_count": 39,
     "metadata": {},
     "output_type": "execute_result"
    }
   ],
   "source": [
    "# another boolean mask example\n",
    "demo_array = np.arange(0,20)\n",
    "demo_array"
   ]
  },
  {
   "cell_type": "code",
   "execution_count": 41,
   "metadata": {},
   "outputs": [
    {
     "data": {
      "text/plain": [
       "array(['even', 'odd', 'even', 'odd', 'even', 'odd', 'even', 'odd', 'even',\n",
       "       'odd', 'even', 'odd', 'even', 'odd', 'even', 'odd', 'even', 'odd',\n",
       "       'even', 'odd'], dtype='<U4')"
      ]
     },
     "execution_count": 41,
     "metadata": {},
     "output_type": "execute_result"
    }
   ],
   "source": [
    "# string array 'even', 'odd' 10 ten times to match demo_array shape\n",
    "even_odd = np.array(['even', 'odd']*10)\n",
    "even_odd"
   ]
  },
  {
   "cell_type": "code",
   "execution_count": 45,
   "metadata": {},
   "outputs": [
    {
     "data": {
      "text/plain": [
       "array(['even', 'even', 'even', 'even', 'even', 'even', 'even', 'even',\n",
       "       'even', 'even'], dtype='<U4')"
      ]
     },
     "execution_count": 45,
     "metadata": {},
     "output_type": "execute_result"
    }
   ],
   "source": [
    "even_odd[even_odd != 'odd']"
   ]
  },
  {
   "cell_type": "code",
   "execution_count": 48,
   "metadata": {},
   "outputs": [
    {
     "data": {
      "text/plain": [
       "array([ 0,  1,  0,  3,  0,  5,  0,  7,  0,  9,  0, 11,  0, 13,  0, 15,  0,\n",
       "       17,  0, 19])"
      ]
     },
     "execution_count": 48,
     "metadata": {},
     "output_type": "execute_result"
    }
   ],
   "source": [
    "# sets elements in demo_array to 0 where the condition even_odd != 'odd' evaluates to true.\n",
    "demo_array[even_odd != 'odd'] = 0\n",
    "demo_array"
   ]
  },
  {
   "cell_type": "markdown",
   "metadata": {},
   "source": [
    "##### <b> Where Function </b></br> - where() NumPy function performs logical test and returns a given value if test is True and returns a value if test is False </br> &nbsp;&nbsp; np.where(logical test, Value if True, Value if False)"
   ]
  },
  {
   "cell_type": "code",
   "execution_count": 52,
   "metadata": {},
   "outputs": [
    {
     "data": {
      "text/plain": [
       "array([ 12, 102,  18,   0,   0])"
      ]
     },
     "execution_count": 52,
     "metadata": {},
     "output_type": "execute_result"
    }
   ],
   "source": [
    "# creation of inventory array\n",
    "inventory_array = np.array([12, 102, 18, 0, 0])\n",
    "inventory_array"
   ]
  },
  {
   "cell_type": "code",
   "execution_count": 53,
   "metadata": {},
   "outputs": [
    {
     "data": {
      "text/plain": [
       "array(['fruits', 'vegetables', 'cereal', 'dairy', 'eggs'], dtype='<U10')"
      ]
     },
     "execution_count": 53,
     "metadata": {},
     "output_type": "execute_result"
    }
   ],
   "source": [
    "# calling product array\n",
    "product_array"
   ]
  },
  {
   "cell_type": "code",
   "execution_count": 54,
   "metadata": {},
   "outputs": [
    {
     "data": {
      "text/plain": [
       "array(['In Stock', 'In Stock', 'In Stock', 'Out of Stock', 'Out of Stock'],\n",
       "      dtype='<U12')"
      ]
     },
     "execution_count": 54,
     "metadata": {},
     "output_type": "execute_result"
    }
   ],
   "source": [
    "# using NumPy where() function to filter array\n",
    "# np.where(logical test, Value if True, Value if False)\n",
    "\n",
    "np.where(inventory_array > 0, 'In Stock', 'Out of Stock')"
   ]
  },
  {
   "cell_type": "code",
   "execution_count": 55,
   "metadata": {},
   "outputs": [
    {
     "data": {
      "text/plain": [
       "array(['In Stock', 'In Stock', 'In Stock', 'dairy', 'eggs'], dtype='<U10')"
      ]
     },
     "execution_count": 55,
     "metadata": {},
     "output_type": "execute_result"
    }
   ],
   "source": [
    "# using NumPy where() function to filter array to return value and value from filtered Array\n",
    "# np.where(logical test, Value if True, Value if False)\n",
    "\n",
    "np.where(inventory_array > 0, 'In Stock', product_array)"
   ]
  },
  {
   "cell_type": "code",
   "execution_count": 57,
   "metadata": {},
   "outputs": [
    {
     "data": {
      "text/plain": [
       "array([ 0,  1,  2,  3,  4,  5,  6,  7,  8,  9, 10, 11, 12, 13, 14, 15, 16,\n",
       "       17, 18, 19])"
      ]
     },
     "execution_count": 57,
     "metadata": {},
     "output_type": "execute_result"
    }
   ],
   "source": [
    "# chaining .np.where() conditions\n",
    "demo_array1 = np.arange(0,20)\n",
    "demo_array1"
   ]
  },
  {
   "cell_type": "code",
   "execution_count": 59,
   "metadata": {},
   "outputs": [
    {
     "data": {
      "text/plain": [
       "array(['even', 'odd', 'even', 'odd', 'even', 'odd', 'even', 'odd', 'even',\n",
       "       '9', 'even', 'odd', 'even', 'odd', 'even', 'odd', 'even', 'odd',\n",
       "       'even', 'odd'], dtype='<U11')"
      ]
     },
     "execution_count": 59,
     "metadata": {},
     "output_type": "execute_result"
    }
   ],
   "source": [
    "# chaining .np.where() conditions\n",
    "# label elements in demo_array as 'even' if divisible by 2, 'odd' otherwise, and replaces elements with the value 9 if they're equal to 9\n",
    "np.where(demo_array % 2 == 0, 'even', np.where(demo_array == 9, 9, 'odd'))"
   ]
  },
  {
   "cell_type": "markdown",
   "metadata": {},
   "source": [
    "##### Modify Array values - not used often as data analyst"
   ]
  },
  {
   "cell_type": "code",
   "execution_count": 38,
   "metadata": {},
   "outputs": [
    {
     "data": {
      "text/plain": [
       "array([  0,   0, 518,   3, 616])"
      ]
     },
     "execution_count": 38,
     "metadata": {},
     "output_type": "execute_result"
    }
   ],
   "source": [
    "# copy array values to new array\n",
    "modify_array = multiple_logic_mask.copy()\n",
    "# array([  0,   0, 518,   0, 616])\n",
    "\n",
    "# modify values is done by calling the index and assigning value\n",
    "modify_array[3] = 3\n",
    "modify_array\n",
    "# third index is changed to 3\n",
    "#array([  0,   0, 518,   3, 616])\n"
   ]
  },
  {
   "cell_type": "markdown",
   "metadata": {},
   "source": [
    "##### <b>Array Aggregation Methods </b></br> Let you Calculate Metrics </br> &nbsp;&nbsp; sum, mean, max, min, stddev"
   ]
  },
  {
   "cell_type": "code",
   "execution_count": 61,
   "metadata": {},
   "outputs": [
    {
     "data": {
      "text/plain": [
       "array([[   0,    5,  155,    0,  518],\n",
       "       [   0, 1827,  616,  317,  325]])"
      ]
     },
     "execution_count": 61,
     "metadata": {},
     "output_type": "execute_result"
    }
   ],
   "source": [
    "# call sales_array\n",
    "sales_array"
   ]
  },
  {
   "cell_type": "code",
   "execution_count": 87,
   "metadata": {},
   "outputs": [
    {
     "name": "stdout",
     "output_type": "stream",
     "text": [
      "Array Elements Sum: 3763\n",
      "Array Elements Product: 0\n",
      "Array Elements Minimum: 0\n",
      "Array Elements Maximum: 1827\n",
      "Array Elements Mean: 376.3\n",
      "Array Elements Median: 236.0\n",
      "Array Elements Standard Deviation: 529.1366647662965\n",
      "Array Elements Variance: 279985.61\n",
      "Array Elements 25th Percentile: 1.25\n",
      "Array Elements 75th Percentile: 469.75\n",
      "Array Elements Square Root:\n"
     ]
    },
    {
     "data": {
      "text/plain": [
       "array([[ 0.        ,  2.23606798, 12.4498996 ,  0.        , 22.75961335],\n",
       "       [ 0.        , 42.74342055, 24.81934729, 17.80449381, 18.02775638]])"
      ]
     },
     "execution_count": 87,
     "metadata": {},
     "output_type": "execute_result"
    }
   ],
   "source": [
    "# these return the aggregated values from all values in the array\n",
    "print(f'Array Elements Sum: {sales_array.sum()}')\n",
    "print(f'Array Elements Product: {sales_array.prod()}')\n",
    "print(f'Array Elements Minimum: {sales_array.min()}')\n",
    "print(f'Array Elements Maximum: {sales_array.max()}')\n",
    "print(f'Array Elements Mean: {sales_array.mean()}')\n",
    "print(f'Array Elements Median: {np.median(sales_array)}')\n",
    "print(f'Array Elements Standard Deviation: {sales_array.std()}')\n",
    "print(f'Array Elements Variance: {sales_array.var()}')\n",
    "# Percentile function requires the Percentile amount 25th, 75th percentile as argument\n",
    "print(f'Array Elements 25th Percentile: {np.percentile(sales_array, 25)}')\n",
    "print(f'Array Elements 75th Percentile: {np.percentile(sales_array, 75)}')\n",
    "# square root function does each element of array\n",
    "print('Array Elements Square Root:') \n",
    "np.sqrt(sales_array)"
   ]
  },
  {
   "cell_type": "markdown",
   "metadata": {},
   "source": [
    "##### <b> Array Aggregation Methods across Rows or Columns </b></br>&nbsp;&nbsp;axis=0: Aggregate across rows .sum(axis=0) </br> &nbsp;&nbsp;axis=1: Aggregate across columns .sum(axis=1)"
   ]
  },
  {
   "cell_type": "code",
   "execution_count": 96,
   "metadata": {},
   "outputs": [
    {
     "name": "stdout",
     "output_type": "stream",
     "text": [
      "Array Row Elements Sum:\n"
     ]
    },
    {
     "data": {
      "text/plain": [
       "array([ 678, 3085])"
      ]
     },
     "execution_count": 96,
     "metadata": {},
     "output_type": "execute_result"
    }
   ],
   "source": [
    "# display sum for rows axis=1\n",
    "print('Array Row Elements Sum:')\n",
    "sales_array.sum(axis=1)"
   ]
  },
  {
   "cell_type": "code",
   "execution_count": 97,
   "metadata": {},
   "outputs": [
    {
     "name": "stdout",
     "output_type": "stream",
     "text": [
      "Array Column Elements Sum:\n"
     ]
    },
    {
     "data": {
      "text/plain": [
       "array([   0,  317,  330,  771, 2345])"
      ]
     },
     "execution_count": 97,
     "metadata": {},
     "output_type": "execute_result"
    }
   ],
   "source": [
    "# display sum for columns axis=0\n",
    "print('Array Column Elements Sum:')\n",
    "sales_array.sum(axis=0)"
   ]
  },
  {
   "cell_type": "markdown",
   "metadata": {},
   "source": [
    "##### <b> Sorting Array </b></br> - sort() will sort arrays in place </br> &nbsp;&nbsp; use the axis argument to specify the dimension to sort by"
   ]
  },
  {
   "cell_type": "code",
   "execution_count": 110,
   "metadata": {},
   "outputs": [],
   "source": [
    "# copy original sales_array for row and column sorting\n",
    "sales_array1 = sales_array.copy()\n",
    "sales_array2 = sales_array.copy()"
   ]
  },
  {
   "cell_type": "code",
   "execution_count": 113,
   "metadata": {},
   "outputs": [
    {
     "data": {
      "text/plain": [
       "array([[   0,    0,    5,  155,  518],\n",
       "       [   0,  317,  325,  616, 1827]])"
      ]
     },
     "execution_count": 113,
     "metadata": {},
     "output_type": "execute_result"
    }
   ],
   "source": [
    "# calling sort method will sort multidimensional array row by row as default which is axis=1\n",
    "sales_array1.sort()\n",
    "sales_array1"
   ]
  },
  {
   "cell_type": "code",
   "execution_count": 112,
   "metadata": {},
   "outputs": [
    {
     "data": {
      "text/plain": [
       "array([[   0,    5,  155,    0,  325],\n",
       "       [   0, 1827,  616,  317,  518]])"
      ]
     },
     "execution_count": 112,
     "metadata": {},
     "output_type": "execute_result"
    }
   ],
   "source": [
    "# to sort by columns use axis=0\n",
    "sales_array2.sort(axis=0)\n",
    "sales_array2"
   ]
  },
  {
   "cell_type": "code",
   "execution_count": 114,
   "metadata": {},
   "outputs": [
    {
     "data": {
      "text/plain": [
       "array([[   0,    0,    5,  155,  518],\n",
       "       [   0,  317,  325,  616, 1827]])"
      ]
     },
     "execution_count": 114,
     "metadata": {},
     "output_type": "execute_result"
    }
   ],
   "source": [
    "# using np.sort(array_name) will sort but not change order of original array unlike .sort() method\n",
    "np.sort(sales_array)"
   ]
  },
  {
   "cell_type": "code",
   "execution_count": 116,
   "metadata": {},
   "outputs": [
    {
     "data": {
      "text/plain": [
       "array([[   0,    5,  155,    0,  518],\n",
       "       [   0, 1827,  616,  317,  325]])"
      ]
     },
     "execution_count": 116,
     "metadata": {},
     "output_type": "execute_result"
    }
   ],
   "source": [
    "#original sort order of sales_array is maintained\n",
    "sales_array"
   ]
  }
 ],
 "metadata": {
  "kernelspec": {
   "display_name": "Python 3",
   "language": "python",
   "name": "python3"
  },
  "language_info": {
   "codemirror_mode": {
    "name": "ipython",
    "version": 3
   },
   "file_extension": ".py",
   "mimetype": "text/x-python",
   "name": "python",
   "nbconvert_exporter": "python",
   "pygments_lexer": "ipython3",
   "version": "3.11.9"
  }
 },
 "nbformat": 4,
 "nbformat_minor": 2
}
