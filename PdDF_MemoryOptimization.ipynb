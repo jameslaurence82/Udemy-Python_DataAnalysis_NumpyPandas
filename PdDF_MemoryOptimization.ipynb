{
 "cells": [
  {
   "cell_type": "markdown",
   "metadata": {},
   "source": [
    "##### **Memory Optimization** </b></br> DataFrames are stored entirely in memory </br> `Large Datasets use excess of memory` "
   ]
  },
  {
   "cell_type": "code",
   "execution_count": 11,
   "metadata": {},
   "outputs": [],
   "source": [
    "import pandas as pd\n",
    "import numpy as np"
   ]
  },
  {
   "cell_type": "markdown",
   "metadata": {},
   "source": [
    "##### **Best Practices**\n",
    "| Step | Description|\n",
    "|---|----------------|\n",
    "| 1 | Drop unneccessary Columns (or avoid reading them)|\n",
    "| 2 | Convert object types to numeric or datetime where possible|\n",
    "| 3 | Downcast numeric data to the smallest appropriate bit size|\n",
    "| 4 | Use the categorical data type `'category'` if `number of unique values < (rows / 2)`|"
   ]
  },
  {
   "cell_type": "code",
   "execution_count": 12,
   "metadata": {},
   "outputs": [
    {
     "data": {
      "text/html": [
       "<div>\n",
       "<style scoped>\n",
       "    .dataframe tbody tr th:only-of-type {\n",
       "        vertical-align: middle;\n",
       "    }\n",
       "\n",
       "    .dataframe tbody tr th {\n",
       "        vertical-align: top;\n",
       "    }\n",
       "\n",
       "    .dataframe thead th {\n",
       "        text-align: right;\n",
       "    }\n",
       "</style>\n",
       "<table border=\"1\" class=\"dataframe\">\n",
       "  <thead>\n",
       "    <tr style=\"text-align: right;\">\n",
       "      <th></th>\n",
       "      <th>id</th>\n",
       "      <th>date</th>\n",
       "      <th>store_nbr</th>\n",
       "      <th>family</th>\n",
       "      <th>sales</th>\n",
       "      <th>onpromotion</th>\n",
       "    </tr>\n",
       "  </thead>\n",
       "  <tbody>\n",
       "    <tr>\n",
       "      <th>0</th>\n",
       "      <td>1945944</td>\n",
       "      <td>2016-01-01</td>\n",
       "      <td>1</td>\n",
       "      <td>AUTOMOTIVE</td>\n",
       "      <td>0.0</td>\n",
       "      <td>0</td>\n",
       "    </tr>\n",
       "    <tr>\n",
       "      <th>1</th>\n",
       "      <td>1945945</td>\n",
       "      <td>2016-01-01</td>\n",
       "      <td>1</td>\n",
       "      <td>BABY CARE</td>\n",
       "      <td>0.0</td>\n",
       "      <td>0</td>\n",
       "    </tr>\n",
       "    <tr>\n",
       "      <th>2</th>\n",
       "      <td>1945946</td>\n",
       "      <td>2016-01-01</td>\n",
       "      <td>1</td>\n",
       "      <td>BEAUTY</td>\n",
       "      <td>0.0</td>\n",
       "      <td>0</td>\n",
       "    </tr>\n",
       "    <tr>\n",
       "      <th>3</th>\n",
       "      <td>1945947</td>\n",
       "      <td>2016-01-01</td>\n",
       "      <td>1</td>\n",
       "      <td>BEVERAGES</td>\n",
       "      <td>0.0</td>\n",
       "      <td>0</td>\n",
       "    </tr>\n",
       "    <tr>\n",
       "      <th>4</th>\n",
       "      <td>1945948</td>\n",
       "      <td>2016-01-01</td>\n",
       "      <td>1</td>\n",
       "      <td>BOOKS</td>\n",
       "      <td>0.0</td>\n",
       "      <td>0</td>\n",
       "    </tr>\n",
       "  </tbody>\n",
       "</table>\n",
       "</div>"
      ],
      "text/plain": [
       "        id        date  store_nbr      family  sales  onpromotion\n",
       "0  1945944  2016-01-01          1  AUTOMOTIVE    0.0            0\n",
       "1  1945945  2016-01-01          1   BABY CARE    0.0            0\n",
       "2  1945946  2016-01-01          1      BEAUTY    0.0            0\n",
       "3  1945947  2016-01-01          1   BEVERAGES    0.0            0\n",
       "4  1945948  2016-01-01          1       BOOKS    0.0            0"
      ]
     },
     "execution_count": 12,
     "metadata": {},
     "output_type": "execute_result"
    }
   ],
   "source": [
    "path_retail = 'Pandas Course Resources/retail/retail_2016_2017.csv'\n",
    "retail_df = pd.read_csv(path_retail)\n",
    "\n",
    "retail_df.head()"
   ]
  },
  {
   "cell_type": "code",
   "execution_count": 13,
   "metadata": {},
   "outputs": [
    {
     "name": "stdout",
     "output_type": "stream",
     "text": [
      "<class 'pandas.core.frame.DataFrame'>\n",
      "RangeIndex: 1054944 entries, 0 to 1054943\n",
      "Data columns (total 6 columns):\n",
      " #   Column       Non-Null Count    Dtype  \n",
      "---  ------       --------------    -----  \n",
      " 0   id           1054944 non-null  int64  \n",
      " 1   date         1054944 non-null  object \n",
      " 2   store_nbr    1054944 non-null  int64  \n",
      " 3   family       1054944 non-null  object \n",
      " 4   sales        1054944 non-null  float64\n",
      " 5   onpromotion  1054944 non-null  int64  \n",
      "dtypes: float64(1), int64(3), object(2)\n",
      "memory usage: 167.8 MB\n"
     ]
    }
   ],
   "source": [
    "# assess memory usage in MB\n",
    "retail_df.info(memory_usage='deep')"
   ]
  },
  {
   "cell_type": "code",
   "execution_count": 14,
   "metadata": {},
   "outputs": [
    {
     "data": {
      "text/plain": [
       "175920036"
      ]
     },
     "execution_count": 14,
     "metadata": {},
     "output_type": "execute_result"
    }
   ],
   "source": [
    "# assess memory usage in bytes\n",
    "retail_df.memory_usage(deep=True).sum()\n",
    "# 175920036"
   ]
  },
  {
   "cell_type": "markdown",
   "metadata": {},
   "source": [
    "##### **Drop Columns**"
   ]
  },
  {
   "cell_type": "code",
   "execution_count": 15,
   "metadata": {},
   "outputs": [
    {
     "data": {
      "text/html": [
       "<div>\n",
       "<style scoped>\n",
       "    .dataframe tbody tr th:only-of-type {\n",
       "        vertical-align: middle;\n",
       "    }\n",
       "\n",
       "    .dataframe tbody tr th {\n",
       "        vertical-align: top;\n",
       "    }\n",
       "\n",
       "    .dataframe thead th {\n",
       "        text-align: right;\n",
       "    }\n",
       "</style>\n",
       "<table border=\"1\" class=\"dataframe\">\n",
       "  <thead>\n",
       "    <tr style=\"text-align: right;\">\n",
       "      <th></th>\n",
       "      <th>date</th>\n",
       "      <th>store_nbr</th>\n",
       "      <th>family</th>\n",
       "      <th>sales</th>\n",
       "      <th>onpromotion</th>\n",
       "    </tr>\n",
       "  </thead>\n",
       "  <tbody>\n",
       "    <tr>\n",
       "      <th>0</th>\n",
       "      <td>2016-01-01</td>\n",
       "      <td>1</td>\n",
       "      <td>AUTOMOTIVE</td>\n",
       "      <td>0.000</td>\n",
       "      <td>0</td>\n",
       "    </tr>\n",
       "    <tr>\n",
       "      <th>1</th>\n",
       "      <td>2016-01-01</td>\n",
       "      <td>1</td>\n",
       "      <td>BABY CARE</td>\n",
       "      <td>0.000</td>\n",
       "      <td>0</td>\n",
       "    </tr>\n",
       "    <tr>\n",
       "      <th>2</th>\n",
       "      <td>2016-01-01</td>\n",
       "      <td>1</td>\n",
       "      <td>BEAUTY</td>\n",
       "      <td>0.000</td>\n",
       "      <td>0</td>\n",
       "    </tr>\n",
       "    <tr>\n",
       "      <th>3</th>\n",
       "      <td>2016-01-01</td>\n",
       "      <td>1</td>\n",
       "      <td>BEVERAGES</td>\n",
       "      <td>0.000</td>\n",
       "      <td>0</td>\n",
       "    </tr>\n",
       "    <tr>\n",
       "      <th>4</th>\n",
       "      <td>2016-01-01</td>\n",
       "      <td>1</td>\n",
       "      <td>BOOKS</td>\n",
       "      <td>0.000</td>\n",
       "      <td>0</td>\n",
       "    </tr>\n",
       "    <tr>\n",
       "      <th>...</th>\n",
       "      <td>...</td>\n",
       "      <td>...</td>\n",
       "      <td>...</td>\n",
       "      <td>...</td>\n",
       "      <td>...</td>\n",
       "    </tr>\n",
       "    <tr>\n",
       "      <th>1054939</th>\n",
       "      <td>2017-08-15</td>\n",
       "      <td>9</td>\n",
       "      <td>POULTRY</td>\n",
       "      <td>438.133</td>\n",
       "      <td>0</td>\n",
       "    </tr>\n",
       "    <tr>\n",
       "      <th>1054940</th>\n",
       "      <td>2017-08-15</td>\n",
       "      <td>9</td>\n",
       "      <td>PREPARED FOODS</td>\n",
       "      <td>154.553</td>\n",
       "      <td>1</td>\n",
       "    </tr>\n",
       "    <tr>\n",
       "      <th>1054941</th>\n",
       "      <td>2017-08-15</td>\n",
       "      <td>9</td>\n",
       "      <td>PRODUCE</td>\n",
       "      <td>2419.729</td>\n",
       "      <td>148</td>\n",
       "    </tr>\n",
       "    <tr>\n",
       "      <th>1054942</th>\n",
       "      <td>2017-08-15</td>\n",
       "      <td>9</td>\n",
       "      <td>SCHOOL AND OFFICE SUPPLIES</td>\n",
       "      <td>121.000</td>\n",
       "      <td>8</td>\n",
       "    </tr>\n",
       "    <tr>\n",
       "      <th>1054943</th>\n",
       "      <td>2017-08-15</td>\n",
       "      <td>9</td>\n",
       "      <td>SEAFOOD</td>\n",
       "      <td>16.000</td>\n",
       "      <td>0</td>\n",
       "    </tr>\n",
       "  </tbody>\n",
       "</table>\n",
       "<p>1054944 rows × 5 columns</p>\n",
       "</div>"
      ],
      "text/plain": [
       "               date  store_nbr                      family     sales  \\\n",
       "0        2016-01-01          1                  AUTOMOTIVE     0.000   \n",
       "1        2016-01-01          1                   BABY CARE     0.000   \n",
       "2        2016-01-01          1                      BEAUTY     0.000   \n",
       "3        2016-01-01          1                   BEVERAGES     0.000   \n",
       "4        2016-01-01          1                       BOOKS     0.000   \n",
       "...             ...        ...                         ...       ...   \n",
       "1054939  2017-08-15          9                     POULTRY   438.133   \n",
       "1054940  2017-08-15          9              PREPARED FOODS   154.553   \n",
       "1054941  2017-08-15          9                     PRODUCE  2419.729   \n",
       "1054942  2017-08-15          9  SCHOOL AND OFFICE SUPPLIES   121.000   \n",
       "1054943  2017-08-15          9                     SEAFOOD    16.000   \n",
       "\n",
       "         onpromotion  \n",
       "0                  0  \n",
       "1                  0  \n",
       "2                  0  \n",
       "3                  0  \n",
       "4                  0  \n",
       "...              ...  \n",
       "1054939            0  \n",
       "1054940            1  \n",
       "1054941          148  \n",
       "1054942            8  \n",
       "1054943            0  \n",
       "\n",
       "[1054944 rows x 5 columns]"
      ]
     },
     "execution_count": 15,
     "metadata": {},
     "output_type": "execute_result"
    }
   ],
   "source": [
    "# if data has id column that is the exact same as DataFrame index\n",
    "# then drop that column inplace=True to overwrite DataFrame\n",
    "retail_df.drop(columns='id', inplace=True)\n",
    "retail_df"
   ]
  },
  {
   "cell_type": "code",
   "execution_count": 17,
   "metadata": {},
   "outputs": [
    {
     "data": {
      "text/plain": [
       "167480484"
      ]
     },
     "execution_count": 17,
     "metadata": {},
     "output_type": "execute_result"
    }
   ],
   "source": [
    "# assess memory usage in bytes\n",
    "retail_df.memory_usage(deep=True).sum()\n",
    "# 175920036 before 'id' column drop\n",
    "# 167480484 after 'id' column drop"
   ]
  },
  {
   "cell_type": "markdown",
   "metadata": {},
   "source": [
    "##### **Convert Object Data Types**"
   ]
  },
  {
   "cell_type": "code",
   "execution_count": 19,
   "metadata": {},
   "outputs": [
    {
     "data": {
      "text/plain": [
       "34816592"
      ]
     },
     "execution_count": 19,
     "metadata": {},
     "output_type": "execute_result"
    }
   ],
   "source": [
    "# <class 'pandas.core.frame.DataFrame'>\n",
    "# RangeIndex: 1054944 entries, 0 to 1054943\n",
    "# Data columns (total 6 columns):\n",
    "#  #   Column       Non-Null Count    Dtype  \n",
    "# ---  ------       --------------    -----  \n",
    "#  0   id           1054944 non-null  int64  \n",
    "#  1   date         1054944 non-null  object \n",
    "#  2   store_nbr    1054944 non-null  int64  \n",
    "#  3   family       1054944 non-null  object \n",
    "#  4   sales        1054944 non-null  float64\n",
    "#  5   onpromotion  1054944 non-null  int64  \n",
    "# dtypes: float64(1), int64(3), object(2)\n",
    "# memory usage: 167.8 MB\n",
    "\n",
    "retail_df = retail_df.astype({'date': 'datetime64[ns]', 'family':'category'})\n",
    "# assess memory usage in bytes\n",
    "retail_df.memory_usage(deep=True).sum()\n",
    "# 175920036 before 'id' column drop\n",
    "# 167480484 after 'id' column drop\n",
    "# 34816592 after objects converted to datetime64, category data types"
   ]
  },
  {
   "cell_type": "markdown",
   "metadata": {},
   "source": [
    "##### **Downcasting Number Data** </br> Pandas casts Integers and Floats as 64-bit as default to be able to handle any value\n",
    "|bit size|number range|\n",
    "|--------|------------|\n",
    "|8-bits| -128 to 127|\n",
    "|16-bits| -32,768 to 32,767|\n",
    "|32-bits| -2,147,483,648 to 2,147,483,647|\n",
    "|64-bits| -9,223,372,036,854,775,808 to 9,223,372,036,854,775,807|\n"
   ]
  },
  {
   "cell_type": "code",
   "execution_count": 20,
   "metadata": {},
   "outputs": [
    {
     "data": {
      "text/plain": [
       "onpromotion\n",
       "0      643896\n",
       "1       93647\n",
       "2       44341\n",
       "3       26985\n",
       "4       20934\n",
       "        ...  \n",
       "600         1\n",
       "306         1\n",
       "672         1\n",
       "474         1\n",
       "425         1\n",
       "Name: count, Length: 362, dtype: int64"
      ]
     },
     "execution_count": 20,
     "metadata": {},
     "output_type": "execute_result"
    }
   ],
   "source": [
    "retail_df['onpromotion'].value_counts()"
   ]
  },
  {
   "cell_type": "code",
   "execution_count": 22,
   "metadata": {},
   "outputs": [
    {
     "data": {
      "text/plain": [
       "28486928"
      ]
     },
     "execution_count": 22,
     "metadata": {},
     "output_type": "execute_result"
    }
   ],
   "source": [
    "retail_df['onpromotion'] = retail_df['onpromotion'].astype('int16')\n",
    "retail_df.memory_usage(deep=True).sum()\n",
    "# 175920036 before 'id' column drop\n",
    "# 167480484 after 'id' column drop\n",
    "# 34816592 after objects converted to datetime64, category data types\n",
    "# 28486928 after int64 converted to int32"
   ]
  },
  {
   "cell_type": "markdown",
   "metadata": {},
   "source": [
    "##### **When doing Data Analysis, have an analysis path and optimize if if required </br> don't spend analysis time focused on optimizing memory, do after, especially if data is required for a pipeline"
   ]
  }
 ],
 "metadata": {
  "kernelspec": {
   "display_name": "base",
   "language": "python",
   "name": "python3"
  },
  "language_info": {
   "codemirror_mode": {
    "name": "ipython",
    "version": 3
   },
   "file_extension": ".py",
   "mimetype": "text/x-python",
   "name": "python",
   "nbconvert_exporter": "python",
   "pygments_lexer": "ipython3",
   "version": "3.11.9"
  }
 },
 "nbformat": 4,
 "nbformat_minor": 2
}
