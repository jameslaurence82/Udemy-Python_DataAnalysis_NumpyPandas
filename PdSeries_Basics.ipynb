{
 "cells": [
  {
   "cell_type": "markdown",
   "metadata": {},
   "source": [
    "##### <b> Pandas Series </b></br> - Series is equivalent to a column of data"
   ]
  },
  {
   "cell_type": "code",
   "execution_count": 1,
   "metadata": {},
   "outputs": [],
   "source": [
    "import numpy as np\n",
    "import pandas as pd"
   ]
  },
  {
   "cell_type": "markdown",
   "metadata": {},
   "source": [
    "##### <b> Series are Pandas data structures built on top of NumPy arrays</b></br> - Series contain index and optional name with array of data </br> - Can be created from other data types, usually imported </br> - Two or more series grouped together form Pandas Dataframe"
   ]
  },
  {
   "cell_type": "code",
   "execution_count": 2,
   "metadata": {},
   "outputs": [
    {
     "data": {
      "text/plain": [
       "0    0\n",
       "1    1\n",
       "2    2\n",
       "3    3\n",
       "4    4\n",
       "Name: Sales, dtype: int32"
      ]
     },
     "execution_count": 2,
     "metadata": {},
     "output_type": "execute_result"
    }
   ],
   "source": [
    "# create list of integers\n",
    "sales = np.arange(5)\n",
    "\n",
    "# convert to Pandas Series\n",
    "sales_series = pd.Series(sales, name=\"Sales\") # name will give hte column a header when joining or appending to other dataframes/series\n",
    "\n",
    "sales_series"
   ]
  },
  {
   "cell_type": "markdown",
   "metadata": {},
   "source": [
    "##### <b> Pandas Series have these key properties</b></br> - values: data array in the series </br> - index: index array in the series </br> - name: optional name for the serise (useful for accessing columns)</br> - dtype: dataype of elements in the values array"
   ]
  },
  {
   "cell_type": "code",
   "execution_count": 3,
   "metadata": {},
   "outputs": [
    {
     "data": {
      "text/plain": [
       "array([0, 1, 2, 3, 4])"
      ]
     },
     "execution_count": 3,
     "metadata": {},
     "output_type": "execute_result"
    }
   ],
   "source": [
    "# accessing series values is accessing a numpy array\n",
    "sales_series.values"
   ]
  },
  {
   "cell_type": "code",
   "execution_count": 4,
   "metadata": {},
   "outputs": [
    {
     "data": {
      "text/plain": [
       "RangeIndex(start=0, stop=5, step=1)"
      ]
     },
     "execution_count": 4,
     "metadata": {},
     "output_type": "execute_result"
    }
   ],
   "source": [
    "# can view index\n",
    "sales_series.index"
   ]
  },
  {
   "cell_type": "code",
   "execution_count": 5,
   "metadata": {},
   "outputs": [
    {
     "data": {
      "text/plain": [
       "10    0\n",
       "20    1\n",
       "30    2\n",
       "40    3\n",
       "50    4\n",
       "Name: Sales, dtype: int32"
      ]
     },
     "execution_count": 5,
     "metadata": {},
     "output_type": "execute_result"
    }
   ],
   "source": [
    "# can change the index values using range or manually\n",
    "sales_series.index = pd.RangeIndex(10, 51, 10)\n",
    "sales_series"
   ]
  },
  {
   "cell_type": "code",
   "execution_count": 6,
   "metadata": {},
   "outputs": [
    {
     "data": {
      "text/plain": [
       "2.0"
      ]
     },
     "execution_count": 6,
     "metadata": {},
     "output_type": "execute_result"
    }
   ],
   "source": [
    "# aggregations can be performed\n",
    "sales_series.mean()"
   ]
  },
  {
   "cell_type": "code",
   "execution_count": 7,
   "metadata": {},
   "outputs": [
    {
     "data": {
      "text/plain": [
       "10    0\n",
       "20    1\n",
       "30    2\n",
       "40    3\n",
       "50    4\n",
       "Name: updatedSales, dtype: int32"
      ]
     },
     "execution_count": 7,
     "metadata": {},
     "output_type": "execute_result"
    }
   ],
   "source": [
    "# name can be updated\n",
    "sales_series.name = \"updatedSales\"\n",
    "sales_series"
   ]
  },
  {
   "cell_type": "markdown",
   "metadata": {},
   "source": [
    "| Numeric Data Types| Library | Description                    | Bitsize          |\n",
    "|-------------------|---------|--------------------------------|------------------|\n",
    "| Bool              | NumPy   | Boolean True/False             | 8                |\n",
    "| int64             | NumPy   | Whole Numbers                  | 8, 16, 32, 64   |\n",
    "| float64           | NumPy   | Decimal Numbers                | 8, 16, 32, 64   |\n",
    "| object            | NumPy   | Any Python Object              | N/A              |\n",
    "| boolean           | Pandas  | Nullable Boolean True/False    | 8                |\n",
    "| int64             | Pandas  | Nullable Whole Numbers         | 8, 16, 32, 64   |\n",
    "| float64           | Pandas  | Nullable Decimal Numbers       | 8, 16, 32, 64   |\n",
    "| string/text       | Pandas  | Text/String Data               | N/A              |\n",
    "| category          | Pandas  | Maps categorical data to numerical array for efficiency| N/A              |\n",
    "| datetime64        | Pandas  | single moment in time (January 4, 2015, 2:00:00PM)     | 64               |\n",
    "| timedelta         | Pandas  | Duration between 2 dates or times             | N/A               |\n",
    "| period   4        | Pandas  | A span on Time             | N/A               |\n"
   ]
  },
  {
   "cell_type": "markdown",
   "metadata": {},
   "source": [
    "##### </br> <b> Object/Text Data Types</b></br>  object - Any Python Object </br> string - only contains strings or text </br> category - Maps categorical data to a numeric array for efficiency "
   ]
  },
  {
   "cell_type": "markdown",
   "metadata": {},
   "source": [
    "##### </br> <b> Time Series </b></br> datetime - a single moment in time (January 4, 2015, 2:00:00 PM) </br> timedelta  - The duration between two dates or times (1o days, 3 seconds, etc...) </br> period - a span of time (a day, a week, etc...)"
   ]
  },
  {
   "cell_type": "markdown",
   "metadata": {},
   "source": [
    "##### <b> Type Conversion </b>"
   ]
  },
  {
   "cell_type": "code",
   "execution_count": 8,
   "metadata": {},
   "outputs": [
    {
     "name": "stdout",
     "output_type": "stream",
     "text": [
      "10    0\n",
      "20    1\n",
      "30    2\n",
      "40    3\n",
      "50    4\n",
      "Name: updatedSales, dtype: int32\n",
      "10    False\n",
      "20     True\n",
      "30     True\n",
      "40     True\n",
      "50     True\n",
      "Name: updatedSales, dtype: bool\n",
      "10    0.0\n",
      "20    1.0\n",
      "30    2.0\n",
      "40    3.0\n",
      "50    4.0\n",
      "Name: updatedSales, dtype: float64\n",
      "10    0\n",
      "20    1\n",
      "30    2\n",
      "40    3\n",
      "50    4\n",
      "Name: updatedSales, dtype: object\n",
      "10    0\n",
      "20    1\n",
      "30    2\n",
      "40    3\n",
      "50    4\n",
      "Name: updatedSales, dtype: string\n"
     ]
    }
   ],
   "source": [
    "# using the method .astype(\"<Data Type>\") you can convert values if they are compatible\n",
    "print(sales_series)\n",
    "print(sales_series.astype(\"bool\"))\n",
    "print(sales_series.astype(\"float\"))\n",
    "print(sales_series.astype(\"object\"))\n",
    "print(sales_series.astype(\"string\"))"
   ]
  },
  {
   "cell_type": "code",
   "execution_count": 9,
   "metadata": {},
   "outputs": [
    {
     "name": "stdout",
     "output_type": "stream",
     "text": [
      "0.8\n"
     ]
    }
   ],
   "source": [
    "print(sales_series.astype(\"bool\").mean())"
   ]
  },
  {
   "cell_type": "code",
   "execution_count": 10,
   "metadata": {},
   "outputs": [],
   "source": [
    "# this cannot be converted - ValueError\n",
    "# print(sales_series.astype(\"datetime64\"))\n",
    "# ValueError: The 'datetime64' dtype has no unit. Please pass in 'datetime64[ns]' instead.\n"
   ]
  },
  {
   "cell_type": "markdown",
   "metadata": {},
   "source": [
    "### <b> Indexing </b></br>"
   ]
  },
  {
   "cell_type": "markdown",
   "metadata": {},
   "source": [
    "##### <b> The Index </b></br> Index lets you easily access 'rows' in Pandas Series or Dataframe"
   ]
  },
  {
   "cell_type": "code",
   "execution_count": null,
   "metadata": {},
   "outputs": [
    {
     "data": {
      "text/plain": [
       "0    0\n",
       "1    1\n",
       "2    2\n",
       "3    3\n",
       "4    4\n",
       "Name: Sales, dtype: int32"
      ]
     },
     "metadata": {},
     "output_type": "display_data"
    }
   ],
   "source": [
    "# create list of integers\n",
    "sales = np.arange(5)\n",
    "\n",
    "# convert to Pandas Series\n",
    "sales_series = pd.Series(sales, name=\"Sales\") # name will give hte column a header when joining or appending to other dataframes/series\n",
    "\n",
    "sales_series"
   ]
  },
  {
   "cell_type": "code",
   "execution_count": null,
   "metadata": {},
   "outputs": [
    {
     "name": "stdout",
     "output_type": "stream",
     "text": [
      "2    2\n",
      "3    3\n",
      "Name: Sales, dtype: int32\n"
     ]
    }
   ],
   "source": [
    "# Series can be accessed and sliced like other access sequence data types like base python\n",
    "sales_series[2]\n",
    "print(sales_series[2:4])\n",
    "# however this is a better way"
   ]
  },
  {
   "cell_type": "markdown",
   "metadata": {},
   "source": [
    "##### <b> Custom Indices </b></br> There are cases to use a custom index for accessing rows"
   ]
  },
  {
   "cell_type": "code",
   "execution_count": null,
   "metadata": {},
   "outputs": [
    {
     "data": {
      "text/plain": [
       "coffee       0\n",
       "bananas      5\n",
       "tea        155\n",
       "coconut      0\n",
       "sugar      518\n",
       "Name: Indexed_Sales, dtype: int64"
      ]
     },
     "metadata": {},
     "output_type": "display_data"
    }
   ],
   "source": [
    "# a list can be assigned to the index of a series as long as the value count matches\n",
    "# for data analysis, default integer index is best\n",
    "sales = [0, 5, 155, 0, 518]\n",
    "items = ['coffee', 'bananas', 'tea', 'coconut', 'sugar']\n",
    "# assigning items to the indexed_sales index column values\n",
    "indexed_sales = pd.Series(sales, index=items, name='Indexed_Sales')\n",
    "indexed_sales"
   ]
  },
  {
   "cell_type": "code",
   "execution_count": null,
   "metadata": {},
   "outputs": [
    {
     "data": {
      "text/plain": [
       "155"
      ]
     },
     "metadata": {},
     "output_type": "display_data"
    }
   ],
   "source": [
    "# can call row value based on the index string\n",
    "indexed_sales['tea']"
   ]
  },
  {
   "cell_type": "code",
   "execution_count": null,
   "metadata": {},
   "outputs": [
    {
     "name": "stdout",
     "output_type": "stream",
     "text": [
      "\n",
      "using Index name does include stop point which is coconut\n",
      "bananas      5\n",
      "tea        155\n",
      "coconut      0\n",
      "Name: Indexed_Sales, dtype: int64\n",
      "\n",
      "using Index Integer does not include stop point which is coconut\n",
      "bananas      5\n",
      "tea        155\n",
      "Name: Indexed_Sales, dtype: int64\n"
     ]
    }
   ],
   "source": [
    "# when slicing using index labels, the stop point is included, however numeric index the stop is no included\n",
    "print()\n",
    "print('using Index name does include stop point which is coconut')\n",
    "print(indexed_sales['bananas':'coconut'])\n",
    "print()\n",
    "print('using Index Integer does not include stop point which is coconut')\n",
    "print(indexed_sales[1:3])"
   ]
  },
  {
   "cell_type": "markdown",
   "metadata": {},
   "source": [
    "##### <b> .iloc[] Method </b></br> Preferred method to access values by positional index (using numeric) </br> - Method works even when Series have custom non-integer index </br> - more efficient </br> &nbsp;&nbsp; Series: seriesname.iloc[row position] </br> &nbsp;&nbsp; Dataframe: dataframename.iloc[row position, column position]"
   ]
  },
  {
   "cell_type": "code",
   "execution_count": null,
   "metadata": {},
   "outputs": [
    {
     "name": "stdout",
     "output_type": "stream",
     "text": [
      "\n",
      "Single Index iloc[] Call\n",
      "155\n",
      "\n",
      "Index slice iloc[] Call\n",
      "tea        155\n",
      "coconut      0\n",
      "Name: Indexed_Sales, dtype: int64\n",
      "\n",
      "specific Indices iloc[] Call which requires nested list\n",
      "coffee      0\n",
      "tea       155\n",
      "sugar     518\n",
      "Name: Indexed_Sales, dtype: int64\n",
      "\n",
      "Last Index iloc[] Call\n",
      "518\n",
      "\n",
      "Reverse series Index iloc[] Call\n",
      "sugar      518\n",
      "coconut      0\n",
      "tea        155\n",
      "bananas      5\n",
      "coffee       0\n",
      "Name: Indexed_Sales, dtype: int64\n"
     ]
    }
   ],
   "source": [
    "# can call row value using the iloc[] accessor \n",
    "print()\n",
    "print('Single Index iloc[] Call')\n",
    "print(indexed_sales.iloc[2])\n",
    "print()\n",
    "print('Index slice iloc[] Call')\n",
    "print(indexed_sales.iloc[2:4])\n",
    "print()\n",
    "print('specific Indices iloc[] Call which requires nested list')\n",
    "print(indexed_sales.iloc[[0, 2, 4]]) # require nested list to work\n",
    "print()\n",
    "print('Last Index iloc[] Call')\n",
    "print(indexed_sales.iloc[-1]) \n",
    "print()\n",
    "print('Reverse series Index iloc[] Call')\n",
    "print(indexed_sales.iloc[::-1])"
   ]
  },
  {
   "cell_type": "markdown",
   "metadata": {},
   "source": [
    "##### <b> .loc[] Method </b></br> Preferred method to access values by their custom labels </br> &nbsp;&nbsp; seriesname.loc[row label] </br> &nbsp;&nbsp; dataframename.loc[row label, column label] </br> - If row indices are numeric and default, loc[] method can use index number with column label"
   ]
  },
  {
   "cell_type": "code",
   "execution_count": null,
   "metadata": {},
   "outputs": [
    {
     "name": "stdout",
     "output_type": "stream",
     "text": [
      "\n",
      "Single Index loc[] Call\n",
      "0\n",
      "\n",
      "Single Index loc[] Call\n",
      "coffee       0\n",
      "bananas      5\n",
      "tea        155\n",
      "coconut      0\n",
      "Name: Indexed_Sales, dtype: int64\n"
     ]
    }
   ],
   "source": [
    "# can call row value using the loc[] accessor \n",
    "print()\n",
    "print('Single Index loc[] Call')\n",
    "print(indexed_sales.loc['coconut'])\n",
    "print()\n",
    "print('Single Index loc[] Call')\n",
    "print(indexed_sales.loc['coffee':'coconut'])"
   ]
  },
  {
   "cell_type": "markdown",
   "metadata": {},
   "source": [
    "##### <b>  Duplicate Index Values </b></br> Possible to have duplicate Index values in Pandas Series/Dataframe </br>- DO NOT SET DUPLICATE INDEX VALUES - </br> - accessing these indices using label .iloc[] returns all corresponding rows"
   ]
  },
  {
   "cell_type": "code",
   "execution_count": null,
   "metadata": {},
   "outputs": [
    {
     "data": {
      "text/plain": [
       "coffee       0\n",
       "coffee       5\n",
       "tea        155\n",
       "coconut      0\n",
       "sugar      518\n",
       "Name: Duplicate_Index, dtype: int64"
      ]
     },
     "metadata": {},
     "output_type": "display_data"
    }
   ],
   "source": [
    "# assigning list of values which includes a duplicate value. \n",
    "#####################################\n",
    "# DO NOT SET DUPLICATE INDEX VALUES\n",
    "#####################################\n",
    "sales1 = [0, 5, 155, 0, 518]\n",
    "items1 = ['coffee', 'coffee', 'tea', 'coconut', 'sugar']\n",
    "# assigning items to the indexed_sales index column values\n",
    "duplicate_index = pd.Series(sales1, index=items1, name='Duplicate_Index')\n",
    "duplicate_index"
   ]
  },
  {
   "cell_type": "markdown",
   "metadata": {},
   "source": [
    "##### <b>  Reseeting Index Values </b></br> Can reset index back to default range of integers using .reset_index() method </br> - by default, existing index will become new column in dataframe"
   ]
  },
  {
   "cell_type": "code",
   "execution_count": null,
   "metadata": {},
   "outputs": [
    {
     "data": {
      "text/html": [
       "<div>\n",
       "<style scoped>\n",
       "    .dataframe tbody tr th:only-of-type {\n",
       "        vertical-align: middle;\n",
       "    }\n",
       "\n",
       "    .dataframe tbody tr th {\n",
       "        vertical-align: top;\n",
       "    }\n",
       "\n",
       "    .dataframe thead th {\n",
       "        text-align: right;\n",
       "    }\n",
       "</style>\n",
       "<table border=\"1\" class=\"dataframe\">\n",
       "  <thead>\n",
       "    <tr style=\"text-align: right;\">\n",
       "      <th></th>\n",
       "      <th>index</th>\n",
       "      <th>Duplicate_Index</th>\n",
       "    </tr>\n",
       "  </thead>\n",
       "  <tbody>\n",
       "    <tr>\n",
       "      <th>0</th>\n",
       "      <td>coffee</td>\n",
       "      <td>0</td>\n",
       "    </tr>\n",
       "    <tr>\n",
       "      <th>1</th>\n",
       "      <td>coffee</td>\n",
       "      <td>5</td>\n",
       "    </tr>\n",
       "    <tr>\n",
       "      <th>2</th>\n",
       "      <td>tea</td>\n",
       "      <td>155</td>\n",
       "    </tr>\n",
       "    <tr>\n",
       "      <th>3</th>\n",
       "      <td>coconut</td>\n",
       "      <td>0</td>\n",
       "    </tr>\n",
       "    <tr>\n",
       "      <th>4</th>\n",
       "      <td>sugar</td>\n",
       "      <td>518</td>\n",
       "    </tr>\n",
       "  </tbody>\n",
       "</table>\n",
       "</div>"
      ],
      "text/plain": [
       "     index  Duplicate_Index\n",
       "0   coffee                0\n",
       "1   coffee                5\n",
       "2      tea              155\n",
       "3  coconut                0\n",
       "4    sugar              518"
      ]
     },
     "metadata": {},
     "output_type": "display_data"
    }
   ],
   "source": [
    "#in series it will become a dataframe as default for deafault .reset_index()\n",
    "duplicate_index.reset_index()"
   ]
  },
  {
   "cell_type": "code",
   "execution_count": null,
   "metadata": {},
   "outputs": [
    {
     "data": {
      "text/plain": [
       "0      0\n",
       "1      5\n",
       "2    155\n",
       "3      0\n",
       "4    518\n",
       "Name: Duplicate_Index, dtype: int64"
      ]
     },
     "metadata": {},
     "output_type": "display_data"
    }
   ],
   "source": [
    "# including drop=True, the index will reset and not include the previous index \n",
    "duplicate_index.reset_index(drop=True)"
   ]
  },
  {
   "cell_type": "code",
   "execution_count": null,
   "metadata": {},
   "outputs": [
    {
     "data": {
      "text/plain": [
       "2    155\n",
       "3      0\n",
       "4    518\n",
       "Name: Duplicate_Index, dtype: int64"
      ]
     },
     "metadata": {},
     "output_type": "display_data"
    }
   ],
   "source": [
    "# reset index in call series row indices\n",
    "duplicate_index.reset_index(drop=True).loc[2:4]\n"
   ]
  },
  {
   "cell_type": "code",
   "execution_count": null,
   "metadata": {},
   "outputs": [
    {
     "data": {
      "text/plain": [
       "0      0\n",
       "1      5\n",
       "2    155\n",
       "3      0\n",
       "4    518\n",
       "Name: Duplicate_Index, dtype: int64"
      ]
     },
     "metadata": {},
     "output_type": "display_data"
    }
   ],
   "source": [
    "duplicate_index.reset_index(drop=True, inplace=True)\n",
    "duplicate_index"
   ]
  },
  {
   "cell_type": "markdown",
   "metadata": {},
   "source": [
    "### <b> Sorting and Filtering Series </b></br>"
   ]
  },
  {
   "cell_type": "markdown",
   "metadata": {},
   "source": [
    "##### <b> Filtering Series </b></br> - Filter a series by passing a logical test in the .loc[] accessor"
   ]
  },
  {
   "cell_type": "code",
   "execution_count": null,
   "metadata": {},
   "outputs": [
    {
     "data": {
      "text/plain": [
       "coffee       0\n",
       "coffee       5\n",
       "tea        155\n",
       "coconut      0\n",
       "sugar      518\n",
       "Name: Sales, dtype: int64"
      ]
     },
     "metadata": {},
     "output_type": "display_data"
    }
   ],
   "source": [
    "# a list can be assigned to the index of a series as long as the value count matches\n",
    "# for data analysis, default integer index is best\n",
    "sales = [0, 5, 155, 0, 518]\n",
    "items = ['coffee', 'coffee', 'tea', 'coconut', 'sugar']\n",
    "# assigning items to the indexed_sales index column values\n",
    "sales_series = pd.Series(sales, index=items, name='Sales')\n",
    "sales_series"
   ]
  },
  {
   "cell_type": "code",
   "execution_count": null,
   "metadata": {},
   "outputs": [
    {
     "data": {
      "text/plain": [
       "coffee      5\n",
       "tea       155\n",
       "sugar     518\n",
       "Name: Sales, dtype: int64"
      ]
     },
     "metadata": {},
     "output_type": "display_data"
    }
   ],
   "source": [
    "# filtering a series using .loc[] accessor\n",
    "sales_series.loc[sales_series > 0]"
   ]
  },
  {
   "cell_type": "code",
   "execution_count": null,
   "metadata": {},
   "outputs": [
    {
     "data": {
      "text/plain": [
       "coffee    5\n",
       "Name: Sales, dtype: int64"
      ]
     },
     "metadata": {},
     "output_type": "display_data"
    }
   ],
   "source": [
    "# create a mask for multiple logical conditions\n",
    "mask = (sales_series > 0) & (sales_series.index == 'coffee') \n",
    "sales_series[mask]"
   ]
  },
  {
   "cell_type": "markdown",
   "metadata": {},
   "source": [
    "### **Operators and Methods to Create Boolean Filters for Logical Tests**\n",
    "\n",
    "| Description                 | Python Operator | Pandas Method |\n",
    "|-----------------------------|-----------------|---------------|\n",
    "| Equal                       | `==`            | `.eq()`       |\n",
    "| Not Equal                   | `!=`            | `.ne()`       |\n",
    "| Less Than or Equal          | `<=`            | `.le()`       |\n",
    "| Less Than                   | `<`             | `.lt()`       |\n",
    "| Greater Than or Equal       | `>=`            | `.ge()`       |\n",
    "| Greater Than                | `>`             | `.gt()`       |\n",
    "| Membership Test             | `in`            | `isin()`      |\n",
    "| Inverse Membership Test     | `not in`        | `~.isin()`    |\n",
    "##### .isin() method syntax: pd[`column_name_to_be_searched`].isin([`list of EXACT search strings`]) otherwise use .str.contains(`string characters`)"
   ]
  },
  {
   "cell_type": "code",
   "execution_count": null,
   "metadata": {},
   "outputs": [
    {
     "data": {
      "text/plain": [
       "array([ True,  True,  True, False, False])"
      ]
     },
     "metadata": {},
     "output_type": "display_data"
    }
   ],
   "source": [
    "# Membership Test\n",
    "sales_series.index.isin(['coffee', 'tea'])"
   ]
  },
  {
   "cell_type": "code",
   "execution_count": null,
   "metadata": {},
   "outputs": [
    {
     "data": {
      "text/plain": [
       "array([False, False, False,  True,  True])"
      ]
     },
     "metadata": {},
     "output_type": "display_data"
    }
   ],
   "source": [
    "# Inverse Membership Test use the tilde infront of series/dataframe\n",
    "~sales_series.index.isin(['coffee', 'tea'])"
   ]
  },
  {
   "cell_type": "code",
   "execution_count": null,
   "metadata": {},
   "outputs": [
    {
     "data": {
      "text/plain": [
       "coffee     0\n",
       "coffee     5\n",
       "coconut    0\n",
       "Name: Sales, dtype: int64"
      ]
     },
     "metadata": {},
     "output_type": "display_data"
    }
   ],
   "source": [
    "# logical membership test using .loc accessor and boolean mask\n",
    "sales_series.loc[sales_series.isin([0,5])]"
   ]
  },
  {
   "cell_type": "code",
   "execution_count": null,
   "metadata": {},
   "outputs": [
    {
     "data": {
      "text/plain": [
       "tea      155\n",
       "sugar    518\n",
       "Name: Sales, dtype: int64"
      ]
     },
     "metadata": {},
     "output_type": "display_data"
    }
   ],
   "source": [
    "# logical inverse membership test using .loc accessor and boolean mask\n",
    "sales_series.loc[~sales_series.isin([0,5])]"
   ]
  },
  {
   "cell_type": "code",
   "execution_count": null,
   "metadata": {},
   "outputs": [
    {
     "data": {
      "text/plain": [
       "tea      155\n",
       "sugar    518\n",
       "Name: Sales, dtype: int64"
      ]
     },
     "metadata": {},
     "output_type": "display_data"
    }
   ],
   "source": [
    "sales_series.loc[sales_series >= 155]"
   ]
  },
  {
   "cell_type": "code",
   "execution_count": null,
   "metadata": {},
   "outputs": [
    {
     "data": {
      "text/plain": [
       "coffee     0\n",
       "coffee     5\n",
       "coconut    0\n",
       "Name: Sales, dtype: int64"
      ]
     },
     "metadata": {},
     "output_type": "display_data"
    }
   ],
   "source": [
    "# to do inverse of sales_series.loc[sales_series >= 155] can use (less than or equal) or tilde on entire logical condition\n",
    "sales_series.loc[~(sales_series >= 155)]"
   ]
  },
  {
   "cell_type": "markdown",
   "metadata": {},
   "source": [
    "##### <b> Sorting Series </b></br> Sort can be done by values or their index in ascending order by default </br> - sort values: .sortvalues() </br> - sort index: .sort_index()"
   ]
  },
  {
   "cell_type": "code",
   "execution_count": null,
   "metadata": {},
   "outputs": [
    {
     "data": {
      "text/plain": [
       "coffee       0\n",
       "coconut      0\n",
       "coffee       5\n",
       "tea        155\n",
       "sugar      518\n",
       "Name: Sales, dtype: int64"
      ]
     },
     "metadata": {},
     "output_type": "display_data"
    }
   ],
   "source": [
    "# default value sort (ascending)\n",
    "sales_series.sort_values()"
   ]
  },
  {
   "cell_type": "code",
   "execution_count": null,
   "metadata": {},
   "outputs": [
    {
     "data": {
      "text/plain": [
       "sugar      518\n",
       "tea        155\n",
       "coffee       5\n",
       "coffee       0\n",
       "coconut      0\n",
       "Name: Sales, dtype: int64"
      ]
     },
     "metadata": {},
     "output_type": "display_data"
    }
   ],
   "source": [
    "# descending value sort\n",
    "sales_series.sort_values(ascending=False)"
   ]
  },
  {
   "cell_type": "code",
   "execution_count": null,
   "metadata": {},
   "outputs": [
    {
     "data": {
      "text/plain": [
       "coconut      0\n",
       "coffee       0\n",
       "coffee       5\n",
       "sugar      518\n",
       "tea        155\n",
       "Name: Sales, dtype: int64"
      ]
     },
     "metadata": {},
     "output_type": "display_data"
    }
   ],
   "source": [
    "# default index sort (ascending)\n",
    "sales_series.sort_index()"
   ]
  },
  {
   "cell_type": "code",
   "execution_count": null,
   "metadata": {},
   "outputs": [
    {
     "data": {
      "text/plain": [
       "tea        155\n",
       "sugar      518\n",
       "coffee       0\n",
       "coffee       5\n",
       "coconut      0\n",
       "Name: Sales, dtype: int64"
      ]
     },
     "metadata": {},
     "output_type": "display_data"
    }
   ],
   "source": [
    "# descending index sort\n",
    "sales_series.sort_index(ascending=False)"
   ]
  },
  {
   "cell_type": "markdown",
   "metadata": {},
   "source": [
    "##### <b> Operations and Aggregations </b></br> - Series is equivalent to a column of data"
   ]
  },
  {
   "cell_type": "markdown",
   "metadata": {},
   "source": [
    "##### Basic Python Operations and Pandas Methods\n",
    "| Description            | Python Operator | Pandas Method |\n",
    "|------------------------|-----------------|---------------|\n",
    "| Addition               | `+`             | `.add()`      |\n",
    "| Subtraction            | `-`             | `.sub()`      |\n",
    "| Multiplication         | `*`             | `.mul()`      |\n",
    "| Division               | `/`             | `.div()`      |\n",
    "| Floor Division         | `//`            | `.floordiv()` |\n",
    "| Modulo                 | `%`             | `.mod()`      |\n",
    "| Exponentiation         | `**`            | `.pow()`      |\n",
    "\n"
   ]
  },
  {
   "cell_type": "code",
   "execution_count": null,
   "metadata": {},
   "outputs": [
    {
     "data": {
      "text/plain": [
       "0      0\n",
       "1      5\n",
       "2    155\n",
       "3      0\n",
       "4    518\n",
       "dtype: int64"
      ]
     },
     "metadata": {},
     "output_type": "display_data"
    }
   ],
   "source": [
    "# creation of Series\n",
    "sales = [0, 5, 155, 0, 518]\n",
    "sales_series = pd.Series(sales)\n",
    "sales_series"
   ]
  },
  {
   "cell_type": "code",
   "execution_count": null,
   "metadata": {},
   "outputs": [
    {
     "name": "stdout",
     "output_type": "stream",
     "text": [
      "+ 2\n",
      "0      2\n",
      "1      7\n",
      "2    157\n",
      "3      2\n",
      "4    520\n",
      "dtype: int64\n",
      ".add(2)\n",
      "0      2\n",
      "1      7\n",
      "2    157\n",
      "3      2\n",
      "4    520\n",
      "dtype: int64\n"
     ]
    }
   ],
   "source": [
    "# these are the same\n",
    "print(\"+ 2\")\n",
    "print(sales_series +2)\n",
    "print(\".add(2)\")\n",
    "print(sales_series.add(2))"
   ]
  },
  {
   "cell_type": "code",
   "execution_count": null,
   "metadata": {},
   "outputs": [
    {
     "data": {
      "text/plain": [
       "0      $0.0\n",
       "1      $5.0\n",
       "2    $155.0\n",
       "3      $0.0\n",
       "4    $518.0\n",
       "dtype: string"
      ]
     },
     "metadata": {},
     "output_type": "display_data"
    }
   ],
   "source": [
    "# to concatenate series by including $\n",
    "# change to float for decimal and then to string to be able to concatenate with $\n",
    "'$' + sales_series.astype('float').astype('string')"
   ]
  },
  {
   "cell_type": "code",
   "execution_count": null,
   "metadata": {},
   "outputs": [
    {
     "data": {
      "text/plain": [
       "day 0    1.0\n",
       "day 1    NaN\n",
       "day 2    2.0\n",
       "day 3    3.0\n",
       "day 4    4.0\n",
       "dtype: float64"
      ]
     },
     "metadata": {},
     "output_type": "display_data"
    }
   ],
   "source": [
    "# creating series with null\n",
    "my_series = pd.Series([1, np.NAN, 2, 3, 4], index = ['day 0', 'day 1','day 2','day 3','day 4'])\n",
    "my_series"
   ]
  },
  {
   "cell_type": "code",
   "execution_count": null,
   "metadata": {},
   "outputs": [
    {
     "data": {
      "text/plain": [
       "day 0    3.0\n",
       "day 1    NaN\n",
       "day 2    4.0\n",
       "day 3    5.0\n",
       "day 4    6.0\n",
       "dtype: float64"
      ]
     },
     "metadata": {},
     "output_type": "display_data"
    }
   ],
   "source": [
    "# using python operations with Null does not change value of null\n",
    "my_series + 2"
   ]
  },
  {
   "cell_type": "code",
   "execution_count": null,
   "metadata": {},
   "outputs": [
    {
     "name": "stdout",
     "output_type": "stream",
     "text": [
      "using .fill_value(<value> will impute value to be affected by operation)\n"
     ]
    },
    {
     "data": {
      "text/plain": [
       "day 0    3.0\n",
       "day 1    2.0\n",
       "day 2    4.0\n",
       "day 3    5.0\n",
       "day 4    6.0\n",
       "dtype: float64"
      ]
     },
     "metadata": {},
     "output_type": "display_data"
    }
   ],
   "source": [
    "# using pandas operations with Null can indicate a fill value for nulls\n",
    "print('using .fill_value(<value> will impute value to be affected by operation)')\n",
    "my_series.add(2, fill_value=0)"
   ]
  },
  {
   "cell_type": "code",
   "execution_count": null,
   "metadata": {},
   "outputs": [
    {
     "data": {
      "text/plain": [
       "day 0     4.0\n",
       "day 1     NaN\n",
       "day 2     6.0\n",
       "day 3     8.0\n",
       "day 4    10.0\n",
       "dtype: float64"
      ]
     },
     "metadata": {},
     "output_type": "display_data"
    }
   ],
   "source": [
    "# creating copy of my_series with no nulls\n",
    "my_series2 = my_series.add(2, fill_value=0).copy()\n",
    "# adding 2 series together and null values stay as null\n",
    "my_series + my_series2"
   ]
  },
  {
   "cell_type": "code",
   "execution_count": null,
   "metadata": {},
   "outputs": [
    {
     "data": {
      "text/plain": [
       "day 0     4.0\n",
       "day 1     2.0\n",
       "day 2     6.0\n",
       "day 3     8.0\n",
       "day 4    10.0\n",
       "dtype: float64"
      ]
     },
     "metadata": {},
     "output_type": "display_data"
    }
   ],
   "source": [
    "# adding 2 series together with fill_value() will address nulls\n",
    "my_series2.add(my_series, fill_value=0)"
   ]
  },
  {
   "cell_type": "markdown",
   "metadata": {},
   "source": [
    "##### <b>String Methods</b> </br> Pandas .str accessor lets you access many string methods and these methods all return a series </br> split returns multiple series\n",
    "| String Method               | Description                        |\n",
    "|-----------------------------|------------------------------------|\n",
    "| .strip(), lstrip(), rstrip()| Removes leading and/or whitespace  |\n",
    "| .upper(), .lower()          | Converts text to upper/lower case  |\n",
    "| .slice(start,stop,step)     | Applies slice to strings in series |\n",
    "| .count('string')            | Count all instances of given string|\n",
    "| .contains('string')         | Return true if string is found, false if not |\n",
    "| .replace('a','b')           | Replace instances of string a with string b      |\n",
    "| .split('delimiter', expand=True) | Splits strings on given delimiter string, returns dataframe with series for each split |\n",
    "| .len()                      | Return length of each string in a series |\n",
    "| .startswith('string')       | Return true if found, false if not |\n",
    "| .endswith('string')         | Return true if found, false if not |"
   ]
  },
  {
   "cell_type": "code",
   "execution_count": null,
   "metadata": {},
   "outputs": [
    {
     "data": {
      "text/plain": [
       "0    day 0\n",
       "1    day 1\n",
       "2    day 2\n",
       "3    day 3\n",
       "4    day 4\n",
       "dtype: object"
      ]
     },
     "metadata": {},
     "output_type": "display_data"
    }
   ],
   "source": [
    "# creation of string series\n",
    "string_series = pd.Series(['day 0','day 1','day 2','day 3','day 4'])\n",
    "string_series"
   ]
  },
  {
   "cell_type": "code",
   "execution_count": null,
   "metadata": {},
   "outputs": [
    {
     "data": {
      "text/plain": [
       "0    DAY 0\n",
       "1    DAY 1\n",
       "2    DAY 2\n",
       "3    DAY 3\n",
       "4    DAY 4\n",
       "dtype: object"
      ]
     },
     "metadata": {},
     "output_type": "display_data"
    }
   ],
   "source": [
    "# when searching a specific string, it's better to change all strings to str.lower() or str.upper() so it is easier to identify\n",
    "\n",
    "# assigning uppercase series to new series\n",
    "upper_series = string_series.str.upper()\n",
    "upper_series"
   ]
  },
  {
   "cell_type": "code",
   "execution_count": null,
   "metadata": {},
   "outputs": [
    {
     "data": {
      "text/plain": [
       "0    False\n",
       "1     True\n",
       "2    False\n",
       "3    False\n",
       "4    False\n",
       "dtype: bool"
      ]
     },
     "metadata": {},
     "output_type": "display_data"
    }
   ],
   "source": [
    "# search within series for 'DAY 1'\n",
    "upper_series.str.contains('DAY 1')"
   ]
  },
  {
   "cell_type": "code",
   "execution_count": null,
   "metadata": {},
   "outputs": [
    {
     "data": {
      "text/plain": [
       "1    DAY 1\n",
       "dtype: object"
      ]
     },
     "metadata": {},
     "output_type": "display_data"
    }
   ],
   "source": [
    "# can be done as a mask\n",
    "mask = upper_series.str.contains('DAY 1')\n",
    "# displays series row that has values DAY 1\n",
    "upper_series[mask]"
   ]
  },
  {
   "cell_type": "code",
   "execution_count": null,
   "metadata": {},
   "outputs": [
    {
     "data": {
      "text/plain": [
       "0    DAY 0\n",
       "1    DAY 1\n",
       "2    DAY 2\n",
       "3    DAY 3\n",
       "4    DAY 4\n",
       "dtype: object"
      ]
     },
     "metadata": {},
     "output_type": "display_data"
    }
   ],
   "source": [
    "# can be done as a mask1\n",
    "mask1 = upper_series.str.contains('DAY')\n",
    "# displays all series because 'DAY' is in each series value\n",
    "upper_series[mask1]"
   ]
  },
  {
   "cell_type": "code",
   "execution_count": null,
   "metadata": {},
   "outputs": [
    {
     "data": {
      "text/plain": [
       "0     0\n",
       "1     1\n",
       "2     2\n",
       "3     3\n",
       "4     4\n",
       "dtype: object"
      ]
     },
     "metadata": {},
     "output_type": "display_data"
    }
   ],
   "source": [
    "# stripping string away from original string_series to new series\n",
    "stripped = string_series.str.strip('day')\n",
    "stripped.str.contains(' ')\n",
    "stripped = stripped.str.strip('')\n",
    "stripped"
   ]
  },
  {
   "cell_type": "code",
   "execution_count": null,
   "metadata": {},
   "outputs": [
    {
     "data": {
      "text/html": [
       "<div>\n",
       "<style scoped>\n",
       "    .dataframe tbody tr th:only-of-type {\n",
       "        vertical-align: middle;\n",
       "    }\n",
       "\n",
       "    .dataframe tbody tr th {\n",
       "        vertical-align: top;\n",
       "    }\n",
       "\n",
       "    .dataframe thead th {\n",
       "        text-align: right;\n",
       "    }\n",
       "</style>\n",
       "<table border=\"1\" class=\"dataframe\">\n",
       "  <thead>\n",
       "    <tr style=\"text-align: right;\">\n",
       "      <th></th>\n",
       "      <th>0</th>\n",
       "      <th>1</th>\n",
       "    </tr>\n",
       "  </thead>\n",
       "  <tbody>\n",
       "    <tr>\n",
       "      <th>0</th>\n",
       "      <td>day</td>\n",
       "      <td>0</td>\n",
       "    </tr>\n",
       "    <tr>\n",
       "      <th>1</th>\n",
       "      <td>day</td>\n",
       "      <td>1</td>\n",
       "    </tr>\n",
       "    <tr>\n",
       "      <th>2</th>\n",
       "      <td>day</td>\n",
       "      <td>2</td>\n",
       "    </tr>\n",
       "    <tr>\n",
       "      <th>3</th>\n",
       "      <td>day</td>\n",
       "      <td>3</td>\n",
       "    </tr>\n",
       "    <tr>\n",
       "      <th>4</th>\n",
       "      <td>day</td>\n",
       "      <td>4</td>\n",
       "    </tr>\n",
       "  </tbody>\n",
       "</table>\n",
       "</div>"
      ],
      "text/plain": [
       "     0  1\n",
       "0  day  0\n",
       "1  day  1\n",
       "2  day  2\n",
       "3  day  3\n",
       "4  day  4"
      ]
     },
     "metadata": {},
     "output_type": "display_data"
    }
   ],
   "source": [
    "# using .str.split() to split based on specific characters or spaces for further analysis if (<delimiter>),expand=True) it will be split to a new column as a dataframe\n",
    "string_dfsplit = string_series.str.split(' ', expand=True)\n",
    "string_dfsplit"
   ]
  },
  {
   "cell_type": "code",
   "execution_count": null,
   "metadata": {},
   "outputs": [
    {
     "data": {
      "text/plain": [
       "0    [day, 0]\n",
       "1    [day, 1]\n",
       "2    [day, 2]\n",
       "3    [day, 3]\n",
       "4    [day, 4]\n",
       "dtype: object"
      ]
     },
     "metadata": {},
     "output_type": "display_data"
    }
   ],
   "source": [
    "# when using default, then splits into a list split by delimiter\n",
    "string_listsplit = string_series.str.split(' ')\n",
    "string_listsplit"
   ]
  },
  {
   "cell_type": "markdown",
   "metadata": {},
   "source": [
    "##### Pandas Numerical Aggregation Functions\n",
    "\n",
    "| Method                            | Description                                             |\n",
    "|-----------------------------------|---------------------------------------------------------|\n",
    "| `.count()`                        | Returns the number of items in the series or data frame column(s). |\n",
    "| `.sum()`                          | Computes the sum of the series or data frame column(s). |\n",
    "| `.prod()`                         | Computes the product of the series or data frame column(s). |\n",
    "| `.first()`,`.last()`              | Returns the first or last value in the series or data frame column(s). |\n",
    "| `.min()`,`.max()`                 | Returns the minimum or maximum value in the series or data frame column(s). |\n",
    "| `.argmin()`,`.argmax()`           | Returns the index for the smallest or largest valuesof the series or data frame column(s). |\n",
    "| `.mean()`,`.median()`             | Calculates the mean or median of the series or data frame column(s). |\n",
    "| `.mad()`                          | Computes the mean absolute deviation of the series or data frame column(s). |\n",
    "| `.std()`,`.var()`                 | Calculates the standard deviation or variance of the series or data frame column(s). |\n",
    "| `.quantile(q)`                    | Returns the quantile of the series or data frame column(s); `q` should be between 0 and 1. |\n",
    "| `.describe()`                     | Generates descriptive statistics that summarize the central tendency, dispersion, and shape of the dataset’s distribution. |\n",
    "\n",
    "\n",
    "**Note**: These functions can be applied to a Pandas Series or DataFrame. For DataFrames, these functions by default operate on each column, returning a Series of aggregated values.\n"
   ]
  },
  {
   "cell_type": "code",
   "execution_count": null,
   "metadata": {},
   "outputs": [
    {
     "data": {
      "text/html": [
       "<div>\n",
       "<style scoped>\n",
       "    .dataframe tbody tr th:only-of-type {\n",
       "        vertical-align: middle;\n",
       "    }\n",
       "\n",
       "    .dataframe tbody tr th {\n",
       "        vertical-align: top;\n",
       "    }\n",
       "\n",
       "    .dataframe thead th {\n",
       "        text-align: right;\n",
       "    }\n",
       "</style>\n",
       "<table border=\"1\" class=\"dataframe\">\n",
       "  <thead>\n",
       "    <tr style=\"text-align: right;\">\n",
       "      <th></th>\n",
       "      <th>date</th>\n",
       "      <th>store_nbr</th>\n",
       "      <th>transactions</th>\n",
       "    </tr>\n",
       "  </thead>\n",
       "  <tbody>\n",
       "    <tr>\n",
       "      <th>0</th>\n",
       "      <td>2013-01-01</td>\n",
       "      <td>25</td>\n",
       "      <td>770</td>\n",
       "    </tr>\n",
       "    <tr>\n",
       "      <th>1</th>\n",
       "      <td>2013-01-02</td>\n",
       "      <td>1</td>\n",
       "      <td>2111</td>\n",
       "    </tr>\n",
       "    <tr>\n",
       "      <th>2</th>\n",
       "      <td>2013-01-02</td>\n",
       "      <td>2</td>\n",
       "      <td>2358</td>\n",
       "    </tr>\n",
       "    <tr>\n",
       "      <th>3</th>\n",
       "      <td>2013-01-02</td>\n",
       "      <td>3</td>\n",
       "      <td>3487</td>\n",
       "    </tr>\n",
       "    <tr>\n",
       "      <th>4</th>\n",
       "      <td>2013-01-02</td>\n",
       "      <td>4</td>\n",
       "      <td>1922</td>\n",
       "    </tr>\n",
       "    <tr>\n",
       "      <th>...</th>\n",
       "      <td>...</td>\n",
       "      <td>...</td>\n",
       "      <td>...</td>\n",
       "    </tr>\n",
       "    <tr>\n",
       "      <th>83483</th>\n",
       "      <td>2017-08-15</td>\n",
       "      <td>50</td>\n",
       "      <td>2804</td>\n",
       "    </tr>\n",
       "    <tr>\n",
       "      <th>83484</th>\n",
       "      <td>2017-08-15</td>\n",
       "      <td>51</td>\n",
       "      <td>1573</td>\n",
       "    </tr>\n",
       "    <tr>\n",
       "      <th>83485</th>\n",
       "      <td>2017-08-15</td>\n",
       "      <td>52</td>\n",
       "      <td>2255</td>\n",
       "    </tr>\n",
       "    <tr>\n",
       "      <th>83486</th>\n",
       "      <td>2017-08-15</td>\n",
       "      <td>53</td>\n",
       "      <td>932</td>\n",
       "    </tr>\n",
       "    <tr>\n",
       "      <th>83487</th>\n",
       "      <td>2017-08-15</td>\n",
       "      <td>54</td>\n",
       "      <td>802</td>\n",
       "    </tr>\n",
       "  </tbody>\n",
       "</table>\n",
       "<p>83488 rows × 3 columns</p>\n",
       "</div>"
      ],
      "text/plain": [
       "             date  store_nbr  transactions\n",
       "0      2013-01-01         25           770\n",
       "1      2013-01-02          1          2111\n",
       "2      2013-01-02          2          2358\n",
       "3      2013-01-02          3          3487\n",
       "4      2013-01-02          4          1922\n",
       "...           ...        ...           ...\n",
       "83483  2017-08-15         50          2804\n",
       "83484  2017-08-15         51          1573\n",
       "83485  2017-08-15         52          2255\n",
       "83486  2017-08-15         53           932\n",
       "83487  2017-08-15         54           802\n",
       "\n",
       "[83488 rows x 3 columns]"
      ]
     },
     "metadata": {},
     "output_type": "display_data"
    }
   ],
   "source": [
    "# import data from transactions csv\n",
    "transactions = pd.read_csv('Pandas Course Resources/retail/transactions.csv')\n",
    "transactions"
   ]
  },
  {
   "cell_type": "code",
   "execution_count": null,
   "metadata": {},
   "outputs": [
    {
     "data": {
      "text/plain": [
       "0         770\n",
       "1        2111\n",
       "2        2358\n",
       "3        3487\n",
       "4        1922\n",
       "         ... \n",
       "83483    2804\n",
       "83484    1573\n",
       "83485    2255\n",
       "83486     932\n",
       "83487     802\n",
       "Name: Transactions, Length: 83488, dtype: int64"
      ]
     },
     "metadata": {},
     "output_type": "display_data"
    }
   ],
   "source": [
    "# create series from transactions column with name\n",
    "transaction_series = pd.Series(transactions['transactions'], name='Transactions')\n",
    "transaction_series"
   ]
  },
  {
   "cell_type": "code",
   "execution_count": null,
   "metadata": {},
   "outputs": [
    {
     "data": {
      "text/plain": [
       "83488"
      ]
     },
     "metadata": {},
     "output_type": "display_data"
    }
   ],
   "source": [
    "# .count() method\n",
    "transaction_series.count()"
   ]
  },
  {
   "cell_type": "code",
   "execution_count": null,
   "metadata": {},
   "outputs": [
    {
     "data": {
      "text/plain": [
       "141478945"
      ]
     },
     "metadata": {},
     "output_type": "display_data"
    }
   ],
   "source": [
    "# .sum() method\n",
    "transaction_series.sum()"
   ]
  },
  {
   "cell_type": "code",
   "execution_count": null,
   "metadata": {},
   "outputs": [
    {
     "data": {
      "text/plain": [
       "0.25    1046.0\n",
       "0.75    2079.0\n",
       "0.90    3071.0\n",
       "Name: Transactions, dtype: float64"
      ]
     },
     "metadata": {},
     "output_type": "display_data"
    }
   ],
   "source": [
    "# .quantile(q) method which can take a list of quantile percent values\n",
    "transaction_series.quantile([.25, .75, .90])"
   ]
  },
  {
   "cell_type": "code",
   "execution_count": null,
   "metadata": {},
   "outputs": [
    {
     "data": {
      "text/plain": [
       "0.25    1046\n",
       "0.75    2079\n",
       "0.90    3071\n",
       "Name: Transactions, dtype: int64"
      ]
     },
     "metadata": {},
     "output_type": "display_data"
    }
   ],
   "source": [
    "# with small datasets .quantile(q) method may require (q, interpolation='nearest') which mean it will extract the dataponst that is nearest the quantile percent\n",
    "transaction_series.quantile([.25, .75, .90], interpolation='nearest') # doesn't make a difference now cause it's a big dataset"
   ]
  },
  {
   "cell_type": "markdown",
   "metadata": {},
   "source": [
    "##### Pandas Categorical Aggregation Functions\n",
    "\n",
    "| Method                            | Description                                             |\n",
    "|-----------------------------------|---------------------------------------------------------|\n",
    "| `.unique()`                       | Returns an array of unique items in the series or data frame column(s). |\n",
    "| `.nunique()`                      | Returns the number of unique items in the series or data frame column(s). |\n",
    "| `.value_counts()`                 | Returns a Series of Unique items and their frequency of a series or data frame column(s). |"
   ]
  },
  {
   "cell_type": "code",
   "execution_count": null,
   "metadata": {},
   "outputs": [
    {
     "data": {
      "text/plain": [
       "0     coffee\n",
       "1     coffee\n",
       "2        tea\n",
       "3    coconut\n",
       "4      sugar\n",
       "dtype: object"
      ]
     },
     "metadata": {},
     "output_type": "display_data"
    }
   ],
   "source": [
    "# Create series of categorical data\n",
    "items = pd.Series(['coffee', 'coffee', 'tea', 'coconut', 'sugar'])\n",
    "items"
   ]
  },
  {
   "cell_type": "code",
   "execution_count": null,
   "metadata": {},
   "outputs": [
    {
     "data": {
      "text/plain": [
       "coffee     2\n",
       "tea        1\n",
       "coconut    1\n",
       "sugar      1\n",
       "Name: count, dtype: int64"
      ]
     },
     "metadata": {},
     "output_type": "display_data"
    }
   ],
   "source": [
    "# count the frequency of the categories\n",
    "items.value_counts() "
   ]
  },
  {
   "cell_type": "code",
   "execution_count": null,
   "metadata": {},
   "outputs": [
    {
     "data": {
      "text/plain": [
       "coffee     0.4\n",
       "tea        0.2\n",
       "coconut    0.2\n",
       "sugar      0.2\n",
       "Name: proportion, dtype: float64"
      ]
     },
     "metadata": {},
     "output_type": "display_data"
    }
   ],
   "source": [
    "# count the frequency of the categories and normalize=True will display the percentage total for each category\n",
    "items.value_counts(normalize=True)"
   ]
  },
  {
   "cell_type": "code",
   "execution_count": null,
   "metadata": {},
   "outputs": [
    {
     "data": {
      "text/plain": [
       "array(['coffee', 'tea', 'coconut', 'sugar'], dtype=object)"
      ]
     },
     "metadata": {},
     "output_type": "display_data"
    }
   ],
   "source": [
    "# .unique() method will display each unique value as array\n",
    "items.unique()"
   ]
  },
  {
   "cell_type": "code",
   "execution_count": null,
   "metadata": {},
   "outputs": [
    {
     "data": {
      "text/plain": [
       "4"
      ]
     },
     "metadata": {},
     "output_type": "display_data"
    }
   ],
   "source": [
    "# .nunique() method will display the count of unique categories\n",
    "items.nunique()"
   ]
  },
  {
   "cell_type": "markdown",
   "metadata": {},
   "source": [
    "##### <b> Missing Data </b></br> - Represented as NaN and treated as float so it can be used in vectorized operations"
   ]
  },
  {
   "cell_type": "code",
   "execution_count": null,
   "metadata": {},
   "outputs": [],
   "source": [
    "# depending on the analysis being perform you may want the NaN value to be filled so operations can be performed that produce a result other than NaN"
   ]
  },
  {
   "cell_type": "code",
   "execution_count": null,
   "metadata": {},
   "outputs": [
    {
     "data": {
      "text/plain": [
       "0      0.0\n",
       "1      5.0\n",
       "2    155.0\n",
       "3      NaN\n",
       "4    518.0\n",
       "dtype: float64"
      ]
     },
     "metadata": {},
     "output_type": "display_data"
    }
   ],
   "source": [
    "# Creation of a series that has a NaN value\n",
    "# if the series is numerical, introducing a NaN will make the datatype float.\n",
    "sales = pd.Series([0, 5, 155, np.nan, 518])\n",
    "sales"
   ]
  },
  {
   "cell_type": "code",
   "execution_count": null,
   "metadata": {},
   "outputs": [
    {
     "data": {
      "text/plain": [
       "0      2.0\n",
       "1      7.0\n",
       "2    157.0\n",
       "3      NaN\n",
       "4    520.0\n",
       "dtype: float64"
      ]
     },
     "metadata": {},
     "output_type": "display_data"
    }
   ],
   "source": [
    "# performing operations on a series with a NaN does not affect the NaN. It will stay as NaN\n",
    "sales + 2"
   ]
  },
  {
   "cell_type": "code",
   "execution_count": null,
   "metadata": {},
   "outputs": [
    {
     "data": {
      "text/plain": [
       "0      2.0\n",
       "1      7.0\n",
       "2    157.0\n",
       "3      2.0\n",
       "4    520.0\n",
       "dtype: float64"
      ]
     },
     "metadata": {},
     "output_type": "display_data"
    }
   ],
   "source": [
    "# if we don't want NaN then we can use the ( ,fill_value=) with the pandas method to add a value to NaNs\n",
    "sales_nonull = sales.add(2, fill_value=0)\n",
    "# this changes NaN to 0 and allows 2 to be added to it and can be assigned to a new series\n",
    "sales_nonull"
   ]
  },
  {
   "cell_type": "markdown",
   "metadata": {},
   "source": [
    "##### <b> Identify Missing Data </b></br> The .isna() and .value_counts() method can identfiy missing data </br> - value_counts by default does not include na/NaN (use dropna=False) to include them"
   ]
  },
  {
   "cell_type": "code",
   "execution_count": null,
   "metadata": {},
   "outputs": [
    {
     "data": {
      "text/plain": [
       "0    COMPLETE\n",
       "1         NaN\n",
       "2         NaN\n",
       "3         NaN\n",
       "4    COMPLETE\n",
       "dtype: object"
      ]
     },
     "metadata": {},
     "output_type": "display_data"
    }
   ],
   "source": [
    "# creation of Series with 3 NaNs\n",
    "checklist = pd.Series(['COMPLETE', np.nan, np.nan, np.nan, 'COMPLETE'])\n",
    "checklist"
   ]
  },
  {
   "cell_type": "code",
   "execution_count": null,
   "metadata": {},
   "outputs": [
    {
     "data": {
      "text/plain": [
       "3"
      ]
     },
     "metadata": {},
     "output_type": "display_data"
    }
   ],
   "source": [
    "# .isna() will return True (Value 1) if na/NaN. \n",
    "checklist.isna()\n",
    "\n",
    "# This allows .sum() or .mean() operations to be done on the na/NaN values \n",
    "checklist.isna().sum()"
   ]
  },
  {
   "cell_type": "code",
   "execution_count": null,
   "metadata": {},
   "outputs": [
    {
     "data": {
      "text/plain": [
       "1    NaN\n",
       "2    NaN\n",
       "3    NaN\n",
       "dtype: object"
      ]
     },
     "metadata": {},
     "output_type": "display_data"
    }
   ],
   "source": [
    "# this can also be used as a boolean mask\n",
    "mask = checklist.isna()\n",
    "bool_checklist = checklist[mask]\n",
    "bool_checklist"
   ]
  },
  {
   "cell_type": "code",
   "execution_count": null,
   "metadata": {},
   "outputs": [
    {
     "data": {
      "text/plain": [
       "COMPLETE    2\n",
       "Name: count, dtype: int64"
      ]
     },
     "metadata": {},
     "output_type": "display_data"
    }
   ],
   "source": [
    "# .value_counts() method by default does not include na/NaN\n",
    "checklist.value_counts()"
   ]
  },
  {
   "cell_type": "code",
   "execution_count": null,
   "metadata": {},
   "outputs": [
    {
     "data": {
      "text/plain": [
       "NaN         3\n",
       "COMPLETE    2\n",
       "Name: count, dtype: int64"
      ]
     },
     "metadata": {},
     "output_type": "display_data"
    }
   ],
   "source": [
    "# to include na/NaN use dropna=False\n",
    "checklist.value_counts(dropna=False)"
   ]
  },
  {
   "cell_type": "markdown",
   "metadata": {},
   "source": [
    "##### .dropna() removes NaN values from series or dataframe </br> when dropping rows, always use .reset_index() to fix index sequence"
   ]
  },
  {
   "cell_type": "code",
   "execution_count": null,
   "metadata": {},
   "outputs": [
    {
     "data": {
      "text/plain": [
       "0    COMPLETE\n",
       "4    COMPLETE\n",
       "dtype: object"
      ]
     },
     "metadata": {},
     "output_type": "display_data"
    }
   ],
   "source": [
    "# drops na but only stays implemented if assigned to new series/dataframe \n",
    "checklist.dropna()"
   ]
  },
  {
   "cell_type": "code",
   "execution_count": null,
   "metadata": {},
   "outputs": [
    {
     "data": {
      "text/plain": [
       "0    COMPLETE\n",
       "1    COMPLETE\n",
       "dtype: object"
      ]
     },
     "metadata": {},
     "output_type": "display_data"
    }
   ],
   "source": [
    "# drops na if assigned to new series/dataframe with .reset_index(drop=True) which drops previous index\n",
    "checklist.dropna().reset_index(drop=True)"
   ]
  },
  {
   "cell_type": "code",
   "execution_count": null,
   "metadata": {},
   "outputs": [
    {
     "data": {
      "text/plain": [
       "0      COMPLETE\n",
       "1    INCOMPLETE\n",
       "2    INCOMPLETE\n",
       "3    INCOMPLETE\n",
       "4      COMPLETE\n",
       "dtype: object"
      ]
     },
     "metadata": {},
     "output_type": "display_data"
    }
   ],
   "source": [
    "# fills na but only stays implemented if assigned to new series/dataframe \n",
    "# filles na with specific value. For categorical,k can use missing, incomplete... dataset dependant \n",
    "checklist.fillna(\"INCOMPLETE\")"
   ]
  },
  {
   "cell_type": "markdown",
   "metadata": {},
   "source": [
    "##### be thoughtful and deliberate with how to handle missing data"
   ]
  },
  {
   "cell_type": "code",
   "execution_count": null,
   "metadata": {},
   "outputs": [
    {
     "data": {
      "text/plain": [
       "coffee       0.0\n",
       "coffee       5.0\n",
       "tea        155.0\n",
       "coconut      NaN\n",
       "sugar      518.0\n",
       "dtype: float64"
      ]
     },
     "metadata": {},
     "output_type": "display_data"
    }
   ],
   "source": [
    "# create index labels\n",
    "items = ['coffee', 'coffee', 'tea', 'coconut', 'sugar']\n",
    "# assign index labels\n",
    "sales.index = items\n",
    "sales"
   ]
  },
  {
   "cell_type": "markdown",
   "metadata": {},
   "source": [
    "##### Understand why the data is missing can help decide what steps to take"
   ]
  },
  {
   "cell_type": "code",
   "execution_count": null,
   "metadata": {},
   "outputs": [
    {
     "data": {
      "text/plain": [
       "coffee      0.0\n",
       "coffee      5.0\n",
       "tea       155.0\n",
       "sugar     518.0\n",
       "dtype: float64"
      ]
     },
     "metadata": {},
     "output_type": "display_data"
    }
   ],
   "source": [
    "# do you remove them?\n",
    "sales.dropna()"
   ]
  },
  {
   "cell_type": "code",
   "execution_count": null,
   "metadata": {},
   "outputs": [
    {
     "data": {
      "text/plain": [
       "coffee       0.0\n",
       "coffee       5.0\n",
       "tea        155.0\n",
       "coconut      0.0\n",
       "sugar      518.0\n",
       "dtype: float64"
      ]
     },
     "metadata": {},
     "output_type": "display_data"
    }
   ],
   "source": [
    "# do you fille them with zero?\n",
    "sales.fillna(0)"
   ]
  },
  {
   "cell_type": "code",
   "execution_count": null,
   "metadata": {},
   "outputs": [
    {
     "data": {
      "text/plain": [
       "coffee       0.0\n",
       "coffee       5.0\n",
       "tea        155.0\n",
       "coconut    169.5\n",
       "sugar      518.0\n",
       "dtype: float64"
      ]
     },
     "metadata": {},
     "output_type": "display_data"
    }
   ],
   "source": [
    "# do you impute them with the mean? -> Good for Machine Learning because it doesn't change the summary statistics\n",
    "sales.fillna(sales.mean()) # Coconut NaN becomes 169.5"
   ]
  },
  {
   "cell_type": "markdown",
   "metadata": {},
   "source": [
    "### **Apply Custom Functions**"
   ]
  },
  {
   "cell_type": "markdown",
   "metadata": {},
   "source": [
    "##### <b> Apply Method </b></br> .apply() lets you apply custom fucntions to Pandas Series/Dataframes </br> - not as efficient as native functions because not vectorized"
   ]
  },
  {
   "cell_type": "code",
   "execution_count": null,
   "metadata": {},
   "outputs": [],
   "source": [
    "# by createing a function and applying it to a series, it is less efficient than pandas builtin methods\n",
    "def discount(price):\n",
    "    if price > 20:\n",
    "        return round(price * .9, 2)\n",
    "    return price"
   ]
  },
  {
   "cell_type": "code",
   "execution_count": null,
   "metadata": {},
   "outputs": [
    {
     "data": {
      "text/plain": [
       "0     3.99\n",
       "1     5.99\n",
       "2    22.99\n",
       "3     7.99\n",
       "4    33.99\n",
       "dtype: float64"
      ]
     },
     "metadata": {},
     "output_type": "display_data"
    }
   ],
   "source": [
    "# generate price series\n",
    "clean_wholesale = pd.Series([3.99, 5.99, 22.99, 7.99, 33.99])\n",
    "clean_wholesale"
   ]
  },
  {
   "cell_type": "code",
   "execution_count": null,
   "metadata": {},
   "outputs": [
    {
     "data": {
      "text/plain": [
       "0     3.99\n",
       "1     5.99\n",
       "2    20.69\n",
       "3     7.99\n",
       "4    30.59\n",
       "dtype: float64"
      ]
     },
     "metadata": {},
     "output_type": "display_data"
    }
   ],
   "source": [
    "# use .apply() method to apply custom function\n",
    "clean_wholesale.apply(discount)\n",
    "# discount applied to index 3 and 4"
   ]
  },
  {
   "cell_type": "code",
   "execution_count": null,
   "metadata": {},
   "outputs": [
    {
     "data": {
      "text/plain": [
       "0     3.99\n",
       "1     5.99\n",
       "2    20.69\n",
       "3     7.99\n",
       "4    30.59\n",
       "dtype: float64"
      ]
     },
     "metadata": {},
     "output_type": "display_data"
    }
   ],
   "source": [
    "# Apply method not ideal, if need to do one off, can utilize lambda function with apply method\n",
    "clean_wholesale.apply(lambda x: round(x * .9, 2) if x > 20 else x)"
   ]
  },
  {
   "cell_type": "markdown",
   "metadata": {},
   "source": [
    "##### <b> Pandas Where Method </b></br> .where() method returns series/dataframe values based on logical condition </br> &nbsp;df.where(logical test, </br>&nbsp;&nbsp;&nbsp;&nbsp;&nbsp;&nbsp; values to return if False, </br> &nbsp;&nbsp;&nbsp;&nbsp;&nbsp;&nbsp;&nbsp;inplace=False)"
   ]
  },
  {
   "cell_type": "code",
   "execution_count": null,
   "metadata": {},
   "outputs": [
    {
     "data": {
      "text/plain": [
       "0     3.99\n",
       "1     5.99\n",
       "2    22.99\n",
       "3     7.99\n",
       "4    33.99\n",
       "dtype: float64"
      ]
     },
     "metadata": {},
     "output_type": "display_data"
    }
   ],
   "source": [
    "clean_wholesale"
   ]
  },
  {
   "cell_type": "code",
   "execution_count": null,
   "metadata": {},
   "outputs": [
    {
     "data": {
      "text/plain": [
       "0     3.99\n",
       "1     5.99\n",
       "2    20.69\n",
       "3     7.99\n",
       "4    30.59\n",
       "dtype: float64"
      ]
     },
     "metadata": {},
     "output_type": "display_data"
    }
   ],
   "source": [
    "# pandas .where method only returns values if the logical test is false\n",
    "clean_wholesale.where(clean_wholesale <= 20, round(clean_wholesale * .9, 2))"
   ]
  },
  {
   "cell_type": "code",
   "execution_count": null,
   "metadata": {},
   "outputs": [
    {
     "data": {
      "text/plain": [
       "0     3.99\n",
       "1     5.99\n",
       "2    20.69\n",
       "3     7.99\n",
       "4    30.59\n",
       "dtype: float64"
      ]
     },
     "metadata": {},
     "output_type": "display_data"
    }
   ],
   "source": [
    "# can utilize the tilde to invert the boolean values and turn this into a value if true expression i.e. (~(clean_wholesale > 20)\n",
    "clean_wholesale.where(~(clean_wholesale > 20), round(clean_wholesale * .9, 2))"
   ]
  },
  {
   "cell_type": "code",
   "execution_count": null,
   "metadata": {},
   "outputs": [
    {
     "data": {
      "text/plain": [
       "0     3.99\n",
       "1     5.99\n",
       "2    20.69\n",
       "3     7.99\n",
       "4    30.59\n",
       "dtype: float64"
      ]
     },
     "metadata": {},
     "output_type": "display_data"
    }
   ],
   "source": [
    "# NumPy's where function is often more covenient and useful than pandas method however the output will be in a numpy array so convert into series\n",
    "pd.Series(np.where(clean_wholesale <= 20, clean_wholesale, round(clean_wholesale* .9, 2)))"
   ]
  }
 ],
 "metadata": {
  "kernelspec": {
   "display_name": "base",
   "language": "python",
   "name": "python3"
  },
  "language_info": {
   "codemirror_mode": {
    "name": "ipython",
    "version": 3
   },
   "file_extension": ".py",
   "mimetype": "text/x-python",
   "name": "python",
   "nbconvert_exporter": "python",
   "pygments_lexer": "ipython3",
   "version": "3.11.9"
  }
 },
 "nbformat": 4,
 "nbformat_minor": 2
}
