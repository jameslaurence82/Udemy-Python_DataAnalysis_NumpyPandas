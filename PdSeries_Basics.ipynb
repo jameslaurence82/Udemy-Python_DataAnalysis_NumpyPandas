{
 "cells": [
  {
   "cell_type": "markdown",
   "metadata": {},
   "source": [
    "##### <b> Pandas Series </b></br> - Series is equivalent to a column of data"
   ]
  },
  {
   "cell_type": "code",
   "execution_count": 1,
   "metadata": {},
   "outputs": [],
   "source": [
    "import numpy as np\n",
    "import pandas as pd"
   ]
  },
  {
   "cell_type": "markdown",
   "metadata": {},
   "source": [
    "##### <b> Series are Pandas data structures built on top of NumPy arrays</b></br> - Series contain index and optional name with array of data </br> - Can be created from other data types, usually imported </br> - Two or more series grouped together form Pandas Dataframe"
   ]
  },
  {
   "cell_type": "code",
   "execution_count": 2,
   "metadata": {},
   "outputs": [
    {
     "data": {
      "text/plain": [
       "0    0\n",
       "1    1\n",
       "2    2\n",
       "3    3\n",
       "4    4\n",
       "Name: Sales, dtype: int32"
      ]
     },
     "execution_count": 2,
     "metadata": {},
     "output_type": "execute_result"
    }
   ],
   "source": [
    "# create list of integers\n",
    "sales = np.arange(5)\n",
    "\n",
    "# convert to Pandas Series\n",
    "sales_series = pd.Series(sales, name=\"Sales\") # name will give hte column a header when joining or appending to other dataframes/series\n",
    "\n",
    "sales_series"
   ]
  },
  {
   "cell_type": "markdown",
   "metadata": {},
   "source": [
    "##### <b> Pandas Series have these key properties</b></br> - values: data array in the series </br> - index: index array in the series </br> - name: optional name for the serise (useful for accessing columns)</br> - dtype: dataype of elements in the values array"
   ]
  },
  {
   "cell_type": "code",
   "execution_count": 3,
   "metadata": {},
   "outputs": [
    {
     "data": {
      "text/plain": [
       "array([0, 1, 2, 3, 4])"
      ]
     },
     "execution_count": 3,
     "metadata": {},
     "output_type": "execute_result"
    }
   ],
   "source": [
    "# accessing series values is accessing a numpy array\n",
    "sales_series.values"
   ]
  },
  {
   "cell_type": "code",
   "execution_count": 4,
   "metadata": {},
   "outputs": [
    {
     "data": {
      "text/plain": [
       "RangeIndex(start=0, stop=5, step=1)"
      ]
     },
     "execution_count": 4,
     "metadata": {},
     "output_type": "execute_result"
    }
   ],
   "source": [
    "# can view index\n",
    "sales_series.index"
   ]
  },
  {
   "cell_type": "code",
   "execution_count": 5,
   "metadata": {},
   "outputs": [
    {
     "data": {
      "text/plain": [
       "10    0\n",
       "20    1\n",
       "30    2\n",
       "40    3\n",
       "50    4\n",
       "Name: Sales, dtype: int32"
      ]
     },
     "execution_count": 5,
     "metadata": {},
     "output_type": "execute_result"
    }
   ],
   "source": [
    "# can change the index values using range or manually\n",
    "sales_series.index = pd.RangeIndex(10, 51, 10)\n",
    "sales_series"
   ]
  },
  {
   "cell_type": "code",
   "execution_count": 6,
   "metadata": {},
   "outputs": [
    {
     "data": {
      "text/plain": [
       "2.0"
      ]
     },
     "execution_count": 6,
     "metadata": {},
     "output_type": "execute_result"
    }
   ],
   "source": [
    "# aggregations can be performed\n",
    "sales_series.mean()"
   ]
  },
  {
   "cell_type": "code",
   "execution_count": 7,
   "metadata": {},
   "outputs": [
    {
     "data": {
      "text/plain": [
       "10    0\n",
       "20    1\n",
       "30    2\n",
       "40    3\n",
       "50    4\n",
       "Name: updatedSales, dtype: int32"
      ]
     },
     "execution_count": 7,
     "metadata": {},
     "output_type": "execute_result"
    }
   ],
   "source": [
    "# name can be updated\n",
    "sales_series.name = \"updatedSales\"\n",
    "sales_series"
   ]
  },
  {
   "cell_type": "markdown",
   "metadata": {},
   "source": [
    "| Numeric Data Types| Library | Description                    | Bitsize          |\n",
    "|-------------------|---------|--------------------------------|------------------|\n",
    "| Bool              | NumPy   | Boolean True/False             | 8                |\n",
    "| int64             | NumPy   | Whole Numbers                  | 8, 16, 32, 64   |\n",
    "| float64           | NumPy   | Decimal Numbers                | 8, 16, 32, 64   |\n",
    "| object            | NumPy   | Any Python Object              | N/A              |\n",
    "| boolean           | Pandas  | Nullable Boolean True/False    | 8                |\n",
    "| int64             | Pandas  | Nullable Whole Numbers         | 8, 16, 32, 64   |\n",
    "| float64           | Pandas  | Nullable Decimal Numbers       | 8, 16, 32, 64   |\n",
    "| string/text       | Pandas  | Text/String Data               | N/A              |\n",
    "| category          | Pandas  | Maps categorical data to numerical array for efficiency| N/A              |\n",
    "| datetime64        | Pandas  | single moment in time (January 4, 2015, 2:00:00PM)     | 64               |\n",
    "| timedelta         | Pandas  | Duration between 2 dates or times             | N/A               |\n",
    "| period   4        | Pandas  | A span on Time             | N/A               |\n"
   ]
  },
  {
   "cell_type": "markdown",
   "metadata": {},
   "source": [
    "##### </br> <b> Object/Text Data Types</b></br>  object - Any Python Object </br> string - only contains strings or text </br> category - Maps categorical data to a numeric array for efficiency "
   ]
  },
  {
   "cell_type": "markdown",
   "metadata": {},
   "source": [
    "##### </br> <b> Time Series </b></br> datetime - a single moment in time (January 4, 2015, 2:00:00 PM) </br> timedelta  - The duration between two dates or times (1o days, 3 seconds, etc...) </br> period - a span of time (a day, a week, etc...)"
   ]
  },
  {
   "cell_type": "markdown",
   "metadata": {},
   "source": [
    "##### <b> Type Conversion </b>"
   ]
  },
  {
   "cell_type": "code",
   "execution_count": 8,
   "metadata": {},
   "outputs": [
    {
     "name": "stdout",
     "output_type": "stream",
     "text": [
      "10    0\n",
      "20    1\n",
      "30    2\n",
      "40    3\n",
      "50    4\n",
      "Name: updatedSales, dtype: int32\n",
      "10    False\n",
      "20     True\n",
      "30     True\n",
      "40     True\n",
      "50     True\n",
      "Name: updatedSales, dtype: bool\n",
      "10    0.0\n",
      "20    1.0\n",
      "30    2.0\n",
      "40    3.0\n",
      "50    4.0\n",
      "Name: updatedSales, dtype: float64\n",
      "10    0\n",
      "20    1\n",
      "30    2\n",
      "40    3\n",
      "50    4\n",
      "Name: updatedSales, dtype: object\n",
      "10    0\n",
      "20    1\n",
      "30    2\n",
      "40    3\n",
      "50    4\n",
      "Name: updatedSales, dtype: string\n"
     ]
    }
   ],
   "source": [
    "# using the method .astype(\"<Data Type>\") you can convert values if they are compatible\n",
    "print(sales_series)\n",
    "print(sales_series.astype(\"bool\"))\n",
    "print(sales_series.astype(\"float\"))\n",
    "print(sales_series.astype(\"object\"))\n",
    "print(sales_series.astype(\"string\"))"
   ]
  },
  {
   "cell_type": "code",
   "execution_count": 9,
   "metadata": {},
   "outputs": [
    {
     "name": "stdout",
     "output_type": "stream",
     "text": [
      "0.8\n"
     ]
    }
   ],
   "source": [
    "print(sales_series.astype(\"bool\").mean())"
   ]
  },
  {
   "cell_type": "code",
   "execution_count": 10,
   "metadata": {},
   "outputs": [],
   "source": [
    "# this cannot be converted - ValueError\n",
    "# print(sales_series.astype(\"datetime64\"))\n",
    "# ValueError: The 'datetime64' dtype has no unit. Please pass in 'datetime64[ns]' instead.\n"
   ]
  }
 ],
 "metadata": {
  "kernelspec": {
   "display_name": "base",
   "language": "python",
   "name": "python3"
  },
  "language_info": {
   "codemirror_mode": {
    "name": "ipython",
    "version": 3
   },
   "file_extension": ".py",
   "mimetype": "text/x-python",
   "name": "python",
   "nbconvert_exporter": "python",
   "pygments_lexer": "ipython3",
   "version": "3.11.9"
  }
 },
 "nbformat": 4,
 "nbformat_minor": 2
}
