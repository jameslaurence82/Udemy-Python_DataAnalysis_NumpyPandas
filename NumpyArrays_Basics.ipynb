{
 "cells": [
  {
   "cell_type": "markdown",
   "metadata": {},
   "source": [
    "#### NumPy Array Basics"
   ]
  },
  {
   "cell_type": "code",
   "execution_count": 2,
   "metadata": {},
   "outputs": [],
   "source": [
    "import numpy as np\n",
    "import pandas as pd"
   ]
  },
  {
   "cell_type": "markdown",
   "metadata": {},
   "source": [
    "##### Numpy Arrays are fixed-sized containers </br> - Store only 1 datatype, (mixed are object -string) </br> - 1 dimensional or multidimensional </br> - Array elements can be modified, but array size cannot change"
   ]
  },
  {
   "cell_type": "code",
   "execution_count": 3,
   "metadata": {},
   "outputs": [
    {
     "data": {
      "text/plain": [
       "array([   0,    5,  155,    0,  518,    0, 1827,  616,  317,  325],\n",
       "      dtype=int64)"
      ]
     },
     "execution_count": 3,
     "metadata": {},
     "output_type": "execute_result"
    }
   ],
   "source": [
    "## List to numpy array example\n",
    "# List\n",
    "sales = [0, 5, 155, 0, 518, 0, 1827, 616, 317, 325]\n",
    "# np function will convert list as numpy array\n",
    "sales_array = np.array(sales, dtype = np.int64)\n",
    "sales_array"
   ]
  },
  {
   "cell_type": "markdown",
   "metadata": {},
   "source": [
    "##### Numpy Arrays Key Properties </br> - ndim: Number of dimensions (axes) in array </br> - shape: size of array for each dimension </br> - size: total number of elements in array </br> - dtype: data type of elements in array"
   ]
  },
  {
   "cell_type": "code",
   "execution_count": 4,
   "metadata": {},
   "outputs": [
    {
     "data": {
      "text/plain": [
       "numpy.ndarray"
      ]
     },
     "execution_count": 4,
     "metadata": {},
     "output_type": "execute_result"
    }
   ],
   "source": [
    "# display type of array\n",
    "type(sales_array)\n",
    "# numpy arrays are ndarray Python Data type: stands for n-dimensional array"
   ]
  },
  {
   "cell_type": "code",
   "execution_count": 5,
   "metadata": {},
   "outputs": [
    {
     "name": "stdout",
     "output_type": "stream",
     "text": [
      "ndim: 1\n",
      "shape: (10,)\n",
      "size: 10\n",
      "dtype: int64\n"
     ]
    }
   ],
   "source": [
    "# display different aspects of numpy sales_array\n",
    "print(f\"ndim: {sales_array.ndim}\")\n",
    "print(f\"shape: {sales_array.shape}\")\n",
    "print(f\"size: {sales_array.size}\")\n",
    "print(f\"dtype: {sales_array.dtype}\")"
   ]
  },
  {
   "cell_type": "code",
   "execution_count": 6,
   "metadata": {},
   "outputs": [],
   "source": [
    "# ndim: 1      -> Array has 1 dimension\n",
    "# shape: (10,) -> Dimension has a size of 10\n",
    "# size: 10     -> Array has 10 elements in total\n",
    "# dtype: int64 -> Elements stored as 64-bit Integers"
   ]
  },
  {
   "cell_type": "code",
   "execution_count": 7,
   "metadata": {},
   "outputs": [
    {
     "data": {
      "text/plain": [
       "array([[   0,    5,  155,    0,  518],\n",
       "       [   0, 1827,  616,  317,  325]], dtype=int64)"
      ]
     },
     "execution_count": 7,
     "metadata": {},
     "output_type": "execute_result"
    }
   ],
   "source": [
    "# Original lists has nested elements which means [[],[]] is the format\n",
    "# nested lists must be of equal length\n",
    "sales2d = [[0, 5, 155, 0, 518], [0, 1827, 616, 317, 325]]\n",
    "# np function will convert nested list as numpy array as dtype4 int64\n",
    "sales2d_array = np.array(sales2d, dtype = np.int64)\n",
    "sales2d_array"
   ]
  },
  {
   "cell_type": "code",
   "execution_count": 8,
   "metadata": {},
   "outputs": [
    {
     "name": "stdout",
     "output_type": "stream",
     "text": [
      "ndim: 2\n",
      "shape: (2, 5)\n",
      "size: 10\n",
      "dtype: int64\n"
     ]
    }
   ],
   "source": [
    "# display different aspects of numpy sales2d_arrays \n",
    "print(f\"ndim: {sales2d_array.ndim}\")\n",
    "print(f\"shape: {sales2d_array.shape}\")\n",
    "print(f\"size: {sales2d_array.size}\")\n",
    "print(f\"dtype: {sales2d_array.dtype}\")"
   ]
  },
  {
   "cell_type": "code",
   "execution_count": 9,
   "metadata": {},
   "outputs": [],
   "source": [
    "# ndim: 2      -> Array has 2 dimension\n",
    "# shape: (2, 5)-> First Dimension has size 2 (rows), Second Dimension has Size of 5 (columns)\n",
    "# size: 10     -> Array has 10 elements in total\n",
    "# dtype: int64 -> Elements stored as 64-bit Integers"
   ]
  },
  {
   "cell_type": "code",
   "execution_count": 10,
   "metadata": {},
   "outputs": [
    {
     "data": {
      "text/plain": [
       "array([0, 1, 2, 3, 4])"
      ]
     },
     "execution_count": 10,
     "metadata": {},
     "output_type": "execute_result"
    }
   ],
   "source": [
    "# Create 1d numpy array using range function\n",
    "array = np.array(range(5))\n",
    "array"
   ]
  },
  {
   "cell_type": "code",
   "execution_count": 11,
   "metadata": {},
   "outputs": [
    {
     "data": {
      "text/plain": [
       "array([[0, 1, 2, 3, 4],\n",
       "       [0, 1, 2, 3, 4]])"
      ]
     },
     "execution_count": 11,
     "metadata": {},
     "output_type": "execute_result"
    }
   ],
   "source": [
    "# Create 1d numpy array using range function\n",
    "array2d = np.array([range(5), range(5)])\n",
    "array2d"
   ]
  },
  {
   "cell_type": "code",
   "execution_count": 12,
   "metadata": {},
   "outputs": [
    {
     "data": {
      "text/plain": [
       "array(['I', 'Love', 'Python'], dtype='<U6')"
      ]
     },
     "execution_count": 12,
     "metadata": {},
     "output_type": "execute_result"
    }
   ],
   "source": [
    "np.array(['I', 'Love', 'Python'])\n",
    "# displays dtype as '<U6' because strings are max of 6 characters"
   ]
  }
 ],
 "metadata": {
  "kernelspec": {
   "display_name": "Python 3",
   "language": "python",
   "name": "python3"
  },
  "language_info": {
   "codemirror_mode": {
    "name": "ipython",
    "version": 3
   },
   "file_extension": ".py",
   "mimetype": "text/x-python",
   "name": "python",
   "nbconvert_exporter": "python",
   "pygments_lexer": "ipython3",
   "version": "3.11.9"
  }
 },
 "nbformat": 4,
 "nbformat_minor": 2
}
