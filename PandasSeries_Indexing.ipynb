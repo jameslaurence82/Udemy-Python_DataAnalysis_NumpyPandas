{
 "cells": [
  {
   "cell_type": "markdown",
   "metadata": {},
   "source": [
    "##### <b> Pandas Series </b></br> - Series is equivalent to a column of data"
   ]
  },
  {
   "cell_type": "code",
   "execution_count": 9,
   "metadata": {},
   "outputs": [],
   "source": [
    "import numpy as np\n",
    "import pandas as pd"
   ]
  },
  {
   "cell_type": "markdown",
   "metadata": {},
   "source": [
    "##### <b> The Index </b></br> Index lets you easily access 'rows' in Pandas Series or Dataframe"
   ]
  },
  {
   "cell_type": "code",
   "execution_count": 10,
   "metadata": {},
   "outputs": [
    {
     "data": {
      "text/plain": [
       "0    0\n",
       "1    1\n",
       "2    2\n",
       "3    3\n",
       "4    4\n",
       "Name: Sales, dtype: int32"
      ]
     },
     "execution_count": 10,
     "metadata": {},
     "output_type": "execute_result"
    }
   ],
   "source": [
    "# create list of integers\n",
    "sales = np.arange(5)\n",
    "\n",
    "# convert to Pandas Series\n",
    "sales_series = pd.Series(sales, name=\"Sales\") # name will give hte column a header when joining or appending to other dataframes/series\n",
    "\n",
    "sales_series"
   ]
  },
  {
   "cell_type": "code",
   "execution_count": 11,
   "metadata": {},
   "outputs": [
    {
     "name": "stdout",
     "output_type": "stream",
     "text": [
      "2    2\n",
      "3    3\n",
      "Name: Sales, dtype: int32\n"
     ]
    }
   ],
   "source": [
    "# Series can be accessed and sliced like other access sequence data types like base python\n",
    "sales_series[2]\n",
    "print(sales_series[2:4])\n",
    "# however this is a better way"
   ]
  },
  {
   "cell_type": "markdown",
   "metadata": {},
   "source": [
    "##### <b> Custom Indices </b></br> There are cases to use a custom index for accessing rows"
   ]
  },
  {
   "cell_type": "code",
   "execution_count": 12,
   "metadata": {},
   "outputs": [
    {
     "data": {
      "text/plain": [
       "coffee       0\n",
       "bananas      5\n",
       "tea        155\n",
       "coconut      0\n",
       "sugar      518\n",
       "Name: Indexed_Sales, dtype: int64"
      ]
     },
     "execution_count": 12,
     "metadata": {},
     "output_type": "execute_result"
    }
   ],
   "source": [
    "# a list can be assigned to the index of a series as long as the value count matches\n",
    "# for data analysis, default integer index is best\n",
    "sales = [0, 5, 155, 0, 518]\n",
    "items = ['coffee', 'bananas', 'tea', 'coconut', 'sugar']\n",
    "# assigning items to the indexed_sales index column values\n",
    "indexed_sales = pd.Series(sales, index=items, name='Indexed_Sales')\n",
    "indexed_sales"
   ]
  },
  {
   "cell_type": "code",
   "execution_count": 13,
   "metadata": {},
   "outputs": [
    {
     "data": {
      "text/plain": [
       "155"
      ]
     },
     "execution_count": 13,
     "metadata": {},
     "output_type": "execute_result"
    }
   ],
   "source": [
    "# can call row value based on the index string\n",
    "indexed_sales['tea']"
   ]
  },
  {
   "cell_type": "code",
   "execution_count": 14,
   "metadata": {},
   "outputs": [
    {
     "name": "stdout",
     "output_type": "stream",
     "text": [
      "\n",
      "using Index name does include stop point which is coconut\n",
      "bananas      5\n",
      "tea        155\n",
      "coconut      0\n",
      "Name: Indexed_Sales, dtype: int64\n",
      "\n",
      "using Index Integer does not include stop point which is coconut\n",
      "bananas      5\n",
      "tea        155\n",
      "Name: Indexed_Sales, dtype: int64\n"
     ]
    }
   ],
   "source": [
    "# when slicing using index labels, the stop point is included, however numeric index the stop is no included\n",
    "print()\n",
    "print('using Index name does include stop point which is coconut')\n",
    "print(indexed_sales['bananas':'coconut'])\n",
    "print()\n",
    "print('using Index Integer does not include stop point which is coconut')\n",
    "print(indexed_sales[1:3])"
   ]
  },
  {
   "cell_type": "markdown",
   "metadata": {},
   "source": [
    "##### <b> .iloc[] Method </b></br> Preferred method to access values by positional index (using numeric) </br> - Method works even when Series have custom non-integer index </br> - more efficient </br> &nbsp;&nbsp; Series: seriesname.iloc[row position] </br> &nbsp;&nbsp; Dataframe: dataframename.iloc[row position, column position]"
   ]
  },
  {
   "cell_type": "code",
   "execution_count": 15,
   "metadata": {},
   "outputs": [
    {
     "name": "stdout",
     "output_type": "stream",
     "text": [
      "\n",
      "Single Index iloc[] Call\n",
      "155\n",
      "\n",
      "Index slice iloc[] Call\n",
      "tea        155\n",
      "coconut      0\n",
      "Name: Indexed_Sales, dtype: int64\n",
      "\n",
      "specific Indices iloc[] Call which requires nested list\n",
      "coffee      0\n",
      "tea       155\n",
      "sugar     518\n",
      "Name: Indexed_Sales, dtype: int64\n",
      "\n",
      "Last Index iloc[] Call\n",
      "518\n",
      "\n",
      "Reverse series Index iloc[] Call\n",
      "sugar      518\n",
      "coconut      0\n",
      "tea        155\n",
      "bananas      5\n",
      "coffee       0\n",
      "Name: Indexed_Sales, dtype: int64\n"
     ]
    }
   ],
   "source": [
    "# can call row value using the iloc[] accessor \n",
    "print()\n",
    "print('Single Index iloc[] Call')\n",
    "print(indexed_sales.iloc[2])\n",
    "print()\n",
    "print('Index slice iloc[] Call')\n",
    "print(indexed_sales.iloc[2:4])\n",
    "print()\n",
    "print('specific Indices iloc[] Call which requires nested list')\n",
    "print(indexed_sales.iloc[[0, 2, 4]]) # require nested list to work\n",
    "print()\n",
    "print('Last Index iloc[] Call')\n",
    "print(indexed_sales.iloc[-1]) \n",
    "print()\n",
    "print('Reverse series Index iloc[] Call')\n",
    "print(indexed_sales.iloc[::-1])"
   ]
  },
  {
   "cell_type": "markdown",
   "metadata": {},
   "source": [
    "##### <b> .loc[] Method </b></br> Preferred method to access values by their custom labels </br> &nbsp;&nbsp; seriesname.loc[row label] </br> &nbsp;&nbsp; dataframename.loc[row label, column label] </br> - If row indices are numeric and default, loc[] method can use index number with column label"
   ]
  },
  {
   "cell_type": "code",
   "execution_count": 16,
   "metadata": {},
   "outputs": [
    {
     "name": "stdout",
     "output_type": "stream",
     "text": [
      "\n",
      "Single Index loc[] Call\n",
      "0\n",
      "\n",
      "Single Index loc[] Call\n",
      "coffee       0\n",
      "bananas      5\n",
      "tea        155\n",
      "coconut      0\n",
      "Name: Indexed_Sales, dtype: int64\n"
     ]
    }
   ],
   "source": [
    "# can call row value using the loc[] accessor \n",
    "print()\n",
    "print('Single Index loc[] Call')\n",
    "print(indexed_sales.loc['coconut'])\n",
    "print()\n",
    "print('Single Index loc[] Call')\n",
    "print(indexed_sales.loc['coffee':'coconut'])"
   ]
  },
  {
   "cell_type": "markdown",
   "metadata": {},
   "source": [
    "##### <b>  Duplicate Index Values </b></br> Possible to have duplicate Index values in Pandas Series/Dataframe </br>- DO NOT SET DUPLICATE INDEX VALUES - </br> - accessing these indices using label .iloc[] returns all corresponding rows"
   ]
  },
  {
   "cell_type": "code",
   "execution_count": 17,
   "metadata": {},
   "outputs": [
    {
     "data": {
      "text/plain": [
       "coffee       0\n",
       "coffee       5\n",
       "tea        155\n",
       "coconut      0\n",
       "sugar      518\n",
       "Name: Duplicate_Index, dtype: int64"
      ]
     },
     "execution_count": 17,
     "metadata": {},
     "output_type": "execute_result"
    }
   ],
   "source": [
    "# assigning list of values which includes a duplicate value. \n",
    "#####################################\n",
    "# DO NOT SET DUPLICATE INDEX VALUES\n",
    "#####################################\n",
    "sales1 = [0, 5, 155, 0, 518]\n",
    "items1 = ['coffee', 'coffee', 'tea', 'coconut', 'sugar']\n",
    "# assigning items to the indexed_sales index column values\n",
    "duplicate_index = pd.Series(sales1, index=items1, name='Duplicate_Index')\n",
    "duplicate_index"
   ]
  },
  {
   "cell_type": "markdown",
   "metadata": {},
   "source": [
    "##### <b>  Reseeting Index Values </b></br> Can reset index back to default range of integers using .reset_index() method </br> - by default, existing index will become new column in dataframe"
   ]
  },
  {
   "cell_type": "code",
   "execution_count": 18,
   "metadata": {},
   "outputs": [
    {
     "data": {
      "text/html": [
       "<div>\n",
       "<style scoped>\n",
       "    .dataframe tbody tr th:only-of-type {\n",
       "        vertical-align: middle;\n",
       "    }\n",
       "\n",
       "    .dataframe tbody tr th {\n",
       "        vertical-align: top;\n",
       "    }\n",
       "\n",
       "    .dataframe thead th {\n",
       "        text-align: right;\n",
       "    }\n",
       "</style>\n",
       "<table border=\"1\" class=\"dataframe\">\n",
       "  <thead>\n",
       "    <tr style=\"text-align: right;\">\n",
       "      <th></th>\n",
       "      <th>index</th>\n",
       "      <th>Duplicate_Index</th>\n",
       "    </tr>\n",
       "  </thead>\n",
       "  <tbody>\n",
       "    <tr>\n",
       "      <th>0</th>\n",
       "      <td>coffee</td>\n",
       "      <td>0</td>\n",
       "    </tr>\n",
       "    <tr>\n",
       "      <th>1</th>\n",
       "      <td>coffee</td>\n",
       "      <td>5</td>\n",
       "    </tr>\n",
       "    <tr>\n",
       "      <th>2</th>\n",
       "      <td>tea</td>\n",
       "      <td>155</td>\n",
       "    </tr>\n",
       "    <tr>\n",
       "      <th>3</th>\n",
       "      <td>coconut</td>\n",
       "      <td>0</td>\n",
       "    </tr>\n",
       "    <tr>\n",
       "      <th>4</th>\n",
       "      <td>sugar</td>\n",
       "      <td>518</td>\n",
       "    </tr>\n",
       "  </tbody>\n",
       "</table>\n",
       "</div>"
      ],
      "text/plain": [
       "     index  Duplicate_Index\n",
       "0   coffee                0\n",
       "1   coffee                5\n",
       "2      tea              155\n",
       "3  coconut                0\n",
       "4    sugar              518"
      ]
     },
     "execution_count": 18,
     "metadata": {},
     "output_type": "execute_result"
    }
   ],
   "source": [
    "#in series it will become a dataframe as default for deafault .reset_index()\n",
    "duplicate_index.reset_index()"
   ]
  },
  {
   "cell_type": "code",
   "execution_count": 19,
   "metadata": {},
   "outputs": [
    {
     "data": {
      "text/plain": [
       "0      0\n",
       "1      5\n",
       "2    155\n",
       "3      0\n",
       "4    518\n",
       "Name: Duplicate_Index, dtype: int64"
      ]
     },
     "execution_count": 19,
     "metadata": {},
     "output_type": "execute_result"
    }
   ],
   "source": [
    "# including drop=True, the index will reset and not include the previous index \n",
    "duplicate_index.reset_index(drop=True)"
   ]
  },
  {
   "cell_type": "code",
   "execution_count": 20,
   "metadata": {},
   "outputs": [
    {
     "data": {
      "text/plain": [
       "2    155\n",
       "3      0\n",
       "4    518\n",
       "Name: Duplicate_Index, dtype: int64"
      ]
     },
     "execution_count": 20,
     "metadata": {},
     "output_type": "execute_result"
    }
   ],
   "source": [
    "# reset index in call series row indices\n",
    "duplicate_index.reset_index(drop=True).loc[2:4]\n"
   ]
  },
  {
   "cell_type": "code",
   "execution_count": 21,
   "metadata": {},
   "outputs": [
    {
     "data": {
      "text/plain": [
       "0      0\n",
       "1      5\n",
       "2    155\n",
       "3      0\n",
       "4    518\n",
       "Name: Duplicate_Index, dtype: int64"
      ]
     },
     "execution_count": 21,
     "metadata": {},
     "output_type": "execute_result"
    }
   ],
   "source": [
    "duplicate_index.reset_index(drop=True, inplace=True)\n",
    "duplicate_index"
   ]
  }
 ],
 "metadata": {
  "kernelspec": {
   "display_name": "base",
   "language": "python",
   "name": "python3"
  },
  "language_info": {
   "codemirror_mode": {
    "name": "ipython",
    "version": 3
   },
   "file_extension": ".py",
   "mimetype": "text/x-python",
   "name": "python",
   "nbconvert_exporter": "python",
   "pygments_lexer": "ipython3",
   "version": "3.11.9"
  }
 },
 "nbformat": 4,
 "nbformat_minor": 2
}
