{
 "cells": [
  {
   "cell_type": "markdown",
   "metadata": {},
   "source": [
    "##### <b> Pandas Series </b></br> - Series is equivalent to a column of data"
   ]
  },
  {
   "cell_type": "code",
   "execution_count": 2,
   "metadata": {},
   "outputs": [],
   "source": [
    "import numpy as np\n",
    "import pandas as pd"
   ]
  },
  {
   "cell_type": "markdown",
   "metadata": {},
   "source": [
    "##### <b> Series are Pandas data structures built on top of NumPy arrays</b></br> - Series contain index and optional name with array of data </br> - Can be created from other data types, usually imported </br> - Two or more series grouped together form Pandas Dataframe"
   ]
  },
  {
   "cell_type": "code",
   "execution_count": 3,
   "metadata": {},
   "outputs": [
    {
     "data": {
      "text/plain": [
       "0       0\n",
       "1       5\n",
       "2     155\n",
       "3       0\n",
       "4     518\n",
       "5    1827\n",
       "6     616\n",
       "7     317\n",
       "8     325\n",
       "Name: Sales, dtype: int64"
      ]
     },
     "execution_count": 3,
     "metadata": {},
     "output_type": "execute_result"
    }
   ],
   "source": [
    "# create list of integers\n",
    "sales = [0, 5, 155, 0, 518, 1827, 616, 317, 325]\n",
    "\n",
    "# convert to Pandas Series\n",
    "sales_series = pd.Series(sales, name=\"Sales\") # name will give hte column a header when joining or appending to other dataframes/series\n",
    "\n",
    "sales_series"
   ]
  },
  {
   "cell_type": "markdown",
   "metadata": {},
   "source": [
    "##### <b> Pandas Series have these key properties</b></br> - values: data array in the series </br> - index: index array in the series </br> - name: optional name for the serise (useful for accessing columns)</br> - dtype: dataype of elements in the values array"
   ]
  }
 ],
 "metadata": {
  "kernelspec": {
   "display_name": "base",
   "language": "python",
   "name": "python3"
  },
  "language_info": {
   "codemirror_mode": {
    "name": "ipython",
    "version": 3
   },
   "file_extension": ".py",
   "mimetype": "text/x-python",
   "name": "python",
   "nbconvert_exporter": "python",
   "pygments_lexer": "ipython3",
   "version": "3.11.9"
  }
 },
 "nbformat": 4,
 "nbformat_minor": 2
}
